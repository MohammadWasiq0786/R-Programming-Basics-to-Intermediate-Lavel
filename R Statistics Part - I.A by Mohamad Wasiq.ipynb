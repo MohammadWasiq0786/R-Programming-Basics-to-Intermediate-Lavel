{
 "cells": [
  {
   "cell_type": "markdown",
   "id": "20fb9d66",
   "metadata": {},
   "source": [
    "# Introduction to R Programming Basic To Advance\n",
    "**R** is a programming language .\n",
    "<br>It is free and can be downloaded from intenet:\n",
    "   http://cran.r-project.org.\n",
    "<br>It doesn\"t require internet .\n",
    "<br>It’s has very powerful graphics capabilities *(ggplot2)*.\n",
    "<br>It’s has a large no. of libraries and packages.\n",
    "<br> It’s widely use for **Statistics , Data Science , Data Ananlysis  Machine Learning , Artificial Intelligence , Deep Learning**\n",
    "<br>It’s also used as calculator .\n",
    "## Naming an object in R\n",
    "Some examples of valid and invalid names are given below:\n",
    "<br>$\\bullet$ a1 is valid\n",
    "<br>$\\bullet$ 1a is not valid as it starts wih numeric\n",
    "<br>$\\bullet$ A12_5 is valid\n",
    "<br>$\\bullet$ ZainlAbedeen is valid\n",
    "<br>$\\bullet$ Zainl Abedeen is not valid as fractured names are not allowed.\n",
    "<br>$\\bullet$ ZainlAbedeen <- 5 is valid\n",
    "<br>$\\bullet$ Zainl_Abedeen <- 5 is valid"
   ]
  },
  {
   "cell_type": "markdown",
   "id": "00b07190",
   "metadata": {},
   "source": [
    "# R as Calculator\n",
    "Anything that can be computed on a pocket calculator can be computed at R prompt.The basic operations are **+ (add), - (subtract), *(multiply) and / (divide)**."
   ]
  },
  {
   "cell_type": "code",
   "execution_count": 6,
   "id": "d1cd7a27",
   "metadata": {},
   "outputs": [
    {
     "name": "stdout",
     "output_type": "stream",
     "text": [
      "[1] \"a=300 , b=400\"\n",
      "[1] \"Addition of two num= 700\"\n",
      "[1] \"Subtraction of two number= -100\"\n",
      "[1] \"Multiplication of two number= 120000\"\n",
      "[1] \"Dividation of two number= 0.75\"\n",
      "[1] \"We can also done it by assigning the vector\"\n",
      "[1] \"Addition of two num= 700\"\n",
      "[1] \"Subtraction of two number= 100\"\n",
      "[1] \"Multiplication of two number= 120000\"\n",
      "[1] \"Dividation of two number= 1.33333333333333\"\n",
      "[1] \"Power of two number= Inf\"\n",
      "[1] \"Modular of two number= 100\"\n",
      "[1] \"Integer of two number= 1\"\n"
     ]
    }
   ],
   "source": [
    "print(paste(\"a=300 , b=400\"))\n",
    "# To Add\n",
    "print(paste(\"Addition of two num=\",300+400))\n",
    "# To Subtract\n",
    "print(paste(\"Subtraction of two number=\",300-400))\n",
    "# To Multiplication\n",
    "print(paste(\"Multiplication of two number=\",300*400))\n",
    "# To Divide\n",
    "print(paste(\"Dividation of two number=\",300/400))\n",
    "print(\"We can also done it by assigning the vector\")\n",
    "# We can also done it by assigning the vector\n",
    "a=400  \n",
    "b=300\n",
    "print(paste(\"Addition of two num=\",a+b))\n",
    "print(paste(\"Subtraction of two number=\",a-b))\n",
    "print(paste(\"Multiplication of two number=\",a*b))\n",
    "print(paste(\"Dividation of two number=\",a/b))\n",
    "# To compute the power : a^b OR a ^ b\n",
    "print(paste(\"Power of two number=\",a^b))\n",
    "# To compute the Modular : a %% b  OR a%%b\n",
    "print(paste(\"Modular of two number=\",a %% b))\n",
    "# To compute the Integer : a %/% b # OR a%/%b\n",
    "print(paste(\"Integer of two number=\",a %/% b))"
   ]
  },
  {
   "cell_type": "markdown",
   "id": "52763654",
   "metadata": {},
   "source": [
    "## Creating a Vector – c() & Arithmetic Operations on Vectors\n",
    "If we want to assign more than one value than we write it as **C($x_1,x_2,......,x_n$)**, where c is combine"
   ]
  },
  {
   "cell_type": "code",
   "execution_count": 8,
   "id": "52c5f955",
   "metadata": {},
   "outputs": [
    {
     "data": {
      "text/html": [
       "<ol class=list-inline>\n",
       "\t<li>5</li>\n",
       "\t<li>4</li>\n",
       "\t<li>3</li>\n",
       "\t<li>1</li>\n",
       "\t<li>4</li>\n",
       "</ol>\n"
      ],
      "text/latex": [
       "\\begin{enumerate*}\n",
       "\\item 5\n",
       "\\item 4\n",
       "\\item 3\n",
       "\\item 1\n",
       "\\item 4\n",
       "\\end{enumerate*}\n"
      ],
      "text/markdown": [
       "1. 5\n",
       "2. 4\n",
       "3. 3\n",
       "4. 1\n",
       "5. 4\n",
       "\n",
       "\n"
      ],
      "text/plain": [
       "[1] 5 4 3 1 4"
      ]
     },
     "metadata": {},
     "output_type": "display_data"
    }
   ],
   "source": [
    "# Let us define a vector x as\n",
    "x=c(5,4,3,1,4) # define x vector\n",
    "x"
   ]
  },
  {
   "cell_type": "code",
   "execution_count": 9,
   "id": "28f4a6b8",
   "metadata": {},
   "outputs": [
    {
     "data": {
      "text/html": [
       "5"
      ],
      "text/latex": [
       "5"
      ],
      "text/markdown": [
       "5"
      ],
      "text/plain": [
       "[1] 5"
      ]
     },
     "metadata": {},
     "output_type": "display_data"
    }
   ],
   "source": [
    "length(x) # length of x / No. of elements in x"
   ]
  },
  {
   "cell_type": "code",
   "execution_count": 10,
   "id": "cacbf12c",
   "metadata": {},
   "outputs": [
    {
     "data": {
      "text/html": [
       "17"
      ],
      "text/latex": [
       "17"
      ],
      "text/markdown": [
       "17"
      ],
      "text/plain": [
       "[1] 17"
      ]
     },
     "metadata": {},
     "output_type": "display_data"
    }
   ],
   "source": [
    "sum(x) # sum of elements"
   ]
  },
  {
   "cell_type": "code",
   "execution_count": 11,
   "id": "4517c350",
   "metadata": {},
   "outputs": [
    {
     "data": {
      "text/html": [
       "67"
      ],
      "text/latex": [
       "67"
      ],
      "text/markdown": [
       "67"
      ],
      "text/plain": [
       "[1] 67"
      ]
     },
     "metadata": {},
     "output_type": "display_data"
    }
   ],
   "source": [
    "sum(x^2) # sum of squares"
   ]
  },
  {
   "cell_type": "code",
   "execution_count": 12,
   "id": "a5aa5347",
   "metadata": {},
   "outputs": [
    {
     "data": {
      "text/html": [
       "<ol class=list-inline>\n",
       "\t<li>2.23606797749979</li>\n",
       "\t<li>2</li>\n",
       "\t<li>1.73205080756888</li>\n",
       "\t<li>1</li>\n",
       "\t<li>2</li>\n",
       "</ol>\n"
      ],
      "text/latex": [
       "\\begin{enumerate*}\n",
       "\\item 2.23606797749979\n",
       "\\item 2\n",
       "\\item 1.73205080756888\n",
       "\\item 1\n",
       "\\item 2\n",
       "\\end{enumerate*}\n"
      ],
      "text/markdown": [
       "1. 2.23606797749979\n",
       "2. 2\n",
       "3. 1.73205080756888\n",
       "4. 1\n",
       "5. 2\n",
       "\n",
       "\n"
      ],
      "text/plain": [
       "[1] 2.236068 2.000000 1.732051 1.000000 2.000000"
      ]
     },
     "metadata": {},
     "output_type": "display_data"
    }
   ],
   "source": [
    "sqrt(x) # square root of x"
   ]
  },
  {
   "cell_type": "code",
   "execution_count": 13,
   "id": "e68484b8",
   "metadata": {},
   "outputs": [
    {
     "data": {
      "text/html": [
       "<ol class=list-inline>\n",
       "\t<li>1.6094379124341</li>\n",
       "\t<li>1.38629436111989</li>\n",
       "\t<li>1.09861228866811</li>\n",
       "\t<li>0</li>\n",
       "\t<li>1.38629436111989</li>\n",
       "</ol>\n"
      ],
      "text/latex": [
       "\\begin{enumerate*}\n",
       "\\item 1.6094379124341\n",
       "\\item 1.38629436111989\n",
       "\\item 1.09861228866811\n",
       "\\item 0\n",
       "\\item 1.38629436111989\n",
       "\\end{enumerate*}\n"
      ],
      "text/markdown": [
       "1. 1.6094379124341\n",
       "2. 1.38629436111989\n",
       "3. 1.09861228866811\n",
       "4. 0\n",
       "5. 1.38629436111989\n",
       "\n",
       "\n"
      ],
      "text/plain": [
       "[1] 1.609438 1.386294 1.098612 0.000000 1.386294"
      ]
     },
     "metadata": {},
     "output_type": "display_data"
    }
   ],
   "source": [
    "log(x) # log of x with base e"
   ]
  },
  {
   "cell_type": "code",
   "execution_count": 14,
   "id": "9b51cbb3",
   "metadata": {},
   "outputs": [
    {
     "data": {
      "text/html": [
       "<ol class=list-inline>\n",
       "\t<li>0.698970004336019</li>\n",
       "\t<li>0.602059991327962</li>\n",
       "\t<li>0.477121254719662</li>\n",
       "\t<li>0</li>\n",
       "\t<li>0.602059991327962</li>\n",
       "</ol>\n"
      ],
      "text/latex": [
       "\\begin{enumerate*}\n",
       "\\item 0.698970004336019\n",
       "\\item 0.602059991327962\n",
       "\\item 0.477121254719662\n",
       "\\item 0\n",
       "\\item 0.602059991327962\n",
       "\\end{enumerate*}\n"
      ],
      "text/markdown": [
       "1. 0.698970004336019\n",
       "2. 0.602059991327962\n",
       "3. 0.477121254719662\n",
       "4. 0\n",
       "5. 0.602059991327962\n",
       "\n",
       "\n"
      ],
      "text/plain": [
       "[1] 0.6989700 0.6020600 0.4771213 0.0000000 0.6020600"
      ]
     },
     "metadata": {},
     "output_type": "display_data"
    }
   ],
   "source": [
    "log(x, base=10)# log of x with 10"
   ]
  },
  {
   "cell_type": "code",
   "execution_count": 15,
   "id": "d5ff700d",
   "metadata": {},
   "outputs": [
    {
     "data": {
      "text/html": [
       "<ol class=list-inline>\n",
       "\t<li>1</li>\n",
       "\t<li>0.861353116146786</li>\n",
       "\t<li>0.682606194485985</li>\n",
       "\t<li>0</li>\n",
       "\t<li>0.861353116146786</li>\n",
       "</ol>\n"
      ],
      "text/latex": [
       "\\begin{enumerate*}\n",
       "\\item 1\n",
       "\\item 0.861353116146786\n",
       "\\item 0.682606194485985\n",
       "\\item 0\n",
       "\\item 0.861353116146786\n",
       "\\end{enumerate*}\n"
      ],
      "text/markdown": [
       "1. 1\n",
       "2. 0.861353116146786\n",
       "3. 0.682606194485985\n",
       "4. 0\n",
       "5. 0.861353116146786\n",
       "\n",
       "\n"
      ],
      "text/plain": [
       "[1] 1.0000000 0.8613531 0.6826062 0.0000000 0.8613531"
      ]
     },
     "metadata": {},
     "output_type": "display_data"
    }
   ],
   "source": [
    "log(x, base=5) # log of x with 5"
   ]
  },
  {
   "cell_type": "code",
   "execution_count": 16,
   "id": "e733671b",
   "metadata": {},
   "outputs": [
    {
     "data": {
      "text/html": [
       "<ol class=list-inline>\n",
       "\t<li>0.2</li>\n",
       "\t<li>0.25</li>\n",
       "\t<li>0.333333333333333</li>\n",
       "\t<li>1</li>\n",
       "\t<li>0.25</li>\n",
       "</ol>\n"
      ],
      "text/latex": [
       "\\begin{enumerate*}\n",
       "\\item 0.2\n",
       "\\item 0.25\n",
       "\\item 0.333333333333333\n",
       "\\item 1\n",
       "\\item 0.25\n",
       "\\end{enumerate*}\n"
      ],
      "text/markdown": [
       "1. 0.2\n",
       "2. 0.25\n",
       "3. 0.333333333333333\n",
       "4. 1\n",
       "5. 0.25\n",
       "\n",
       "\n"
      ],
      "text/plain": [
       "[1] 0.2000000 0.2500000 0.3333333 1.0000000 0.2500000"
      ]
     },
     "metadata": {},
     "output_type": "display_data"
    }
   ],
   "source": [
    "1/x # inverse of x"
   ]
  },
  {
   "cell_type": "code",
   "execution_count": 17,
   "id": "4b9fdbb2",
   "metadata": {},
   "outputs": [
    {
     "data": {
      "text/html": [
       "<ol class=list-inline>\n",
       "\t<li>0.2</li>\n",
       "\t<li>0.25</li>\n",
       "\t<li>0.333333333333333</li>\n",
       "\t<li>1</li>\n",
       "\t<li>0.25</li>\n",
       "</ol>\n"
      ],
      "text/latex": [
       "\\begin{enumerate*}\n",
       "\\item 0.2\n",
       "\\item 0.25\n",
       "\\item 0.333333333333333\n",
       "\\item 1\n",
       "\\item 0.25\n",
       "\\end{enumerate*}\n"
      ],
      "text/markdown": [
       "1. 0.2\n",
       "2. 0.25\n",
       "3. 0.333333333333333\n",
       "4. 1\n",
       "5. 0.25\n",
       "\n",
       "\n"
      ],
      "text/plain": [
       "[1] 0.2000000 0.2500000 0.3333333 1.0000000 0.2500000"
      ]
     },
     "metadata": {},
     "output_type": "display_data"
    }
   ],
   "source": [
    "x^-1 # same as above"
   ]
  },
  {
   "cell_type": "code",
   "execution_count": 18,
   "id": "94915d7b",
   "metadata": {},
   "outputs": [
    {
     "data": {
      "text/html": [
       "<ol class=list-inline>\n",
       "\t<li>-0.958924274663138</li>\n",
       "\t<li>-0.756802495307928</li>\n",
       "\t<li>0.141120008059867</li>\n",
       "\t<li>0.841470984807897</li>\n",
       "\t<li>-0.756802495307928</li>\n",
       "</ol>\n"
      ],
      "text/latex": [
       "\\begin{enumerate*}\n",
       "\\item -0.958924274663138\n",
       "\\item -0.756802495307928\n",
       "\\item 0.141120008059867\n",
       "\\item 0.841470984807897\n",
       "\\item -0.756802495307928\n",
       "\\end{enumerate*}\n"
      ],
      "text/markdown": [
       "1. -0.958924274663138\n",
       "2. -0.756802495307928\n",
       "3. 0.141120008059867\n",
       "4. 0.841470984807897\n",
       "5. -0.756802495307928\n",
       "\n",
       "\n"
      ],
      "text/plain": [
       "[1] -0.9589243 -0.7568025  0.1411200  0.8414710 -0.7568025"
      ]
     },
     "metadata": {},
     "output_type": "display_data"
    }
   ],
   "source": [
    "sin(x) # sin of x"
   ]
  },
  {
   "cell_type": "code",
   "execution_count": 19,
   "id": "4634b8d9",
   "metadata": {},
   "outputs": [
    {
     "data": {
      "text/html": [
       "<ol class=list-inline>\n",
       "\t<li>0.283662185463226</li>\n",
       "\t<li>-0.653643620863612</li>\n",
       "\t<li>-0.989992496600445</li>\n",
       "\t<li>0.54030230586814</li>\n",
       "\t<li>-0.653643620863612</li>\n",
       "</ol>\n"
      ],
      "text/latex": [
       "\\begin{enumerate*}\n",
       "\\item 0.283662185463226\n",
       "\\item -0.653643620863612\n",
       "\\item -0.989992496600445\n",
       "\\item 0.54030230586814\n",
       "\\item -0.653643620863612\n",
       "\\end{enumerate*}\n"
      ],
      "text/markdown": [
       "1. 0.283662185463226\n",
       "2. -0.653643620863612\n",
       "3. -0.989992496600445\n",
       "4. 0.54030230586814\n",
       "5. -0.653643620863612\n",
       "\n",
       "\n"
      ],
      "text/plain": [
       "[1]  0.2836622 -0.6536436 -0.9899925  0.5403023 -0.6536436"
      ]
     },
     "metadata": {},
     "output_type": "display_data"
    }
   ],
   "source": [
    "cos(x) # cos of x"
   ]
  },
  {
   "cell_type": "code",
   "execution_count": 20,
   "id": "e615f4fb",
   "metadata": {},
   "outputs": [
    {
     "data": {
      "text/html": [
       "<ol class=list-inline>\n",
       "\t<li>-3.38051500624659</li>\n",
       "\t<li>1.15782128234958</li>\n",
       "\t<li>-0.142546543074278</li>\n",
       "\t<li>1.5574077246549</li>\n",
       "\t<li>1.15782128234958</li>\n",
       "</ol>\n"
      ],
      "text/latex": [
       "\\begin{enumerate*}\n",
       "\\item -3.38051500624659\n",
       "\\item 1.15782128234958\n",
       "\\item -0.142546543074278\n",
       "\\item 1.5574077246549\n",
       "\\item 1.15782128234958\n",
       "\\end{enumerate*}\n"
      ],
      "text/markdown": [
       "1. -3.38051500624659\n",
       "2. 1.15782128234958\n",
       "3. -0.142546543074278\n",
       "4. 1.5574077246549\n",
       "5. 1.15782128234958\n",
       "\n",
       "\n"
      ],
      "text/plain": [
       "[1] -3.3805150  1.1578213 -0.1425465  1.5574077  1.1578213"
      ]
     },
     "metadata": {},
     "output_type": "display_data"
    }
   ],
   "source": [
    "tan(x) # tan of x"
   ]
  },
  {
   "cell_type": "code",
   "execution_count": 21,
   "id": "266931be",
   "metadata": {},
   "outputs": [
    {
     "data": {
      "text/html": [
       "3.4"
      ],
      "text/latex": [
       "3.4"
      ],
      "text/markdown": [
       "3.4"
      ],
      "text/plain": [
       "[1] 3.4"
      ]
     },
     "metadata": {},
     "output_type": "display_data"
    }
   ],
   "source": [
    "mean(x) # mean of x"
   ]
  },
  {
   "cell_type": "code",
   "execution_count": 22,
   "id": "248895cd",
   "metadata": {},
   "outputs": [
    {
     "data": {
      "text/html": [
       "2.3"
      ],
      "text/latex": [
       "2.3"
      ],
      "text/markdown": [
       "2.3"
      ],
      "text/plain": [
       "[1] 2.3"
      ]
     },
     "metadata": {},
     "output_type": "display_data"
    }
   ],
   "source": [
    "var(x) # variance of x"
   ]
  },
  {
   "cell_type": "code",
   "execution_count": 23,
   "id": "31677a51",
   "metadata": {},
   "outputs": [
    {
     "data": {
      "text/html": [
       "2.3"
      ],
      "text/latex": [
       "2.3"
      ],
      "text/markdown": [
       "2.3"
      ],
      "text/plain": [
       "[1] 2.3"
      ]
     },
     "metadata": {},
     "output_type": "display_data"
    }
   ],
   "source": [
    "# variance using function 1\n",
    "sum((x-mean(x))^2) / (length(x)-1) "
   ]
  },
  {
   "cell_type": "code",
   "execution_count": 24,
   "id": "c8f1092e",
   "metadata": {},
   "outputs": [
    {
     "data": {
      "text/html": [
       "2.3"
      ],
      "text/latex": [
       "2.3"
      ],
      "text/markdown": [
       "2.3"
      ],
      "text/plain": [
       "[1] 2.3"
      ]
     },
     "metadata": {},
     "output_type": "display_data"
    }
   ],
   "source": [
    "#  variance using function 2\n",
    "(sum(x^2) - (length(x)*mean(x)^2)) /(length(x)-1) "
   ]
  },
  {
   "cell_type": "code",
   "execution_count": 25,
   "id": "efc209fd",
   "metadata": {},
   "outputs": [
    {
     "data": {
      "text/html": [
       "1.51657508881031"
      ],
      "text/latex": [
       "1.51657508881031"
      ],
      "text/markdown": [
       "1.51657508881031"
      ],
      "text/plain": [
       "[1] 1.516575"
      ]
     },
     "metadata": {},
     "output_type": "display_data"
    }
   ],
   "source": [
    "sd(x) # standard deviation of x"
   ]
  },
  {
   "cell_type": "code",
   "execution_count": 26,
   "id": "4d8fd764",
   "metadata": {},
   "outputs": [
    {
     "data": {
      "text/html": [
       "<ol class=list-inline>\n",
       "\t<li>6</li>\n",
       "\t<li>5</li>\n",
       "\t<li>4</li>\n",
       "\t<li>2</li>\n",
       "\t<li>5</li>\n",
       "</ol>\n"
      ],
      "text/latex": [
       "\\begin{enumerate*}\n",
       "\\item 6\n",
       "\\item 5\n",
       "\\item 4\n",
       "\\item 2\n",
       "\\item 5\n",
       "\\end{enumerate*}\n"
      ],
      "text/markdown": [
       "1. 6\n",
       "2. 5\n",
       "3. 4\n",
       "4. 2\n",
       "5. 5\n",
       "\n",
       "\n"
      ],
      "text/plain": [
       "[1] 6 5 4 2 5"
      ]
     },
     "metadata": {},
     "output_type": "display_data"
    }
   ],
   "source": [
    "# 1 will recycle up to the length of x andd add\n",
    "x+1 "
   ]
  },
  {
   "cell_type": "code",
   "execution_count": 27,
   "id": "0de7e214",
   "metadata": {},
   "outputs": [
    {
     "data": {
      "text/html": [
       "<ol class=list-inline>\n",
       "\t<li>10</li>\n",
       "\t<li>8</li>\n",
       "\t<li>6</li>\n",
       "\t<li>2</li>\n",
       "\t<li>8</li>\n",
       "</ol>\n"
      ],
      "text/latex": [
       "\\begin{enumerate*}\n",
       "\\item 10\n",
       "\\item 8\n",
       "\\item 6\n",
       "\\item 2\n",
       "\\item 8\n",
       "\\end{enumerate*}\n"
      ],
      "text/markdown": [
       "1. 10\n",
       "2. 8\n",
       "3. 6\n",
       "4. 2\n",
       "5. 8\n",
       "\n",
       "\n"
      ],
      "text/plain": [
       "[1] 10  8  6  2  8"
      ]
     },
     "metadata": {},
     "output_type": "display_data"
    }
   ],
   "source": [
    "# Multiply each element of x by 2\n",
    "2*x "
   ]
  },
  {
   "cell_type": "code",
   "execution_count": 28,
   "id": "144d6b32",
   "metadata": {},
   "outputs": [
    {
     "data": {
      "text/html": [
       "<ol class=list-inline>\n",
       "\t<li>1.79175946922805</li>\n",
       "\t<li>1.6094379124341</li>\n",
       "\t<li>1.38629436111989</li>\n",
       "\t<li>0.693147180559945</li>\n",
       "\t<li>1.6094379124341</li>\n",
       "</ol>\n"
      ],
      "text/latex": [
       "\\begin{enumerate*}\n",
       "\\item 1.79175946922805\n",
       "\\item 1.6094379124341\n",
       "\\item 1.38629436111989\n",
       "\\item 0.693147180559945\n",
       "\\item 1.6094379124341\n",
       "\\end{enumerate*}\n"
      ],
      "text/markdown": [
       "1. 1.79175946922805\n",
       "2. 1.6094379124341\n",
       "3. 1.38629436111989\n",
       "4. 0.693147180559945\n",
       "5. 1.6094379124341\n",
       "\n",
       "\n"
      ],
      "text/plain": [
       "[1] 1.7917595 1.6094379 1.3862944 0.6931472 1.6094379"
      ]
     },
     "metadata": {},
     "output_type": "display_data"
    }
   ],
   "source": [
    "# Log of x+1\n",
    "log(x+1)"
   ]
  },
  {
   "cell_type": "code",
   "execution_count": 29,
   "id": "6e293205",
   "metadata": {},
   "outputs": [
    {
     "data": {
      "text/html": [
       "<ol class=list-inline>\n",
       "\t<li>-0.54402111088937</li>\n",
       "\t<li>0.989358246623382</li>\n",
       "\t<li>-0.279415498198926</li>\n",
       "\t<li>0.909297426825682</li>\n",
       "\t<li>0.989358246623382</li>\n",
       "</ol>\n"
      ],
      "text/latex": [
       "\\begin{enumerate*}\n",
       "\\item -0.54402111088937\n",
       "\\item 0.989358246623382\n",
       "\\item -0.279415498198926\n",
       "\\item 0.909297426825682\n",
       "\\item 0.989358246623382\n",
       "\\end{enumerate*}\n"
      ],
      "text/markdown": [
       "1. -0.54402111088937\n",
       "2. 0.989358246623382\n",
       "3. -0.279415498198926\n",
       "4. 0.909297426825682\n",
       "5. 0.989358246623382\n",
       "\n",
       "\n"
      ],
      "text/plain": [
       "[1] -0.5440211  0.9893582 -0.2794155  0.9092974  0.9893582"
      ]
     },
     "metadata": {},
     "output_type": "display_data"
    }
   ],
   "source": [
    "# sin of 2*x\n",
    "sin(2*x)"
   ]
  },
  {
   "cell_type": "code",
   "execution_count": 30,
   "id": "8cc5f66c",
   "metadata": {},
   "outputs": [
    {
     "data": {
      "text/html": [
       "<ol class=list-inline>\n",
       "\t<li>70</li>\n",
       "\t<li>49</li>\n",
       "\t<li>32</li>\n",
       "\t<li>10</li>\n",
       "\t<li>49</li>\n",
       "</ol>\n"
      ],
      "text/latex": [
       "\\begin{enumerate*}\n",
       "\\item 70\n",
       "\\item 49\n",
       "\\item 32\n",
       "\\item 10\n",
       "\\item 49\n",
       "\\end{enumerate*}\n"
      ],
      "text/markdown": [
       "1. 70\n",
       "2. 49\n",
       "3. 32\n",
       "4. 10\n",
       "5. 49\n",
       "\n",
       "\n"
      ],
      "text/plain": [
       "[1] 70 49 32 10 49"
      ]
     },
     "metadata": {},
     "output_type": "display_data"
    }
   ],
   "source": [
    "# Solution of Equation\n",
    "y=2*x^2+3*x+5\n",
    "y"
   ]
  },
  {
   "cell_type": "markdown",
   "id": "c3db5c53",
   "metadata": {},
   "source": [
    "## Sequencing in R– ‘seq()’\n",
    "In R we use **seq(a, b, by=?)** function or a:b for sequencing"
   ]
  },
  {
   "cell_type": "code",
   "execution_count": 31,
   "id": "4704e490",
   "metadata": {},
   "outputs": [
    {
     "data": {
      "text/html": [
       "<ol class=list-inline>\n",
       "\t<li>10</li>\n",
       "\t<li>10.5</li>\n",
       "\t<li>11</li>\n",
       "\t<li>11.5</li>\n",
       "\t<li>12</li>\n",
       "\t<li>12.5</li>\n",
       "\t<li>13</li>\n",
       "\t<li>13.5</li>\n",
       "\t<li>14</li>\n",
       "\t<li>14.5</li>\n",
       "\t<li>15</li>\n",
       "\t<li>15.5</li>\n",
       "\t<li>16</li>\n",
       "\t<li>16.5</li>\n",
       "\t<li>17</li>\n",
       "\t<li>17.5</li>\n",
       "\t<li>18</li>\n",
       "\t<li>18.5</li>\n",
       "\t<li>19</li>\n",
       "\t<li>19.5</li>\n",
       "\t<li>20</li>\n",
       "</ol>\n"
      ],
      "text/latex": [
       "\\begin{enumerate*}\n",
       "\\item 10\n",
       "\\item 10.5\n",
       "\\item 11\n",
       "\\item 11.5\n",
       "\\item 12\n",
       "\\item 12.5\n",
       "\\item 13\n",
       "\\item 13.5\n",
       "\\item 14\n",
       "\\item 14.5\n",
       "\\item 15\n",
       "\\item 15.5\n",
       "\\item 16\n",
       "\\item 16.5\n",
       "\\item 17\n",
       "\\item 17.5\n",
       "\\item 18\n",
       "\\item 18.5\n",
       "\\item 19\n",
       "\\item 19.5\n",
       "\\item 20\n",
       "\\end{enumerate*}\n"
      ],
      "text/markdown": [
       "1. 10\n",
       "2. 10.5\n",
       "3. 11\n",
       "4. 11.5\n",
       "5. 12\n",
       "6. 12.5\n",
       "7. 13\n",
       "8. 13.5\n",
       "9. 14\n",
       "10. 14.5\n",
       "11. 15\n",
       "12. 15.5\n",
       "13. 16\n",
       "14. 16.5\n",
       "15. 17\n",
       "16. 17.5\n",
       "17. 18\n",
       "18. 18.5\n",
       "19. 19\n",
       "20. 19.5\n",
       "21. 20\n",
       "\n",
       "\n"
      ],
      "text/plain": [
       " [1] 10.0 10.5 11.0 11.5 12.0 12.5 13.0 13.5 14.0 14.5 15.0 15.5 16.0 16.5 17.0\n",
       "[16] 17.5 18.0 18.5 19.0 19.5 20.0"
      ]
     },
     "metadata": {},
     "output_type": "display_data"
    }
   ],
   "source": [
    "# sequence from 10 to 20 by 0.5\n",
    "seq(10, 20,  by=0.5 )"
   ]
  },
  {
   "cell_type": "code",
   "execution_count": 32,
   "id": "bdad6545",
   "metadata": {},
   "outputs": [
    {
     "data": {
      "text/html": [
       "<ol class=list-inline>\n",
       "\t<li>1</li>\n",
       "\t<li>2</li>\n",
       "\t<li>3</li>\n",
       "\t<li>4</li>\n",
       "\t<li>5</li>\n",
       "\t<li>6</li>\n",
       "\t<li>7</li>\n",
       "\t<li>8</li>\n",
       "\t<li>9</li>\n",
       "\t<li>10</li>\n",
       "\t<li>11</li>\n",
       "\t<li>12</li>\n",
       "\t<li>13</li>\n",
       "\t<li>14</li>\n",
       "\t<li>15</li>\n",
       "\t<li>16</li>\n",
       "\t<li>17</li>\n",
       "\t<li>18</li>\n",
       "\t<li>19</li>\n",
       "\t<li>20</li>\n",
       "\t<li>21</li>\n",
       "\t<li>22</li>\n",
       "\t<li>23</li>\n",
       "\t<li>24</li>\n",
       "\t<li>25</li>\n",
       "\t<li>26</li>\n",
       "\t<li>27</li>\n",
       "\t<li>28</li>\n",
       "\t<li>29</li>\n",
       "\t<li>30</li>\n",
       "</ol>\n"
      ],
      "text/latex": [
       "\\begin{enumerate*}\n",
       "\\item 1\n",
       "\\item 2\n",
       "\\item 3\n",
       "\\item 4\n",
       "\\item 5\n",
       "\\item 6\n",
       "\\item 7\n",
       "\\item 8\n",
       "\\item 9\n",
       "\\item 10\n",
       "\\item 11\n",
       "\\item 12\n",
       "\\item 13\n",
       "\\item 14\n",
       "\\item 15\n",
       "\\item 16\n",
       "\\item 17\n",
       "\\item 18\n",
       "\\item 19\n",
       "\\item 20\n",
       "\\item 21\n",
       "\\item 22\n",
       "\\item 23\n",
       "\\item 24\n",
       "\\item 25\n",
       "\\item 26\n",
       "\\item 27\n",
       "\\item 28\n",
       "\\item 29\n",
       "\\item 30\n",
       "\\end{enumerate*}\n"
      ],
      "text/markdown": [
       "1. 1\n",
       "2. 2\n",
       "3. 3\n",
       "4. 4\n",
       "5. 5\n",
       "6. 6\n",
       "7. 7\n",
       "8. 8\n",
       "9. 9\n",
       "10. 10\n",
       "11. 11\n",
       "12. 12\n",
       "13. 13\n",
       "14. 14\n",
       "15. 15\n",
       "16. 16\n",
       "17. 17\n",
       "18. 18\n",
       "19. 19\n",
       "20. 20\n",
       "21. 21\n",
       "22. 22\n",
       "23. 23\n",
       "24. 24\n",
       "25. 25\n",
       "26. 26\n",
       "27. 27\n",
       "28. 28\n",
       "29. 29\n",
       "30. 30\n",
       "\n",
       "\n"
      ],
      "text/plain": [
       " [1]  1  2  3  4  5  6  7  8  9 10 11 12 13 14 15 16 17 18 19 20 21 22 23 24 25\n",
       "[26] 26 27 28 29 30"
      ]
     },
     "metadata": {},
     "output_type": "display_data"
    }
   ],
   "source": [
    "x1<-seq(from=1,to=30,by=1)\n",
    "x1"
   ]
  },
  {
   "cell_type": "code",
   "execution_count": 33,
   "id": "084a20de",
   "metadata": {},
   "outputs": [
    {
     "data": {
      "text/html": [
       "<ol class=list-inline>\n",
       "\t<li>30</li>\n",
       "\t<li>29</li>\n",
       "\t<li>28</li>\n",
       "\t<li>27</li>\n",
       "\t<li>26</li>\n",
       "\t<li>25</li>\n",
       "\t<li>24</li>\n",
       "\t<li>23</li>\n",
       "\t<li>22</li>\n",
       "\t<li>21</li>\n",
       "\t<li>20</li>\n",
       "\t<li>19</li>\n",
       "\t<li>18</li>\n",
       "\t<li>17</li>\n",
       "\t<li>16</li>\n",
       "\t<li>15</li>\n",
       "\t<li>14</li>\n",
       "\t<li>13</li>\n",
       "\t<li>12</li>\n",
       "\t<li>11</li>\n",
       "\t<li>10</li>\n",
       "\t<li>9</li>\n",
       "\t<li>8</li>\n",
       "\t<li>7</li>\n",
       "\t<li>6</li>\n",
       "\t<li>5</li>\n",
       "\t<li>4</li>\n",
       "\t<li>3</li>\n",
       "\t<li>2</li>\n",
       "\t<li>1</li>\n",
       "</ol>\n"
      ],
      "text/latex": [
       "\\begin{enumerate*}\n",
       "\\item 30\n",
       "\\item 29\n",
       "\\item 28\n",
       "\\item 27\n",
       "\\item 26\n",
       "\\item 25\n",
       "\\item 24\n",
       "\\item 23\n",
       "\\item 22\n",
       "\\item 21\n",
       "\\item 20\n",
       "\\item 19\n",
       "\\item 18\n",
       "\\item 17\n",
       "\\item 16\n",
       "\\item 15\n",
       "\\item 14\n",
       "\\item 13\n",
       "\\item 12\n",
       "\\item 11\n",
       "\\item 10\n",
       "\\item 9\n",
       "\\item 8\n",
       "\\item 7\n",
       "\\item 6\n",
       "\\item 5\n",
       "\\item 4\n",
       "\\item 3\n",
       "\\item 2\n",
       "\\item 1\n",
       "\\end{enumerate*}\n"
      ],
      "text/markdown": [
       "1. 30\n",
       "2. 29\n",
       "3. 28\n",
       "4. 27\n",
       "5. 26\n",
       "6. 25\n",
       "7. 24\n",
       "8. 23\n",
       "9. 22\n",
       "10. 21\n",
       "11. 20\n",
       "12. 19\n",
       "13. 18\n",
       "14. 17\n",
       "15. 16\n",
       "16. 15\n",
       "17. 14\n",
       "18. 13\n",
       "19. 12\n",
       "20. 11\n",
       "21. 10\n",
       "22. 9\n",
       "23. 8\n",
       "24. 7\n",
       "25. 6\n",
       "26. 5\n",
       "27. 4\n",
       "28. 3\n",
       "29. 2\n",
       "30. 1\n",
       "\n",
       "\n"
      ],
      "text/plain": [
       " [1] 30 29 28 27 26 25 24 23 22 21 20 19 18 17 16 15 14 13 12 11 10  9  8  7  6\n",
       "[26]  5  4  3  2  1"
      ]
     },
     "metadata": {},
     "output_type": "display_data"
    }
   ],
   "source": [
    "# Reverce Sequence from 30 to 1\n",
    "rx1=seq(from=30,to=1)\n",
    "rx1"
   ]
  },
  {
   "cell_type": "code",
   "execution_count": 34,
   "id": "07553cec",
   "metadata": {},
   "outputs": [
    {
     "data": {
      "text/html": [
       "<ol class=list-inline>\n",
       "\t<li>10</li>\n",
       "\t<li>11</li>\n",
       "\t<li>12</li>\n",
       "\t<li>13</li>\n",
       "\t<li>14</li>\n",
       "\t<li>15</li>\n",
       "\t<li>16</li>\n",
       "\t<li>17</li>\n",
       "\t<li>18</li>\n",
       "\t<li>19</li>\n",
       "\t<li>20</li>\n",
       "</ol>\n"
      ],
      "text/latex": [
       "\\begin{enumerate*}\n",
       "\\item 10\n",
       "\\item 11\n",
       "\\item 12\n",
       "\\item 13\n",
       "\\item 14\n",
       "\\item 15\n",
       "\\item 16\n",
       "\\item 17\n",
       "\\item 18\n",
       "\\item 19\n",
       "\\item 20\n",
       "\\end{enumerate*}\n"
      ],
      "text/markdown": [
       "1. 10\n",
       "2. 11\n",
       "3. 12\n",
       "4. 13\n",
       "5. 14\n",
       "6. 15\n",
       "7. 16\n",
       "8. 17\n",
       "9. 18\n",
       "10. 19\n",
       "11. 20\n",
       "\n",
       "\n"
      ],
      "text/plain": [
       " [1] 10 11 12 13 14 15 16 17 18 19 20"
      ]
     },
     "metadata": {},
     "output_type": "display_data"
    }
   ],
   "source": [
    "10:20"
   ]
  },
  {
   "cell_type": "code",
   "execution_count": 35,
   "id": "a7c04ac8",
   "metadata": {},
   "outputs": [
    {
     "data": {
      "text/html": [
       "<ol class=list-inline>\n",
       "\t<li>20</li>\n",
       "\t<li>19</li>\n",
       "\t<li>18</li>\n",
       "\t<li>17</li>\n",
       "\t<li>16</li>\n",
       "\t<li>15</li>\n",
       "\t<li>14</li>\n",
       "\t<li>13</li>\n",
       "\t<li>12</li>\n",
       "\t<li>11</li>\n",
       "\t<li>10</li>\n",
       "</ol>\n"
      ],
      "text/latex": [
       "\\begin{enumerate*}\n",
       "\\item 20\n",
       "\\item 19\n",
       "\\item 18\n",
       "\\item 17\n",
       "\\item 16\n",
       "\\item 15\n",
       "\\item 14\n",
       "\\item 13\n",
       "\\item 12\n",
       "\\item 11\n",
       "\\item 10\n",
       "\\end{enumerate*}\n"
      ],
      "text/markdown": [
       "1. 20\n",
       "2. 19\n",
       "3. 18\n",
       "4. 17\n",
       "5. 16\n",
       "6. 15\n",
       "7. 14\n",
       "8. 13\n",
       "9. 12\n",
       "10. 11\n",
       "11. 10\n",
       "\n",
       "\n"
      ],
      "text/plain": [
       " [1] 20 19 18 17 16 15 14 13 12 11 10"
      ]
     },
     "metadata": {},
     "output_type": "display_data"
    }
   ],
   "source": [
    "20:10"
   ]
  },
  {
   "cell_type": "markdown",
   "id": "6d61fa68",
   "metadata": {},
   "source": [
    "## Repeat any Value in R– rep()\n",
    "In R we use **rep(c($x_1,x_2$),c($n_1,n_2$))** we repeat the value $x_1 , n_1$ times and  $x_2 , n_2$ times respectively.\n",
    "<br>In R we write character vectors in double quotoes \" \""
   ]
  },
  {
   "cell_type": "code",
   "execution_count": 36,
   "id": "ab75c2d1",
   "metadata": {},
   "outputs": [
    {
     "data": {
      "text/html": [
       "<ol class=list-inline>\n",
       "\t<li>1</li>\n",
       "\t<li>1</li>\n",
       "\t<li>1</li>\n",
       "\t<li>2</li>\n",
       "\t<li>2</li>\n",
       "\t<li>2</li>\n",
       "</ol>\n"
      ],
      "text/latex": [
       "\\begin{enumerate*}\n",
       "\\item 1\n",
       "\\item 1\n",
       "\\item 1\n",
       "\\item 2\n",
       "\\item 2\n",
       "\\item 2\n",
       "\\end{enumerate*}\n"
      ],
      "text/markdown": [
       "1. 1\n",
       "2. 1\n",
       "3. 1\n",
       "4. 2\n",
       "5. 2\n",
       "6. 2\n",
       "\n",
       "\n"
      ],
      "text/plain": [
       "[1] 1 1 1 2 2 2"
      ]
     },
     "metadata": {},
     "output_type": "display_data"
    }
   ],
   "source": [
    "# repeat 1 3 times and 2 also 3 times\n",
    "rep(c(1,2),c(3,3)) "
   ]
  },
  {
   "cell_type": "code",
   "execution_count": 37,
   "id": "0b11c6e0",
   "metadata": {},
   "outputs": [
    {
     "data": {
      "text/html": [
       "<ol class=list-inline>\n",
       "\t<li>1</li>\n",
       "\t<li>1</li>\n",
       "\t<li>1</li>\n",
       "\t<li>1</li>\n",
       "\t<li>2</li>\n",
       "\t<li>2</li>\n",
       "\t<li>2</li>\n",
       "\t<li>2</li>\n",
       "</ol>\n"
      ],
      "text/latex": [
       "\\begin{enumerate*}\n",
       "\\item 1\n",
       "\\item 1\n",
       "\\item 1\n",
       "\\item 1\n",
       "\\item 2\n",
       "\\item 2\n",
       "\\item 2\n",
       "\\item 2\n",
       "\\end{enumerate*}\n"
      ],
      "text/markdown": [
       "1. 1\n",
       "2. 1\n",
       "3. 1\n",
       "4. 1\n",
       "5. 2\n",
       "6. 2\n",
       "7. 2\n",
       "8. 2\n",
       "\n",
       "\n"
      ],
      "text/plain": [
       "[1] 1 1 1 1 2 2 2 2"
      ]
     },
     "metadata": {},
     "output_type": "display_data"
    }
   ],
   "source": [
    "# Repeat 1 and 2 each 4 times\n",
    "rep(c(1,2),each=4)"
   ]
  },
  {
   "cell_type": "code",
   "execution_count": 38,
   "id": "a82a45ba",
   "metadata": {},
   "outputs": [
    {
     "data": {
      "text/html": [
       "<ol class=list-inline>\n",
       "\t<li>'R1'</li>\n",
       "\t<li>'R1'</li>\n",
       "\t<li>'R1'</li>\n",
       "\t<li>'R2'</li>\n",
       "\t<li>'R2'</li>\n",
       "\t<li>'R3'</li>\n",
       "\t<li>'R3'</li>\n",
       "\t<li>'R3'</li>\n",
       "\t<li>'R3'</li>\n",
       "</ol>\n"
      ],
      "text/latex": [
       "\\begin{enumerate*}\n",
       "\\item 'R1'\n",
       "\\item 'R1'\n",
       "\\item 'R1'\n",
       "\\item 'R2'\n",
       "\\item 'R2'\n",
       "\\item 'R3'\n",
       "\\item 'R3'\n",
       "\\item 'R3'\n",
       "\\item 'R3'\n",
       "\\end{enumerate*}\n"
      ],
      "text/markdown": [
       "1. 'R1'\n",
       "2. 'R1'\n",
       "3. 'R1'\n",
       "4. 'R2'\n",
       "5. 'R2'\n",
       "6. 'R3'\n",
       "7. 'R3'\n",
       "8. 'R3'\n",
       "9. 'R3'\n",
       "\n",
       "\n"
      ],
      "text/plain": [
       "[1] \"R1\" \"R1\" \"R1\" \"R2\" \"R2\" \"R3\" \"R3\" \"R3\" \"R3\""
      ]
     },
     "metadata": {},
     "output_type": "display_data"
    }
   ],
   "source": [
    "rep(c(\"R1\",\"R2\",\"R3\"),c(3,2,4))"
   ]
  },
  {
   "cell_type": "code",
   "execution_count": 39,
   "id": "5a215326",
   "metadata": {},
   "outputs": [
    {
     "data": {
      "text/html": [
       "<ol class=list-inline>\n",
       "\t<li>'SubhanAllah'</li>\n",
       "\t<li>'SubhanAllah'</li>\n",
       "\t<li>'SubhanAllah'</li>\n",
       "\t<li>'SubhanAllah'</li>\n",
       "\t<li>'SubhanAllah'</li>\n",
       "\t<li>'SubhanAllah'</li>\n",
       "\t<li>'SubhanAllah'</li>\n",
       "\t<li>'SubhanAllah'</li>\n",
       "\t<li>'SubhanAllah'</li>\n",
       "\t<li>'SubhanAllah'</li>\n",
       "\t<li>'SubhanAllah'</li>\n",
       "\t<li>'SubhanAllah'</li>\n",
       "\t<li>'SubhanAllah'</li>\n",
       "\t<li>'SubhanAllah'</li>\n",
       "\t<li>'SubhanAllah'</li>\n",
       "\t<li>'SubhanAllah'</li>\n",
       "\t<li>'SubhanAllah'</li>\n",
       "\t<li>'SubhanAllah'</li>\n",
       "\t<li>'SubhanAllah'</li>\n",
       "\t<li>'SubhanAllah'</li>\n",
       "\t<li>'SubhanAllah'</li>\n",
       "\t<li>'SubhanAllah'</li>\n",
       "\t<li>'SubhanAllah'</li>\n",
       "\t<li>'SubhanAllah'</li>\n",
       "\t<li>'SubhanAllah'</li>\n",
       "\t<li>'SubhanAllah'</li>\n",
       "\t<li>'SubhanAllah'</li>\n",
       "\t<li>'SubhanAllah'</li>\n",
       "\t<li>'SubhanAllah'</li>\n",
       "\t<li>'SubhanAllah'</li>\n",
       "\t<li>'SubhanAllah'</li>\n",
       "\t<li>'SubhanAllah'</li>\n",
       "\t<li>'SubhanAllah'</li>\n",
       "\t<li>'Alhamadulliah'</li>\n",
       "\t<li>'Alhamadulliah'</li>\n",
       "\t<li>'Alhamadulliah'</li>\n",
       "\t<li>'Alhamadulliah'</li>\n",
       "\t<li>'Alhamadulliah'</li>\n",
       "\t<li>'Alhamadulliah'</li>\n",
       "\t<li>'Alhamadulliah'</li>\n",
       "\t<li>'Alhamadulliah'</li>\n",
       "\t<li>'Alhamadulliah'</li>\n",
       "\t<li>'Alhamadulliah'</li>\n",
       "\t<li>'Alhamadulliah'</li>\n",
       "\t<li>'Alhamadulliah'</li>\n",
       "\t<li>'Alhamadulliah'</li>\n",
       "\t<li>'Alhamadulliah'</li>\n",
       "\t<li>'Alhamadulliah'</li>\n",
       "\t<li>'Alhamadulliah'</li>\n",
       "\t<li>'Alhamadulliah'</li>\n",
       "\t<li>'Alhamadulliah'</li>\n",
       "\t<li>'Alhamadulliah'</li>\n",
       "\t<li>'Alhamadulliah'</li>\n",
       "\t<li>'Alhamadulliah'</li>\n",
       "\t<li>'Alhamadulliah'</li>\n",
       "\t<li>'Alhamadulliah'</li>\n",
       "\t<li>'Alhamadulliah'</li>\n",
       "\t<li>'Alhamadulliah'</li>\n",
       "\t<li>'Alhamadulliah'</li>\n",
       "\t<li>'Alhamadulliah'</li>\n",
       "\t<li>'Alhamadulliah'</li>\n",
       "\t<li>'Alhamadulliah'</li>\n",
       "\t<li>'Alhamadulliah'</li>\n",
       "\t<li>'Alhamadulliah'</li>\n",
       "\t<li>'Alhamadulliah'</li>\n",
       "\t<li>'Alhamadulliah'</li>\n",
       "\t<li>'Allahuakbar'</li>\n",
       "\t<li>'Allahuakbar'</li>\n",
       "\t<li>'Allahuakbar'</li>\n",
       "\t<li>'Allahuakbar'</li>\n",
       "\t<li>'Allahuakbar'</li>\n",
       "\t<li>'Allahuakbar'</li>\n",
       "\t<li>'Allahuakbar'</li>\n",
       "\t<li>'Allahuakbar'</li>\n",
       "\t<li>'Allahuakbar'</li>\n",
       "\t<li>'Allahuakbar'</li>\n",
       "\t<li>'Allahuakbar'</li>\n",
       "\t<li>'Allahuakbar'</li>\n",
       "\t<li>'Allahuakbar'</li>\n",
       "\t<li>'Allahuakbar'</li>\n",
       "\t<li>'Allahuakbar'</li>\n",
       "\t<li>'Allahuakbar'</li>\n",
       "\t<li>'Allahuakbar'</li>\n",
       "\t<li>'Allahuakbar'</li>\n",
       "\t<li>'Allahuakbar'</li>\n",
       "\t<li>'Allahuakbar'</li>\n",
       "\t<li>'Allahuakbar'</li>\n",
       "\t<li>'Allahuakbar'</li>\n",
       "\t<li>'Allahuakbar'</li>\n",
       "\t<li>'Allahuakbar'</li>\n",
       "\t<li>'Allahuakbar'</li>\n",
       "\t<li>'Allahuakbar'</li>\n",
       "\t<li>'Allahuakbar'</li>\n",
       "\t<li>'Allahuakbar'</li>\n",
       "\t<li>'Allahuakbar'</li>\n",
       "\t<li>'Allahuakbar'</li>\n",
       "\t<li>'Allahuakbar'</li>\n",
       "\t<li>'Allahuakbar'</li>\n",
       "\t<li>'Allahuakbar'</li>\n",
       "\t<li>'Allahuakbar'</li>\n",
       "</ol>\n"
      ],
      "text/latex": [
       "\\begin{enumerate*}\n",
       "\\item 'SubhanAllah'\n",
       "\\item 'SubhanAllah'\n",
       "\\item 'SubhanAllah'\n",
       "\\item 'SubhanAllah'\n",
       "\\item 'SubhanAllah'\n",
       "\\item 'SubhanAllah'\n",
       "\\item 'SubhanAllah'\n",
       "\\item 'SubhanAllah'\n",
       "\\item 'SubhanAllah'\n",
       "\\item 'SubhanAllah'\n",
       "\\item 'SubhanAllah'\n",
       "\\item 'SubhanAllah'\n",
       "\\item 'SubhanAllah'\n",
       "\\item 'SubhanAllah'\n",
       "\\item 'SubhanAllah'\n",
       "\\item 'SubhanAllah'\n",
       "\\item 'SubhanAllah'\n",
       "\\item 'SubhanAllah'\n",
       "\\item 'SubhanAllah'\n",
       "\\item 'SubhanAllah'\n",
       "\\item 'SubhanAllah'\n",
       "\\item 'SubhanAllah'\n",
       "\\item 'SubhanAllah'\n",
       "\\item 'SubhanAllah'\n",
       "\\item 'SubhanAllah'\n",
       "\\item 'SubhanAllah'\n",
       "\\item 'SubhanAllah'\n",
       "\\item 'SubhanAllah'\n",
       "\\item 'SubhanAllah'\n",
       "\\item 'SubhanAllah'\n",
       "\\item 'SubhanAllah'\n",
       "\\item 'SubhanAllah'\n",
       "\\item 'SubhanAllah'\n",
       "\\item 'Alhamadulliah'\n",
       "\\item 'Alhamadulliah'\n",
       "\\item 'Alhamadulliah'\n",
       "\\item 'Alhamadulliah'\n",
       "\\item 'Alhamadulliah'\n",
       "\\item 'Alhamadulliah'\n",
       "\\item 'Alhamadulliah'\n",
       "\\item 'Alhamadulliah'\n",
       "\\item 'Alhamadulliah'\n",
       "\\item 'Alhamadulliah'\n",
       "\\item 'Alhamadulliah'\n",
       "\\item 'Alhamadulliah'\n",
       "\\item 'Alhamadulliah'\n",
       "\\item 'Alhamadulliah'\n",
       "\\item 'Alhamadulliah'\n",
       "\\item 'Alhamadulliah'\n",
       "\\item 'Alhamadulliah'\n",
       "\\item 'Alhamadulliah'\n",
       "\\item 'Alhamadulliah'\n",
       "\\item 'Alhamadulliah'\n",
       "\\item 'Alhamadulliah'\n",
       "\\item 'Alhamadulliah'\n",
       "\\item 'Alhamadulliah'\n",
       "\\item 'Alhamadulliah'\n",
       "\\item 'Alhamadulliah'\n",
       "\\item 'Alhamadulliah'\n",
       "\\item 'Alhamadulliah'\n",
       "\\item 'Alhamadulliah'\n",
       "\\item 'Alhamadulliah'\n",
       "\\item 'Alhamadulliah'\n",
       "\\item 'Alhamadulliah'\n",
       "\\item 'Alhamadulliah'\n",
       "\\item 'Alhamadulliah'\n",
       "\\item 'Allahuakbar'\n",
       "\\item 'Allahuakbar'\n",
       "\\item 'Allahuakbar'\n",
       "\\item 'Allahuakbar'\n",
       "\\item 'Allahuakbar'\n",
       "\\item 'Allahuakbar'\n",
       "\\item 'Allahuakbar'\n",
       "\\item 'Allahuakbar'\n",
       "\\item 'Allahuakbar'\n",
       "\\item 'Allahuakbar'\n",
       "\\item 'Allahuakbar'\n",
       "\\item 'Allahuakbar'\n",
       "\\item 'Allahuakbar'\n",
       "\\item 'Allahuakbar'\n",
       "\\item 'Allahuakbar'\n",
       "\\item 'Allahuakbar'\n",
       "\\item 'Allahuakbar'\n",
       "\\item 'Allahuakbar'\n",
       "\\item 'Allahuakbar'\n",
       "\\item 'Allahuakbar'\n",
       "\\item 'Allahuakbar'\n",
       "\\item 'Allahuakbar'\n",
       "\\item 'Allahuakbar'\n",
       "\\item 'Allahuakbar'\n",
       "\\item 'Allahuakbar'\n",
       "\\item 'Allahuakbar'\n",
       "\\item 'Allahuakbar'\n",
       "\\item 'Allahuakbar'\n",
       "\\item 'Allahuakbar'\n",
       "\\item 'Allahuakbar'\n",
       "\\item 'Allahuakbar'\n",
       "\\item 'Allahuakbar'\n",
       "\\item 'Allahuakbar'\n",
       "\\item 'Allahuakbar'\n",
       "\\end{enumerate*}\n"
      ],
      "text/markdown": [
       "1. 'SubhanAllah'\n",
       "2. 'SubhanAllah'\n",
       "3. 'SubhanAllah'\n",
       "4. 'SubhanAllah'\n",
       "5. 'SubhanAllah'\n",
       "6. 'SubhanAllah'\n",
       "7. 'SubhanAllah'\n",
       "8. 'SubhanAllah'\n",
       "9. 'SubhanAllah'\n",
       "10. 'SubhanAllah'\n",
       "11. 'SubhanAllah'\n",
       "12. 'SubhanAllah'\n",
       "13. 'SubhanAllah'\n",
       "14. 'SubhanAllah'\n",
       "15. 'SubhanAllah'\n",
       "16. 'SubhanAllah'\n",
       "17. 'SubhanAllah'\n",
       "18. 'SubhanAllah'\n",
       "19. 'SubhanAllah'\n",
       "20. 'SubhanAllah'\n",
       "21. 'SubhanAllah'\n",
       "22. 'SubhanAllah'\n",
       "23. 'SubhanAllah'\n",
       "24. 'SubhanAllah'\n",
       "25. 'SubhanAllah'\n",
       "26. 'SubhanAllah'\n",
       "27. 'SubhanAllah'\n",
       "28. 'SubhanAllah'\n",
       "29. 'SubhanAllah'\n",
       "30. 'SubhanAllah'\n",
       "31. 'SubhanAllah'\n",
       "32. 'SubhanAllah'\n",
       "33. 'SubhanAllah'\n",
       "34. 'Alhamadulliah'\n",
       "35. 'Alhamadulliah'\n",
       "36. 'Alhamadulliah'\n",
       "37. 'Alhamadulliah'\n",
       "38. 'Alhamadulliah'\n",
       "39. 'Alhamadulliah'\n",
       "40. 'Alhamadulliah'\n",
       "41. 'Alhamadulliah'\n",
       "42. 'Alhamadulliah'\n",
       "43. 'Alhamadulliah'\n",
       "44. 'Alhamadulliah'\n",
       "45. 'Alhamadulliah'\n",
       "46. 'Alhamadulliah'\n",
       "47. 'Alhamadulliah'\n",
       "48. 'Alhamadulliah'\n",
       "49. 'Alhamadulliah'\n",
       "50. 'Alhamadulliah'\n",
       "51. 'Alhamadulliah'\n",
       "52. 'Alhamadulliah'\n",
       "53. 'Alhamadulliah'\n",
       "54. 'Alhamadulliah'\n",
       "55. 'Alhamadulliah'\n",
       "56. 'Alhamadulliah'\n",
       "57. 'Alhamadulliah'\n",
       "58. 'Alhamadulliah'\n",
       "59. 'Alhamadulliah'\n",
       "60. 'Alhamadulliah'\n",
       "61. 'Alhamadulliah'\n",
       "62. 'Alhamadulliah'\n",
       "63. 'Alhamadulliah'\n",
       "64. 'Alhamadulliah'\n",
       "65. 'Alhamadulliah'\n",
       "66. 'Alhamadulliah'\n",
       "67. 'Allahuakbar'\n",
       "68. 'Allahuakbar'\n",
       "69. 'Allahuakbar'\n",
       "70. 'Allahuakbar'\n",
       "71. 'Allahuakbar'\n",
       "72. 'Allahuakbar'\n",
       "73. 'Allahuakbar'\n",
       "74. 'Allahuakbar'\n",
       "75. 'Allahuakbar'\n",
       "76. 'Allahuakbar'\n",
       "77. 'Allahuakbar'\n",
       "78. 'Allahuakbar'\n",
       "79. 'Allahuakbar'\n",
       "80. 'Allahuakbar'\n",
       "81. 'Allahuakbar'\n",
       "82. 'Allahuakbar'\n",
       "83. 'Allahuakbar'\n",
       "84. 'Allahuakbar'\n",
       "85. 'Allahuakbar'\n",
       "86. 'Allahuakbar'\n",
       "87. 'Allahuakbar'\n",
       "88. 'Allahuakbar'\n",
       "89. 'Allahuakbar'\n",
       "90. 'Allahuakbar'\n",
       "91. 'Allahuakbar'\n",
       "92. 'Allahuakbar'\n",
       "93. 'Allahuakbar'\n",
       "94. 'Allahuakbar'\n",
       "95. 'Allahuakbar'\n",
       "96. 'Allahuakbar'\n",
       "97. 'Allahuakbar'\n",
       "98. 'Allahuakbar'\n",
       "99. 'Allahuakbar'\n",
       "100. 'Allahuakbar'\n",
       "\n",
       "\n"
      ],
      "text/plain": [
       "  [1] \"SubhanAllah\"   \"SubhanAllah\"   \"SubhanAllah\"   \"SubhanAllah\"  \n",
       "  [5] \"SubhanAllah\"   \"SubhanAllah\"   \"SubhanAllah\"   \"SubhanAllah\"  \n",
       "  [9] \"SubhanAllah\"   \"SubhanAllah\"   \"SubhanAllah\"   \"SubhanAllah\"  \n",
       " [13] \"SubhanAllah\"   \"SubhanAllah\"   \"SubhanAllah\"   \"SubhanAllah\"  \n",
       " [17] \"SubhanAllah\"   \"SubhanAllah\"   \"SubhanAllah\"   \"SubhanAllah\"  \n",
       " [21] \"SubhanAllah\"   \"SubhanAllah\"   \"SubhanAllah\"   \"SubhanAllah\"  \n",
       " [25] \"SubhanAllah\"   \"SubhanAllah\"   \"SubhanAllah\"   \"SubhanAllah\"  \n",
       " [29] \"SubhanAllah\"   \"SubhanAllah\"   \"SubhanAllah\"   \"SubhanAllah\"  \n",
       " [33] \"SubhanAllah\"   \"Alhamadulliah\" \"Alhamadulliah\" \"Alhamadulliah\"\n",
       " [37] \"Alhamadulliah\" \"Alhamadulliah\" \"Alhamadulliah\" \"Alhamadulliah\"\n",
       " [41] \"Alhamadulliah\" \"Alhamadulliah\" \"Alhamadulliah\" \"Alhamadulliah\"\n",
       " [45] \"Alhamadulliah\" \"Alhamadulliah\" \"Alhamadulliah\" \"Alhamadulliah\"\n",
       " [49] \"Alhamadulliah\" \"Alhamadulliah\" \"Alhamadulliah\" \"Alhamadulliah\"\n",
       " [53] \"Alhamadulliah\" \"Alhamadulliah\" \"Alhamadulliah\" \"Alhamadulliah\"\n",
       " [57] \"Alhamadulliah\" \"Alhamadulliah\" \"Alhamadulliah\" \"Alhamadulliah\"\n",
       " [61] \"Alhamadulliah\" \"Alhamadulliah\" \"Alhamadulliah\" \"Alhamadulliah\"\n",
       " [65] \"Alhamadulliah\" \"Alhamadulliah\" \"Allahuakbar\"   \"Allahuakbar\"  \n",
       " [69] \"Allahuakbar\"   \"Allahuakbar\"   \"Allahuakbar\"   \"Allahuakbar\"  \n",
       " [73] \"Allahuakbar\"   \"Allahuakbar\"   \"Allahuakbar\"   \"Allahuakbar\"  \n",
       " [77] \"Allahuakbar\"   \"Allahuakbar\"   \"Allahuakbar\"   \"Allahuakbar\"  \n",
       " [81] \"Allahuakbar\"   \"Allahuakbar\"   \"Allahuakbar\"   \"Allahuakbar\"  \n",
       " [85] \"Allahuakbar\"   \"Allahuakbar\"   \"Allahuakbar\"   \"Allahuakbar\"  \n",
       " [89] \"Allahuakbar\"   \"Allahuakbar\"   \"Allahuakbar\"   \"Allahuakbar\"  \n",
       " [93] \"Allahuakbar\"   \"Allahuakbar\"   \"Allahuakbar\"   \"Allahuakbar\"  \n",
       " [97] \"Allahuakbar\"   \"Allahuakbar\"   \"Allahuakbar\"   \"Allahuakbar\"  "
      ]
     },
     "metadata": {},
     "output_type": "display_data"
    }
   ],
   "source": [
    "tasbihefatimi=rep(c(\"SubhanAllah\",\"Alhamadulliah\",\"Allahuakbar\"),c(33,33,34))\n",
    "tasbihefatimi"
   ]
  },
  {
   "cell_type": "markdown",
   "id": "e0d09d8d",
   "metadata": {},
   "source": [
    "## Logical Operator in R– TRUE(1) , FALSE(0)\n",
    "$$\n",
    "*  > Greater than (>) \n",
    "*  < Less than (<)\n",
    "*  >= Greater than equal to (>=)\n",
    "*  <= Less than equal to (<=)\n",
    "*  == Exactly equal to (==)\n",
    "*  != Not equal to (!=)\n",
    "*  | OR Operator (|)\n",
    "*  & AND Operator (&)\n",
    "$$"
   ]
  },
  {
   "cell_type": "code",
   "execution_count": 40,
   "id": "b8050dc3",
   "metadata": {},
   "outputs": [
    {
     "data": {
      "text/html": [
       "<ol class=list-inline>\n",
       "\t<li>FALSE</li>\n",
       "\t<li>TRUE</li>\n",
       "\t<li>FALSE</li>\n",
       "\t<li>FALSE</li>\n",
       "\t<li>TRUE</li>\n",
       "</ol>\n"
      ],
      "text/latex": [
       "\\begin{enumerate*}\n",
       "\\item FALSE\n",
       "\\item TRUE\n",
       "\\item FALSE\n",
       "\\item FALSE\n",
       "\\item TRUE\n",
       "\\end{enumerate*}\n"
      ],
      "text/markdown": [
       "1. FALSE\n",
       "2. TRUE\n",
       "3. FALSE\n",
       "4. FALSE\n",
       "5. TRUE\n",
       "\n",
       "\n"
      ],
      "text/plain": [
       "[1] FALSE  TRUE FALSE FALSE  TRUE"
      ]
     },
     "metadata": {},
     "output_type": "display_data"
    }
   ],
   "source": [
    "x=c(2,5,3,1,8)\n",
    "x>3    # x is greater than 3"
   ]
  },
  {
   "cell_type": "code",
   "execution_count": 41,
   "id": "45c8842f",
   "metadata": {},
   "outputs": [
    {
     "data": {
      "text/html": [
       "2"
      ],
      "text/latex": [
       "2"
      ],
      "text/markdown": [
       "2"
      ],
      "text/plain": [
       "[1] 2"
      ]
     },
     "metadata": {},
     "output_type": "display_data"
    }
   ],
   "source": [
    "sum(x>3)  # sum of x which is greater than 3"
   ]
  },
  {
   "cell_type": "code",
   "execution_count": 43,
   "id": "632994a2",
   "metadata": {},
   "outputs": [
    {
     "data": {
      "text/html": [
       "<ol class=list-inline>\n",
       "\t<li>5</li>\n",
       "\t<li>3</li>\n",
       "\t<li>8</li>\n",
       "</ol>\n"
      ],
      "text/latex": [
       "\\begin{enumerate*}\n",
       "\\item 5\n",
       "\\item 3\n",
       "\\item 8\n",
       "\\end{enumerate*}\n"
      ],
      "text/markdown": [
       "1. 5\n",
       "2. 3\n",
       "3. 8\n",
       "\n",
       "\n"
      ],
      "text/plain": [
       "[1] 5 3 8"
      ]
     },
     "metadata": {},
     "output_type": "display_data"
    }
   ],
   "source": [
    " # Extract the values which are  greater than 2 from the vector x \n",
    "(x[x>2]) "
   ]
  },
  {
   "cell_type": "code",
   "execution_count": 44,
   "id": "8ed0e3af",
   "metadata": {},
   "outputs": [
    {
     "data": {
      "text/html": [
       "5.33333333333333"
      ],
      "text/latex": [
       "5.33333333333333"
      ],
      "text/markdown": [
       "5.33333333333333"
      ],
      "text/plain": [
       "[1] 5.333333"
      ]
     },
     "metadata": {},
     "output_type": "display_data"
    }
   ],
   "source": [
    "# mean of the extracted values which are  greater than 2 from the vector x\n",
    "mean(x[x>2])"
   ]
  },
  {
   "cell_type": "code",
   "execution_count": 45,
   "id": "94a7024c",
   "metadata": {},
   "outputs": [
    {
     "data": {
      "text/html": [
       "1.5"
      ],
      "text/latex": [
       "1.5"
      ],
      "text/markdown": [
       "1.5"
      ],
      "text/plain": [
       "[1] 1.5"
      ]
     },
     "metadata": {},
     "output_type": "display_data"
    }
   ],
   "source": [
    "# mean of the extracted values which are less than 3 from the vector x \n",
    "mean(x[x<3])"
   ]
  },
  {
   "cell_type": "code",
   "execution_count": 46,
   "id": "534461f6",
   "metadata": {},
   "outputs": [
    {
     "data": {
      "text/html": [
       "0.4"
      ],
      "text/latex": [
       "0.4"
      ],
      "text/markdown": [
       "0.4"
      ],
      "text/plain": [
       "[1] 0.4"
      ]
     },
     "metadata": {},
     "output_type": "display_data"
    }
   ],
   "source": [
    "mean(x<3)  # mean the values which are  greater than 3 from the vector x\n",
    "## [1] 0.4"
   ]
  },
  {
   "cell_type": "code",
   "execution_count": 47,
   "id": "6c71630e",
   "metadata": {},
   "outputs": [
    {
     "data": {
      "text/html": [
       "<ol class=list-inline>\n",
       "\t<li>FALSE</li>\n",
       "\t<li>FALSE</li>\n",
       "\t<li>TRUE</li>\n",
       "\t<li>FALSE</li>\n",
       "\t<li>FALSE</li>\n",
       "</ol>\n"
      ],
      "text/latex": [
       "\\begin{enumerate*}\n",
       "\\item FALSE\n",
       "\\item FALSE\n",
       "\\item TRUE\n",
       "\\item FALSE\n",
       "\\item FALSE\n",
       "\\end{enumerate*}\n"
      ],
      "text/markdown": [
       "1. FALSE\n",
       "2. FALSE\n",
       "3. TRUE\n",
       "4. FALSE\n",
       "5. FALSE\n",
       "\n",
       "\n"
      ],
      "text/plain": [
       "[1] FALSE FALSE  TRUE FALSE FALSE"
      ]
     },
     "metadata": {},
     "output_type": "display_data"
    }
   ],
   "source": [
    "#logical expression | or, & , and\n",
    "# logical expression for the values which are greater than 2 & less than 4\n",
    "x>2 & x<4  "
   ]
  },
  {
   "cell_type": "code",
   "execution_count": 48,
   "id": "7de58e86",
   "metadata": {},
   "outputs": [
    {
     "data": {
      "text/html": [
       "3"
      ],
      "text/latex": [
       "3"
      ],
      "text/markdown": [
       "3"
      ],
      "text/plain": [
       "[1] 3"
      ]
     },
     "metadata": {},
     "output_type": "display_data"
    }
   ],
   "source": [
    "# Extract the logical expression for the values which are greater than 2 & less than 4  \n",
    "x[x>2 & x<4]"
   ]
  },
  {
   "cell_type": "code",
   "execution_count": 49,
   "id": "8b70076c",
   "metadata": {},
   "outputs": [
    {
     "data": {
      "text/html": [
       "<ol class=list-inline>\n",
       "\t<li>TRUE</li>\n",
       "\t<li>TRUE</li>\n",
       "\t<li>TRUE</li>\n",
       "\t<li>TRUE</li>\n",
       "\t<li>TRUE</li>\n",
       "</ol>\n"
      ],
      "text/latex": [
       "\\begin{enumerate*}\n",
       "\\item TRUE\n",
       "\\item TRUE\n",
       "\\item TRUE\n",
       "\\item TRUE\n",
       "\\item TRUE\n",
       "\\end{enumerate*}\n"
      ],
      "text/markdown": [
       "1. TRUE\n",
       "2. TRUE\n",
       "3. TRUE\n",
       "4. TRUE\n",
       "5. TRUE\n",
       "\n",
       "\n"
      ],
      "text/plain": [
       "[1] TRUE TRUE TRUE TRUE TRUE"
      ]
     },
     "metadata": {},
     "output_type": "display_data"
    }
   ],
   "source": [
    "# logical expression for the values which are greater than 2 OR less than 4\n",
    "x>2 | x<4"
   ]
  },
  {
   "cell_type": "code",
   "execution_count": 50,
   "id": "7eebc5c5",
   "metadata": {},
   "outputs": [
    {
     "data": {
      "text/html": [
       "<ol class=list-inline>\n",
       "\t<li>2</li>\n",
       "\t<li>5</li>\n",
       "\t<li>3</li>\n",
       "\t<li>1</li>\n",
       "\t<li>8</li>\n",
       "</ol>\n"
      ],
      "text/latex": [
       "\\begin{enumerate*}\n",
       "\\item 2\n",
       "\\item 5\n",
       "\\item 3\n",
       "\\item 1\n",
       "\\item 8\n",
       "\\end{enumerate*}\n"
      ],
      "text/markdown": [
       "1. 2\n",
       "2. 5\n",
       "3. 3\n",
       "4. 1\n",
       "5. 8\n",
       "\n",
       "\n"
      ],
      "text/plain": [
       "[1] 2 5 3 1 8"
      ]
     },
     "metadata": {},
     "output_type": "display_data"
    }
   ],
   "source": [
    "# Exract logical expression for the values which are greater than 2 OR less than 4]\n",
    "x[x>2 | x<4]"
   ]
  },
  {
   "cell_type": "markdown",
   "id": "a5245d87",
   "metadata": {},
   "source": [
    "## Missing values— NA \n",
    "If any value(s) missing in vector , it’s create a error in programme , to resolve this error we use **is.na()** function ."
   ]
  },
  {
   "cell_type": "code",
   "execution_count": 51,
   "id": "4b7f7be7",
   "metadata": {},
   "outputs": [
    {
     "data": {
      "text/html": [
       "<ol class=list-inline>\n",
       "\t<li>FALSE</li>\n",
       "\t<li>FALSE</li>\n",
       "\t<li>FALSE</li>\n",
       "\t<li>TRUE</li>\n",
       "\t<li>FALSE</li>\n",
       "</ol>\n"
      ],
      "text/latex": [
       "\\begin{enumerate*}\n",
       "\\item FALSE\n",
       "\\item FALSE\n",
       "\\item FALSE\n",
       "\\item TRUE\n",
       "\\item FALSE\n",
       "\\end{enumerate*}\n"
      ],
      "text/markdown": [
       "1. FALSE\n",
       "2. FALSE\n",
       "3. FALSE\n",
       "4. TRUE\n",
       "5. FALSE\n",
       "\n",
       "\n"
      ],
      "text/plain": [
       "[1] FALSE FALSE FALSE  TRUE FALSE"
      ]
     },
     "metadata": {},
     "output_type": "display_data"
    }
   ],
   "source": [
    "x=c(2,5,3,NA,6)\n",
    "is.na(x)"
   ]
  },
  {
   "cell_type": "code",
   "execution_count": 52,
   "id": "20930bc3",
   "metadata": {},
   "outputs": [
    {
     "data": {
      "text/html": [
       "&lt;NA&gt;"
      ],
      "text/latex": [
       "<NA>"
      ],
      "text/markdown": [
       "&lt;NA&gt;"
      ],
      "text/plain": [
       "[1] NA"
      ]
     },
     "metadata": {},
     "output_type": "display_data"
    }
   ],
   "source": [
    "mean(x)"
   ]
  },
  {
   "cell_type": "code",
   "execution_count": 53,
   "id": "acb0e9c8",
   "metadata": {},
   "outputs": [
    {
     "data": {
      "text/html": [
       "4"
      ],
      "text/latex": [
       "4"
      ],
      "text/markdown": [
       "4"
      ],
      "text/plain": [
       "[1] 4"
      ]
     },
     "metadata": {},
     "output_type": "display_data"
    }
   ],
   "source": [
    "mean(x,na.rm=TRUE)"
   ]
  },
  {
   "cell_type": "code",
   "execution_count": 54,
   "id": "f82041bc",
   "metadata": {},
   "outputs": [
    {
     "data": {
      "text/html": [
       "<ol class=list-inline>\n",
       "\t<li>TRUE</li>\n",
       "\t<li>TRUE</li>\n",
       "\t<li>TRUE</li>\n",
       "\t<li>FALSE</li>\n",
       "\t<li>TRUE</li>\n",
       "</ol>\n"
      ],
      "text/latex": [
       "\\begin{enumerate*}\n",
       "\\item TRUE\n",
       "\\item TRUE\n",
       "\\item TRUE\n",
       "\\item FALSE\n",
       "\\item TRUE\n",
       "\\end{enumerate*}\n"
      ],
      "text/markdown": [
       "1. TRUE\n",
       "2. TRUE\n",
       "3. TRUE\n",
       "4. FALSE\n",
       "5. TRUE\n",
       "\n",
       "\n"
      ],
      "text/plain": [
       "[1]  TRUE  TRUE  TRUE FALSE  TRUE"
      ]
     },
     "metadata": {},
     "output_type": "display_data"
    }
   ],
   "source": [
    "!is.na(x)"
   ]
  },
  {
   "cell_type": "code",
   "execution_count": 55,
   "id": "fefcca65",
   "metadata": {},
   "outputs": [
    {
     "data": {
      "text/html": [
       "4"
      ],
      "text/latex": [
       "4"
      ],
      "text/markdown": [
       "4"
      ],
      "text/plain": [
       "[1] 4"
      ]
     },
     "metadata": {},
     "output_type": "display_data"
    }
   ],
   "source": [
    "mean(x[!is.na(x)])"
   ]
  },
  {
   "cell_type": "code",
   "execution_count": 56,
   "id": "5633ba55",
   "metadata": {},
   "outputs": [
    {
     "data": {
      "text/html": [
       "<ol class=list-inline>\n",
       "\t<li>NaN</li>\n",
       "\t<li>1</li>\n",
       "\t<li>1</li>\n",
       "</ol>\n"
      ],
      "text/latex": [
       "\\begin{enumerate*}\n",
       "\\item NaN\n",
       "\\item 1\n",
       "\\item 1\n",
       "\\end{enumerate*}\n"
      ],
      "text/markdown": [
       "1. NaN\n",
       "2. 1\n",
       "3. 1\n",
       "\n",
       "\n"
      ],
      "text/plain": [
       "[1] NaN   1   1"
      ]
     },
     "metadata": {},
     "output_type": "display_data"
    }
   ],
   "source": [
    "# Not a number, NaN, 0/0, Inf-Inf, Inf/Inf\n",
    "x=c(0,5,3)\n",
    "x/x"
   ]
  },
  {
   "cell_type": "code",
   "execution_count": 57,
   "id": "bdb95dea",
   "metadata": {},
   "outputs": [
    {
     "data": {
      "text/html": [
       "<ol class=list-inline>\n",
       "\t<li>TRUE</li>\n",
       "\t<li>FALSE</li>\n",
       "\t<li>FALSE</li>\n",
       "</ol>\n"
      ],
      "text/latex": [
       "\\begin{enumerate*}\n",
       "\\item TRUE\n",
       "\\item FALSE\n",
       "\\item FALSE\n",
       "\\end{enumerate*}\n"
      ],
      "text/markdown": [
       "1. TRUE\n",
       "2. FALSE\n",
       "3. FALSE\n",
       "\n",
       "\n"
      ],
      "text/plain": [
       "[1]  TRUE FALSE FALSE"
      ]
     },
     "metadata": {},
     "output_type": "display_data"
    }
   ],
   "source": [
    "is.na(x/x)"
   ]
  },
  {
   "cell_type": "markdown",
   "id": "e3cb3c44",
   "metadata": {},
   "source": [
    "## Pasting  & Seperate\n",
    "Pasting **paste()** & Seperate-- **sep()**"
   ]
  },
  {
   "cell_type": "code",
   "execution_count": 58,
   "id": "f47e5e23",
   "metadata": {},
   "outputs": [
    {
     "data": {
      "text/html": [
       "<ol class=list-inline>\n",
       "\t<li>2</li>\n",
       "\t<li>5</li>\n",
       "\t<li>8</li>\n",
       "</ol>\n"
      ],
      "text/latex": [
       "\\begin{enumerate*}\n",
       "\\item 2\n",
       "\\item 5\n",
       "\\item 8\n",
       "\\end{enumerate*}\n"
      ],
      "text/markdown": [
       "1. 2\n",
       "2. 5\n",
       "3. 8\n",
       "\n",
       "\n"
      ],
      "text/plain": [
       "[1] 2 5 8"
      ]
     },
     "metadata": {},
     "output_type": "display_data"
    }
   ],
   "source": [
    "x=c(2,5,8)\n",
    "x"
   ]
  },
  {
   "cell_type": "code",
   "execution_count": 59,
   "id": "36c8ca9f",
   "metadata": {},
   "outputs": [
    {
     "data": {
      "text/html": [
       "<dl class=dl-horizontal>\n",
       "\t<dt>Zainul</dt>\n",
       "\t\t<dd>2</dd>\n",
       "\t<dt>Altamash</dt>\n",
       "\t\t<dd>5</dd>\n",
       "\t<dt>Wasiq</dt>\n",
       "\t\t<dd>8</dd>\n",
       "</dl>\n"
      ],
      "text/latex": [
       "\\begin{description*}\n",
       "\\item[Zainul] 2\n",
       "\\item[Altamash] 5\n",
       "\\item[Wasiq] 8\n",
       "\\end{description*}\n"
      ],
      "text/markdown": [
       "Zainul\n",
       ":   2Altamash\n",
       ":   5Wasiq\n",
       ":   8\n",
       "\n"
      ],
      "text/plain": [
       "  Zainul Altamash    Wasiq \n",
       "       2        5        8 "
      ]
     },
     "metadata": {},
     "output_type": "display_data"
    }
   ],
   "source": [
    "names(x)=c(\"Zainul\",\"Altamash\",\"Wasiq\")\n",
    "x"
   ]
  },
  {
   "cell_type": "code",
   "execution_count": 60,
   "id": "41fd612c",
   "metadata": {},
   "outputs": [
    {
     "data": {
      "text/html": [
       "<ol class=list-inline>\n",
       "\t<li>'Azam: 2'</li>\n",
       "\t<li>'Zuklekha: 5'</li>\n",
       "\t<li>'Ankit: 8'</li>\n",
       "</ol>\n"
      ],
      "text/latex": [
       "\\begin{enumerate*}\n",
       "\\item 'Azam: 2'\n",
       "\\item 'Zuklekha: 5'\n",
       "\\item 'Ankit: 8'\n",
       "\\end{enumerate*}\n"
      ],
      "text/markdown": [
       "1. 'Azam: 2'\n",
       "2. 'Zuklekha: 5'\n",
       "3. 'Ankit: 8'\n",
       "\n",
       "\n"
      ],
      "text/plain": [
       "[1] \"Azam: 2\"     \"Zuklekha: 5\" \"Ankit: 8\"   "
      ]
     },
     "metadata": {},
     "output_type": "display_data"
    }
   ],
   "source": [
    "paste(c(\"Azam\",\"Zuklekha\",\"Ankit\"),c(2,5,8),sep=\": \")"
   ]
  },
  {
   "cell_type": "code",
   "execution_count": 61,
   "id": "a1fa9d82",
   "metadata": {},
   "outputs": [
    {
     "data": {
      "text/html": [
       "<ol class=list-inline>\n",
       "\t<li>'Azam: 2'</li>\n",
       "\t<li>'Zuklekha: 5'</li>\n",
       "\t<li>'Ankit: 8'</li>\n",
       "</ol>\n"
      ],
      "text/latex": [
       "\\begin{enumerate*}\n",
       "\\item 'Azam: 2'\n",
       "\\item 'Zuklekha: 5'\n",
       "\\item 'Ankit: 8'\n",
       "\\end{enumerate*}\n"
      ],
      "text/markdown": [
       "1. 'Azam: 2'\n",
       "2. 'Zuklekha: 5'\n",
       "3. 'Ankit: 8'\n",
       "\n",
       "\n"
      ],
      "text/plain": [
       "[1] \"Azam: 2\"     \"Zuklekha: 5\" \"Ankit: 8\"   "
      ]
     },
     "metadata": {},
     "output_type": "display_data"
    }
   ],
   "source": [
    "paste(c(\"Azam\",\"Zuklekha\",\"Ankit\"),c(2,5,8),sep=\": \")"
   ]
  },
  {
   "cell_type": "code",
   "execution_count": 62,
   "id": "aca2d427",
   "metadata": {},
   "outputs": [
    {
     "data": {
      "text/html": [
       "<ol class=list-inline>\n",
       "\t<li>'10/01/93'</li>\n",
       "\t<li>'12/03/93'</li>\n",
       "\t<li>'15/07/94'</li>\n",
       "</ol>\n"
      ],
      "text/latex": [
       "\\begin{enumerate*}\n",
       "\\item '10/01/93'\n",
       "\\item '12/03/93'\n",
       "\\item '15/07/94'\n",
       "\\end{enumerate*}\n"
      ],
      "text/markdown": [
       "1. '10/01/93'\n",
       "2. '12/03/93'\n",
       "3. '15/07/94'\n",
       "\n",
       "\n"
      ],
      "text/plain": [
       "[1] \"10/01/93\" \"12/03/93\" \"15/07/94\""
      ]
     },
     "metadata": {},
     "output_type": "display_data"
    }
   ],
   "source": [
    "dob=c(\"10/01/93\",\"12/03/93\",\"15/07/94\")\n",
    "dob"
   ]
  },
  {
   "cell_type": "code",
   "execution_count": 64,
   "id": "e73e929a",
   "metadata": {},
   "outputs": [
    {
     "data": {
      "text/html": [
       "<ol class=list-inline>\n",
       "\t<li>'Zainul10/01/93'</li>\n",
       "\t<li>'Altamash12/03/93'</li>\n",
       "\t<li>'Wasiq15/07/94'</li>\n",
       "</ol>\n"
      ],
      "text/latex": [
       "\\begin{enumerate*}\n",
       "\\item 'Zainul10/01/93'\n",
       "\\item 'Altamash12/03/93'\n",
       "\\item 'Wasiq15/07/94'\n",
       "\\end{enumerate*}\n"
      ],
      "text/markdown": [
       "1. 'Zainul10/01/93'\n",
       "2. 'Altamash12/03/93'\n",
       "3. 'Wasiq15/07/94'\n",
       "\n",
       "\n"
      ],
      "text/plain": [
       "[1] \"Zainul10/01/93\"   \"Altamash12/03/93\" \"Wasiq15/07/94\"   "
      ]
     },
     "metadata": {},
     "output_type": "display_data"
    }
   ],
   "source": [
    "paste0(names(x),dob)"
   ]
  },
  {
   "cell_type": "code",
   "execution_count": 65,
   "id": "8b7996e0",
   "metadata": {},
   "outputs": [
    {
     "data": {
      "text/html": [
       "<ol class=list-inline>\n",
       "\t<li>'a'</li>\n",
       "\t<li>'b'</li>\n",
       "\t<li>'c'</li>\n",
       "\t<li>'d'</li>\n",
       "\t<li>'e'</li>\n",
       "\t<li>'f'</li>\n",
       "\t<li>'g'</li>\n",
       "\t<li>'h'</li>\n",
       "\t<li>'i'</li>\n",
       "\t<li>'j'</li>\n",
       "\t<li>'k'</li>\n",
       "\t<li>'l'</li>\n",
       "\t<li>'m'</li>\n",
       "\t<li>'n'</li>\n",
       "\t<li>'o'</li>\n",
       "\t<li>'p'</li>\n",
       "\t<li>'q'</li>\n",
       "\t<li>'r'</li>\n",
       "\t<li>'s'</li>\n",
       "\t<li>'t'</li>\n",
       "\t<li>'u'</li>\n",
       "\t<li>'v'</li>\n",
       "\t<li>'w'</li>\n",
       "\t<li>'x'</li>\n",
       "\t<li>'y'</li>\n",
       "\t<li>'z'</li>\n",
       "</ol>\n"
      ],
      "text/latex": [
       "\\begin{enumerate*}\n",
       "\\item 'a'\n",
       "\\item 'b'\n",
       "\\item 'c'\n",
       "\\item 'd'\n",
       "\\item 'e'\n",
       "\\item 'f'\n",
       "\\item 'g'\n",
       "\\item 'h'\n",
       "\\item 'i'\n",
       "\\item 'j'\n",
       "\\item 'k'\n",
       "\\item 'l'\n",
       "\\item 'm'\n",
       "\\item 'n'\n",
       "\\item 'o'\n",
       "\\item 'p'\n",
       "\\item 'q'\n",
       "\\item 'r'\n",
       "\\item 's'\n",
       "\\item 't'\n",
       "\\item 'u'\n",
       "\\item 'v'\n",
       "\\item 'w'\n",
       "\\item 'x'\n",
       "\\item 'y'\n",
       "\\item 'z'\n",
       "\\end{enumerate*}\n"
      ],
      "text/markdown": [
       "1. 'a'\n",
       "2. 'b'\n",
       "3. 'c'\n",
       "4. 'd'\n",
       "5. 'e'\n",
       "6. 'f'\n",
       "7. 'g'\n",
       "8. 'h'\n",
       "9. 'i'\n",
       "10. 'j'\n",
       "11. 'k'\n",
       "12. 'l'\n",
       "13. 'm'\n",
       "14. 'n'\n",
       "15. 'o'\n",
       "16. 'p'\n",
       "17. 'q'\n",
       "18. 'r'\n",
       "19. 's'\n",
       "20. 't'\n",
       "21. 'u'\n",
       "22. 'v'\n",
       "23. 'w'\n",
       "24. 'x'\n",
       "25. 'y'\n",
       "26. 'z'\n",
       "\n",
       "\n"
      ],
      "text/plain": [
       " [1] \"a\" \"b\" \"c\" \"d\" \"e\" \"f\" \"g\" \"h\" \"i\" \"j\" \"k\" \"l\" \"m\" \"n\" \"o\" \"p\" \"q\" \"r\" \"s\"\n",
       "[20] \"t\" \"u\" \"v\" \"w\" \"x\" \"y\" \"z\""
      ]
     },
     "metadata": {},
     "output_type": "display_data"
    }
   ],
   "source": [
    "# letters and LETTERS\n",
    "letters"
   ]
  },
  {
   "cell_type": "code",
   "execution_count": 66,
   "id": "5a7b5c3f",
   "metadata": {},
   "outputs": [
    {
     "data": {
      "text/html": [
       "<ol class=list-inline>\n",
       "\t<li>'c'</li>\n",
       "\t<li>'f'</li>\n",
       "</ol>\n"
      ],
      "text/latex": [
       "\\begin{enumerate*}\n",
       "\\item 'c'\n",
       "\\item 'f'\n",
       "\\end{enumerate*}\n"
      ],
      "text/markdown": [
       "1. 'c'\n",
       "2. 'f'\n",
       "\n",
       "\n"
      ],
      "text/plain": [
       "[1] \"c\" \"f\""
      ]
     },
     "metadata": {},
     "output_type": "display_data"
    }
   ],
   "source": [
    "letters[c(3,6)]"
   ]
  },
  {
   "cell_type": "code",
   "execution_count": 67,
   "id": "c094420a",
   "metadata": {},
   "outputs": [
    {
     "data": {
      "text/html": [
       "<ol class=list-inline>\n",
       "\t<li>'A'</li>\n",
       "\t<li>'B'</li>\n",
       "\t<li>'C'</li>\n",
       "\t<li>'D'</li>\n",
       "\t<li>'E'</li>\n",
       "\t<li>'F'</li>\n",
       "</ol>\n"
      ],
      "text/latex": [
       "\\begin{enumerate*}\n",
       "\\item 'A'\n",
       "\\item 'B'\n",
       "\\item 'C'\n",
       "\\item 'D'\n",
       "\\item 'E'\n",
       "\\item 'F'\n",
       "\\end{enumerate*}\n"
      ],
      "text/markdown": [
       "1. 'A'\n",
       "2. 'B'\n",
       "3. 'C'\n",
       "4. 'D'\n",
       "5. 'E'\n",
       "6. 'F'\n",
       "\n",
       "\n"
      ],
      "text/plain": [
       "[1] \"A\" \"B\" \"C\" \"D\" \"E\" \"F\""
      ]
     },
     "metadata": {},
     "output_type": "display_data"
    }
   ],
   "source": [
    "LETTERS[1:6]"
   ]
  },
  {
   "cell_type": "code",
   "execution_count": 68,
   "id": "b8554949",
   "metadata": {},
   "outputs": [
    {
     "data": {
      "text/html": [
       "<ol class=list-inline>\n",
       "\t<li>'Jan'</li>\n",
       "\t<li>'Feb'</li>\n",
       "\t<li>'Mar'</li>\n",
       "\t<li>'Apr'</li>\n",
       "\t<li>'May'</li>\n",
       "\t<li>'Jun'</li>\n",
       "\t<li>'Jul'</li>\n",
       "\t<li>'Aug'</li>\n",
       "\t<li>'Sep'</li>\n",
       "\t<li>'Oct'</li>\n",
       "\t<li>'Nov'</li>\n",
       "\t<li>'Dec'</li>\n",
       "</ol>\n"
      ],
      "text/latex": [
       "\\begin{enumerate*}\n",
       "\\item 'Jan'\n",
       "\\item 'Feb'\n",
       "\\item 'Mar'\n",
       "\\item 'Apr'\n",
       "\\item 'May'\n",
       "\\item 'Jun'\n",
       "\\item 'Jul'\n",
       "\\item 'Aug'\n",
       "\\item 'Sep'\n",
       "\\item 'Oct'\n",
       "\\item 'Nov'\n",
       "\\item 'Dec'\n",
       "\\end{enumerate*}\n"
      ],
      "text/markdown": [
       "1. 'Jan'\n",
       "2. 'Feb'\n",
       "3. 'Mar'\n",
       "4. 'Apr'\n",
       "5. 'May'\n",
       "6. 'Jun'\n",
       "7. 'Jul'\n",
       "8. 'Aug'\n",
       "9. 'Sep'\n",
       "10. 'Oct'\n",
       "11. 'Nov'\n",
       "12. 'Dec'\n",
       "\n",
       "\n"
      ],
      "text/plain": [
       " [1] \"Jan\" \"Feb\" \"Mar\" \"Apr\" \"May\" \"Jun\" \"Jul\" \"Aug\" \"Sep\" \"Oct\" \"Nov\" \"Dec\""
      ]
     },
     "metadata": {},
     "output_type": "display_data"
    }
   ],
   "source": [
    "month.abb"
   ]
  },
  {
   "cell_type": "code",
   "execution_count": 69,
   "id": "1cd1d741",
   "metadata": {},
   "outputs": [
    {
     "data": {
      "text/html": [
       "<ol class=list-inline>\n",
       "\t<li>'Mar'</li>\n",
       "\t<li>'Sep'</li>\n",
       "</ol>\n"
      ],
      "text/latex": [
       "\\begin{enumerate*}\n",
       "\\item 'Mar'\n",
       "\\item 'Sep'\n",
       "\\end{enumerate*}\n"
      ],
      "text/markdown": [
       "1. 'Mar'\n",
       "2. 'Sep'\n",
       "\n",
       "\n"
      ],
      "text/plain": [
       "[1] \"Mar\" \"Sep\""
      ]
     },
     "metadata": {},
     "output_type": "display_data"
    }
   ],
   "source": [
    "month.abb[c(3,9)]"
   ]
  },
  {
   "cell_type": "code",
   "execution_count": 70,
   "id": "2d087828",
   "metadata": {},
   "outputs": [
    {
     "data": {
      "text/html": [
       "<ol class=list-inline>\n",
       "\t<li>'Mar'</li>\n",
       "\t<li>'Apr'</li>\n",
       "\t<li>'May'</li>\n",
       "\t<li>'Jun'</li>\n",
       "\t<li>'Jul'</li>\n",
       "\t<li>'Aug'</li>\n",
       "\t<li>'Sep'</li>\n",
       "</ol>\n"
      ],
      "text/latex": [
       "\\begin{enumerate*}\n",
       "\\item 'Mar'\n",
       "\\item 'Apr'\n",
       "\\item 'May'\n",
       "\\item 'Jun'\n",
       "\\item 'Jul'\n",
       "\\item 'Aug'\n",
       "\\item 'Sep'\n",
       "\\end{enumerate*}\n"
      ],
      "text/markdown": [
       "1. 'Mar'\n",
       "2. 'Apr'\n",
       "3. 'May'\n",
       "4. 'Jun'\n",
       "5. 'Jul'\n",
       "6. 'Aug'\n",
       "7. 'Sep'\n",
       "\n",
       "\n"
      ],
      "text/plain": [
       "[1] \"Mar\" \"Apr\" \"May\" \"Jun\" \"Jul\" \"Aug\" \"Sep\""
      ]
     },
     "metadata": {},
     "output_type": "display_data"
    }
   ],
   "source": [
    "month.abb[3:9]"
   ]
  },
  {
   "cell_type": "code",
   "execution_count": 71,
   "id": "27cf1001",
   "metadata": {},
   "outputs": [
    {
     "data": {
      "text/html": [
       "<ol class=list-inline>\n",
       "\t<li>'Janu'</li>\n",
       "\t<li>'Febr'</li>\n",
       "\t<li>'Marc'</li>\n",
       "\t<li>'Apri'</li>\n",
       "\t<li>'May'</li>\n",
       "\t<li>'June'</li>\n",
       "\t<li>'July'</li>\n",
       "\t<li>'Augu'</li>\n",
       "\t<li>'Sept'</li>\n",
       "\t<li>'Octo'</li>\n",
       "\t<li>'Nove'</li>\n",
       "\t<li>'Dece'</li>\n",
       "</ol>\n"
      ],
      "text/latex": [
       "\\begin{enumerate*}\n",
       "\\item 'Janu'\n",
       "\\item 'Febr'\n",
       "\\item 'Marc'\n",
       "\\item 'Apri'\n",
       "\\item 'May'\n",
       "\\item 'June'\n",
       "\\item 'July'\n",
       "\\item 'Augu'\n",
       "\\item 'Sept'\n",
       "\\item 'Octo'\n",
       "\\item 'Nove'\n",
       "\\item 'Dece'\n",
       "\\end{enumerate*}\n"
      ],
      "text/markdown": [
       "1. 'Janu'\n",
       "2. 'Febr'\n",
       "3. 'Marc'\n",
       "4. 'Apri'\n",
       "5. 'May'\n",
       "6. 'June'\n",
       "7. 'July'\n",
       "8. 'Augu'\n",
       "9. 'Sept'\n",
       "10. 'Octo'\n",
       "11. 'Nove'\n",
       "12. 'Dece'\n",
       "\n",
       "\n"
      ],
      "text/plain": [
       " [1] \"Janu\" \"Febr\" \"Marc\" \"Apri\" \"May\"  \"June\" \"July\" \"Augu\" \"Sept\" \"Octo\"\n",
       "[11] \"Nove\" \"Dece\""
      ]
     },
     "metadata": {},
     "output_type": "display_data"
    }
   ],
   "source": [
    "substr(month.name,1,4)"
   ]
  },
  {
   "cell_type": "markdown",
   "id": "5e77743c",
   "metadata": {},
   "source": [
    "## Factor vector\n",
    "**factor() , ordered()**"
   ]
  },
  {
   "cell_type": "code",
   "execution_count": 72,
   "id": "552af8a9",
   "metadata": {},
   "outputs": [
    {
     "data": {
      "text/html": [
       "<ol class=list-inline>\n",
       "\t<li>'control'</li>\n",
       "\t<li>'treatment'</li>\n",
       "\t<li>'control'</li>\n",
       "\t<li>'treatment'</li>\n",
       "</ol>\n"
      ],
      "text/latex": [
       "\\begin{enumerate*}\n",
       "\\item 'control'\n",
       "\\item 'treatment'\n",
       "\\item 'control'\n",
       "\\item 'treatment'\n",
       "\\end{enumerate*}\n"
      ],
      "text/markdown": [
       "1. 'control'\n",
       "2. 'treatment'\n",
       "3. 'control'\n",
       "4. 'treatment'\n",
       "\n",
       "\n"
      ],
      "text/plain": [
       "[1] \"control\"   \"treatment\" \"control\"   \"treatment\""
      ]
     },
     "metadata": {},
     "output_type": "display_data"
    }
   ],
   "source": [
    "#Factor is like the\n",
    "grp=c(\"control\",\"treatment\",\"control\",\"treatment\")\n",
    "grp"
   ]
  },
  {
   "cell_type": "code",
   "execution_count": 73,
   "id": "461565b9",
   "metadata": {},
   "outputs": [
    {
     "data": {
      "text/html": [
       "<ol class=list-inline>\n",
       "\t<li>1</li>\n",
       "\t<li>2</li>\n",
       "\t<li>1</li>\n",
       "\t<li>2</li>\n",
       "</ol>\n"
      ],
      "text/latex": [
       "\\begin{enumerate*}\n",
       "\\item 1\n",
       "\\item 2\n",
       "\\item 1\n",
       "\\item 2\n",
       "\\end{enumerate*}\n"
      ],
      "text/markdown": [
       "1. 1\n",
       "2. 2\n",
       "3. 1\n",
       "4. 2\n",
       "\n",
       "\n"
      ],
      "text/plain": [
       "[1] 1 2 1 2"
      ]
     },
     "metadata": {},
     "output_type": "display_data"
    }
   ],
   "source": [
    "grp=factor(grp)\n",
    "as.integer(grp)"
   ]
  },
  {
   "cell_type": "code",
   "execution_count": 74,
   "id": "be609843",
   "metadata": {},
   "outputs": [
    {
     "data": {
      "text/html": [
       "<ol class=list-inline>\n",
       "\t<li>1</li>\n",
       "\t<li>2</li>\n",
       "\t<li>1</li>\n",
       "\t<li>2</li>\n",
       "</ol>\n"
      ],
      "text/latex": [
       "\\begin{enumerate*}\n",
       "\\item 1\n",
       "\\item 2\n",
       "\\item 1\n",
       "\\item 2\n",
       "\\end{enumerate*}\n"
      ],
      "text/markdown": [
       "1. 1\n",
       "2. 2\n",
       "3. 1\n",
       "4. 2\n",
       "\n",
       "\n"
      ],
      "text/plain": [
       "[1] 1 2 1 2"
      ]
     },
     "metadata": {},
     "output_type": "display_data"
    }
   ],
   "source": [
    "as.integer(grp)"
   ]
  },
  {
   "cell_type": "code",
   "execution_count": 75,
   "id": "f052af26",
   "metadata": {},
   "outputs": [
    {
     "data": {
      "text/html": [
       "<ol class=list-inline>\n",
       "\t<li>'control'</li>\n",
       "\t<li>'treatment'</li>\n",
       "</ol>\n"
      ],
      "text/latex": [
       "\\begin{enumerate*}\n",
       "\\item 'control'\n",
       "\\item 'treatment'\n",
       "\\end{enumerate*}\n"
      ],
      "text/markdown": [
       "1. 'control'\n",
       "2. 'treatment'\n",
       "\n",
       "\n"
      ],
      "text/plain": [
       "[1] \"control\"   \"treatment\""
      ]
     },
     "metadata": {},
     "output_type": "display_data"
    }
   ],
   "source": [
    "levels(grp)"
   ]
  },
  {
   "cell_type": "markdown",
   "id": "9ce8e837",
   "metadata": {},
   "source": [
    "## Matrix & Array\n",
    "**matrix()**"
   ]
  },
  {
   "cell_type": "code",
   "execution_count": 76,
   "id": "30036e36",
   "metadata": {},
   "outputs": [
    {
     "data": {
      "text/html": [
       "<table>\n",
       "<tbody>\n",
       "\t<tr><td>123</td><td>444</td><td>656</td></tr>\n",
       "\t<tr><td>343</td><td>345</td><td>786</td></tr>\n",
       "\t<tr><td>343</td><td>665</td><td>342</td></tr>\n",
       "</tbody>\n",
       "</table>\n"
      ],
      "text/latex": [
       "\\begin{tabular}{lll}\n",
       "\t 123 & 444 & 656\\\\\n",
       "\t 343 & 345 & 786\\\\\n",
       "\t 343 & 665 & 342\\\\\n",
       "\\end{tabular}\n"
      ],
      "text/markdown": [
       "\n",
       "| 123 | 444 | 656 |\n",
       "| 343 | 345 | 786 |\n",
       "| 343 | 665 | 342 |\n",
       "\n"
      ],
      "text/plain": [
       "     [,1] [,2] [,3]\n",
       "[1,] 123  444  656 \n",
       "[2,] 343  345  786 \n",
       "[3,] 343  665  342 "
      ]
     },
     "metadata": {},
     "output_type": "display_data"
    }
   ],
   "source": [
    "m1=c(123,343,343,444,345,665,656,786,342)\n",
    "m=matrix(m1,nrow = 3) ; m \n",
    "# In R by default the observations are fill by column-wise"
   ]
  },
  {
   "cell_type": "code",
   "execution_count": 80,
   "id": "2e97689c",
   "metadata": {},
   "outputs": [
    {
     "data": {
      "text/html": [
       "<table>\n",
       "<tbody>\n",
       "\t<tr><td>123</td><td>343</td><td>343</td></tr>\n",
       "\t<tr><td>444</td><td>345</td><td>665</td></tr>\n",
       "\t<tr><td>656</td><td>786</td><td>342</td></tr>\n",
       "</tbody>\n",
       "</table>\n"
      ],
      "text/latex": [
       "\\begin{tabular}{lll}\n",
       "\t 123 & 343 & 343\\\\\n",
       "\t 444 & 345 & 665\\\\\n",
       "\t 656 & 786 & 342\\\\\n",
       "\\end{tabular}\n"
      ],
      "text/markdown": [
       "\n",
       "| 123 | 343 | 343 |\n",
       "| 444 | 345 | 665 |\n",
       "| 656 | 786 | 342 |\n",
       "\n"
      ],
      "text/plain": [
       "     [,1] [,2] [,3]\n",
       "[1,] 123  343  343 \n",
       "[2,] 444  345  665 \n",
       "[3,] 656  786  342 "
      ]
     },
     "metadata": {},
     "output_type": "display_data"
    },
    {
     "name": "stdout",
     "output_type": "stream",
     "text": [
      "Dimension of Matrix -: 3 3"
     ]
    }
   ],
   "source": [
    "## If we want to create a matrix which fill by row wise then\n",
    "\n",
    "r=matrix(m1, byrow = TRUE, nrow = 3) ; r \n",
    "cat(\"Dimension of Matrix -:\", dim(r)) \n",
    "# To know the dimension of matrix dim()"
   ]
  },
  {
   "cell_type": "code",
   "execution_count": 81,
   "id": "8d6ad8c2",
   "metadata": {},
   "outputs": [
    {
     "data": {
      "text/html": [
       "<table>\n",
       "<thead><tr><th></th><th scope=col>Apple</th><th scope=col>Orange</th><th scope=col>Litchi</th></tr></thead>\n",
       "<tbody>\n",
       "\t<tr><th scope=row>Amroha</th><td>123</td><td>343</td><td>343</td></tr>\n",
       "\t<tr><th scope=row>Sambhal</th><td>444</td><td>345</td><td>665</td></tr>\n",
       "\t<tr><th scope=row>Moradabad</th><td>656</td><td>786</td><td>342</td></tr>\n",
       "</tbody>\n",
       "</table>\n"
      ],
      "text/latex": [
       "\\begin{tabular}{r|lll}\n",
       "  & Apple & Orange & Litchi\\\\\n",
       "\\hline\n",
       "\tAmroha & 123 & 343 & 343\\\\\n",
       "\tSambhal & 444 & 345 & 665\\\\\n",
       "\tMoradabad & 656 & 786 & 342\\\\\n",
       "\\end{tabular}\n"
      ],
      "text/markdown": [
       "\n",
       "| <!--/--> | Apple | Orange | Litchi |\n",
       "|---|---|---|---|\n",
       "| Amroha | 123 | 343 | 343 |\n",
       "| Sambhal | 444 | 345 | 665 |\n",
       "| Moradabad | 656 | 786 | 342 |\n",
       "\n"
      ],
      "text/plain": [
       "          Apple Orange Litchi\n",
       "Amroha    123   343    343   \n",
       "Sambhal   444   345    665   \n",
       "Moradabad 656   786    342   "
      ]
     },
     "metadata": {},
     "output_type": "display_data"
    }
   ],
   "source": [
    "# If we want to give the names of rows and columns then\n",
    "dimnames(r)=list(c(\"Amroha\",\"Sambhal\",\"Moradabad\"),c(\"Apple\",\"Orange\",\"Litchi\"))\n",
    "r"
   ]
  },
  {
   "cell_type": "code",
   "execution_count": 82,
   "id": "2e5aa6b7",
   "metadata": {},
   "outputs": [
    {
     "data": {
      "text/html": [
       "<table>\n",
       "<thead><tr><th></th><th scope=col>Apple</th><th scope=col>Orange</th><th scope=col>Litchi</th></tr></thead>\n",
       "<tbody>\n",
       "\t<tr><th scope=row>Amroha</th><td>123</td><td>444</td><td>656</td></tr>\n",
       "\t<tr><th scope=row>Sambhal</th><td>343</td><td>345</td><td>786</td></tr>\n",
       "\t<tr><th scope=row>Moradabad</th><td>343</td><td>665</td><td>342</td></tr>\n",
       "</tbody>\n",
       "</table>\n"
      ],
      "text/latex": [
       "\\begin{tabular}{r|lll}\n",
       "  & Apple & Orange & Litchi\\\\\n",
       "\\hline\n",
       "\tAmroha & 123 & 444 & 656\\\\\n",
       "\tSambhal & 343 & 345 & 786\\\\\n",
       "\tMoradabad & 343 & 665 & 342\\\\\n",
       "\\end{tabular}\n"
      ],
      "text/markdown": [
       "\n",
       "| <!--/--> | Apple | Orange | Litchi |\n",
       "|---|---|---|---|\n",
       "| Amroha | 123 | 444 | 656 |\n",
       "| Sambhal | 343 | 345 | 786 |\n",
       "| Moradabad | 343 | 665 | 342 |\n",
       "\n"
      ],
      "text/plain": [
       "          Apple Orange Litchi\n",
       "Amroha    123   444    656   \n",
       "Sambhal   343   345    786   \n",
       "Moradabad 343   665    342   "
      ]
     },
     "metadata": {},
     "output_type": "display_data"
    }
   ],
   "source": [
    "#Other way\n",
    "rn=c(\"Amroha\",\"Sambhal\",\"Moradabad\")\n",
    "cn=c(\"Apple\",\"Orange\",\"Litchi\")\n",
    "rownames(m)<- rn\n",
    "colnames(m)<- cn\n",
    "m"
   ]
  },
  {
   "cell_type": "code",
   "execution_count": 83,
   "id": "12e15593",
   "metadata": {},
   "outputs": [
    {
     "data": {
      "text/html": [
       "<table>\n",
       "<tbody>\n",
       "\t<tr><td>1</td><td>4</td><td>7</td></tr>\n",
       "\t<tr><td>2</td><td>5</td><td>8</td></tr>\n",
       "\t<tr><td>3</td><td>6</td><td>9</td></tr>\n",
       "</tbody>\n",
       "</table>\n"
      ],
      "text/latex": [
       "\\begin{tabular}{lll}\n",
       "\t 1 & 4 & 7\\\\\n",
       "\t 2 & 5 & 8\\\\\n",
       "\t 3 & 6 & 9\\\\\n",
       "\\end{tabular}\n"
      ],
      "text/markdown": [
       "\n",
       "| 1 | 4 | 7 |\n",
       "| 2 | 5 | 8 |\n",
       "| 3 | 6 | 9 |\n",
       "\n"
      ],
      "text/plain": [
       "     [,1] [,2] [,3]\n",
       "[1,] 1    4    7   \n",
       "[2,] 2    5    8   \n",
       "[3,] 3    6    9   "
      ]
     },
     "metadata": {},
     "output_type": "display_data"
    }
   ],
   "source": [
    "#Another Matrix\n",
    "a=matrix(1:9,nrow=3)\n",
    "a"
   ]
  },
  {
   "cell_type": "code",
   "execution_count": 84,
   "id": "79f9c865",
   "metadata": {},
   "outputs": [
    {
     "data": {
      "text/html": [
       "<table>\n",
       "<thead><tr><th></th><th scope=col>A</th><th scope=col>B</th><th scope=col>C</th></tr></thead>\n",
       "<tbody>\n",
       "\t<tr><th scope=row>Amr</th><td>1</td><td>4</td><td>7</td></tr>\n",
       "\t<tr><th scope=row>Mbd</th><td>2</td><td>5</td><td>8</td></tr>\n",
       "\t<tr><th scope=row>Smb</th><td>3</td><td>6</td><td>9</td></tr>\n",
       "</tbody>\n",
       "</table>\n"
      ],
      "text/latex": [
       "\\begin{tabular}{r|lll}\n",
       "  & A & B & C\\\\\n",
       "\\hline\n",
       "\tAmr & 1 & 4 & 7\\\\\n",
       "\tMbd & 2 & 5 & 8\\\\\n",
       "\tSmb & 3 & 6 & 9\\\\\n",
       "\\end{tabular}\n"
      ],
      "text/markdown": [
       "\n",
       "| <!--/--> | A | B | C |\n",
       "|---|---|---|---|\n",
       "| Amr | 1 | 4 | 7 |\n",
       "| Mbd | 2 | 5 | 8 |\n",
       "| Smb | 3 | 6 | 9 |\n",
       "\n"
      ],
      "text/plain": [
       "    A B C\n",
       "Amr 1 4 7\n",
       "Mbd 2 5 8\n",
       "Smb 3 6 9"
      ]
     },
     "metadata": {},
     "output_type": "display_data"
    }
   ],
   "source": [
    "colnames(a)=c(\"A\", \"B\", \"C\")\n",
    "rownames(a)<- c(\"Amr\", \"Mbd\", \"Smb\")\n",
    "a"
   ]
  },
  {
   "cell_type": "code",
   "execution_count": 85,
   "id": "c4b719ac",
   "metadata": {},
   "outputs": [
    {
     "data": {
      "text/html": [
       "<dl class=dl-horizontal>\n",
       "\t<dt>Amr</dt>\n",
       "\t\t<dd>7</dd>\n",
       "\t<dt>Mbd</dt>\n",
       "\t\t<dd>8</dd>\n",
       "\t<dt>Smb</dt>\n",
       "\t\t<dd>9</dd>\n",
       "</dl>\n"
      ],
      "text/latex": [
       "\\begin{description*}\n",
       "\\item[Amr] 7\n",
       "\\item[Mbd] 8\n",
       "\\item[Smb] 9\n",
       "\\end{description*}\n"
      ],
      "text/markdown": [
       "Amr\n",
       ":   7Mbd\n",
       ":   8Smb\n",
       ":   9\n",
       "\n"
      ],
      "text/plain": [
       "Amr Mbd Smb \n",
       "  7   8   9 "
      ]
     },
     "metadata": {},
     "output_type": "display_data"
    }
   ],
   "source": [
    "# Extraction from a matrix---- [,]\n",
    "a[,3]  # for 3rd column"
   ]
  },
  {
   "cell_type": "code",
   "execution_count": 86,
   "id": "a4332d65",
   "metadata": {},
   "outputs": [
    {
     "data": {
      "text/html": [
       "<dl class=dl-horizontal>\n",
       "\t<dt>A</dt>\n",
       "\t\t<dd>3</dd>\n",
       "\t<dt>B</dt>\n",
       "\t\t<dd>6</dd>\n",
       "\t<dt>C</dt>\n",
       "\t\t<dd>9</dd>\n",
       "</dl>\n"
      ],
      "text/latex": [
       "\\begin{description*}\n",
       "\\item[A] 3\n",
       "\\item[B] 6\n",
       "\\item[C] 9\n",
       "\\end{description*}\n"
      ],
      "text/markdown": [
       "A\n",
       ":   3B\n",
       ":   6C\n",
       ":   9\n",
       "\n"
      ],
      "text/plain": [
       "A B C \n",
       "3 6 9 "
      ]
     },
     "metadata": {},
     "output_type": "display_data"
    }
   ],
   "source": [
    "a[3,] # for 3rd ow"
   ]
  },
  {
   "cell_type": "code",
   "execution_count": 87,
   "id": "38b3f133",
   "metadata": {},
   "outputs": [
    {
     "data": {
      "text/html": [
       "<table>\n",
       "<thead><tr><th></th><th scope=col>B</th><th scope=col>C</th></tr></thead>\n",
       "<tbody>\n",
       "\t<tr><th scope=row>Amr</th><td>4</td><td>7</td></tr>\n",
       "\t<tr><th scope=row>Mbd</th><td>5</td><td>8</td></tr>\n",
       "\t<tr><th scope=row>Smb</th><td>6</td><td>9</td></tr>\n",
       "</tbody>\n",
       "</table>\n"
      ],
      "text/latex": [
       "\\begin{tabular}{r|ll}\n",
       "  & B & C\\\\\n",
       "\\hline\n",
       "\tAmr & 4 & 7\\\\\n",
       "\tMbd & 5 & 8\\\\\n",
       "\tSmb & 6 & 9\\\\\n",
       "\\end{tabular}\n"
      ],
      "text/markdown": [
       "\n",
       "| <!--/--> | B | C |\n",
       "|---|---|---|\n",
       "| Amr | 4 | 7 |\n",
       "| Mbd | 5 | 8 |\n",
       "| Smb | 6 | 9 |\n",
       "\n"
      ],
      "text/plain": [
       "    B C\n",
       "Amr 4 7\n",
       "Mbd 5 8\n",
       "Smb 6 9"
      ]
     },
     "metadata": {},
     "output_type": "display_data"
    }
   ],
   "source": [
    "a[,c(2,3)]  # for 2nd & 3rd element of each column"
   ]
  },
  {
   "cell_type": "code",
   "execution_count": 89,
   "id": "87769841",
   "metadata": {},
   "outputs": [
    {
     "data": {
      "text/html": [
       "6"
      ],
      "text/latex": [
       "6"
      ],
      "text/markdown": [
       "6"
      ],
      "text/plain": [
       "[1] 6"
      ]
     },
     "metadata": {},
     "output_type": "display_data"
    }
   ],
   "source": [
    "# fo the element which belongs to 3rd row and 2nd column\n",
    "a[3,2]    "
   ]
  },
  {
   "cell_type": "code",
   "execution_count": 93,
   "id": "08820a17",
   "metadata": {},
   "outputs": [
    {
     "data": {
      "text/html": [
       "<table>\n",
       "<tbody>\n",
       "\t<tr><td>1</td><td>3</td><td>5</td></tr>\n",
       "\t<tr><td>2</td><td>4</td><td>6</td></tr>\n",
       "</tbody>\n",
       "</table>\n"
      ],
      "text/latex": [
       "\\begin{tabular}{lll}\n",
       "\t 1 & 3 & 5\\\\\n",
       "\t 2 & 4 & 6\\\\\n",
       "\\end{tabular}\n"
      ],
      "text/markdown": [
       "\n",
       "| 1 | 3 | 5 |\n",
       "| 2 | 4 | 6 |\n",
       "\n"
      ],
      "text/plain": [
       "     [,1] [,2] [,3]\n",
       "[1,] 1    3    5   \n",
       "[2,] 2    4    6   "
      ]
     },
     "metadata": {},
     "output_type": "display_data"
    }
   ],
   "source": [
    "# Arithmetic Operations on Matrix\n",
    "m2=matrix(1:6,nrow = 2)\n",
    "m2"
   ]
  },
  {
   "cell_type": "code",
   "execution_count": 94,
   "id": "9f9c0be0",
   "metadata": {},
   "outputs": [
    {
     "data": {
      "text/html": [
       "<table>\n",
       "<tbody>\n",
       "\t<tr><th scope=row></th><td>1</td><td>3</td><td>5</td></tr>\n",
       "\t<tr><th scope=row></th><td>2</td><td>4</td><td>6</td></tr>\n",
       "\t<tr><th scope=row>x1</th><td>7</td><td>8</td><td>9</td></tr>\n",
       "</tbody>\n",
       "</table>\n"
      ],
      "text/latex": [
       "\\begin{tabular}{r|lll}\n",
       "\t & 1 & 3 & 5\\\\\n",
       "\t & 2 & 4 & 6\\\\\n",
       "\tx1 & 7 & 8 & 9\\\\\n",
       "\\end{tabular}\n"
      ],
      "text/markdown": [
       "\n",
       "|  | 1 | 3 | 5 |\n",
       "|  | 2 | 4 | 6 |\n",
       "| x1 | 7 | 8 | 9 |\n",
       "\n"
      ],
      "text/plain": [
       "   [,1] [,2] [,3]\n",
       "   1    3    5   \n",
       "   2    4    6   \n",
       "x1 7    8    9   "
      ]
     },
     "metadata": {},
     "output_type": "display_data"
    }
   ],
   "source": [
    "# If we want to add any row OR cilumn in a matrix then \n",
    "# we use the function \"rbind()\" for row and \n",
    "# \"cbind()\" for column\n",
    "x1=c(7,8,9)\n",
    "m2=rbind(m2,x1)  # To add a row\n",
    "m2"
   ]
  },
  {
   "cell_type": "code",
   "execution_count": 95,
   "id": "de9f603e",
   "metadata": {},
   "outputs": [
    {
     "data": {
      "text/html": [
       "<table>\n",
       "<thead><tr><th></th><th scope=col></th><th scope=col></th><th scope=col></th><th scope=col>x2</th></tr></thead>\n",
       "<tbody>\n",
       "\t<tr><th scope=row></th><td>1</td><td>3</td><td>5</td><td>7</td></tr>\n",
       "\t<tr><th scope=row></th><td>2</td><td>4</td><td>6</td><td>8</td></tr>\n",
       "\t<tr><th scope=row>x1</th><td>7</td><td>8</td><td>9</td><td>6</td></tr>\n",
       "</tbody>\n",
       "</table>\n"
      ],
      "text/latex": [
       "\\begin{tabular}{r|llll}\n",
       "  &  &  &  & x2\\\\\n",
       "\\hline\n",
       "\t & 1 & 3 & 5 & 7\\\\\n",
       "\t & 2 & 4 & 6 & 8\\\\\n",
       "\tx1 & 7 & 8 & 9 & 6\\\\\n",
       "\\end{tabular}\n"
      ],
      "text/markdown": [
       "\n",
       "| <!--/--> |  |  |  | x2 |\n",
       "|---|---|---|---|---|\n",
       "|  | 1 | 3 | 5 | 7 |\n",
       "|  | 2 | 4 | 6 | 8 |\n",
       "| x1 | 7 | 8 | 9 | 6 |\n",
       "\n"
      ],
      "text/plain": [
       "         x2\n",
       "   1 3 5 7 \n",
       "   2 4 6 8 \n",
       "x1 7 8 9 6 "
      ]
     },
     "metadata": {},
     "output_type": "display_data"
    }
   ],
   "source": [
    "x2=c(7,8,6)\n",
    "m2=cbind(m2,x2)\n",
    "m2"
   ]
  },
  {
   "cell_type": "code",
   "execution_count": 96,
   "id": "340fe6bb",
   "metadata": {},
   "outputs": [
    {
     "data": {
      "text/html": [
       "<table>\n",
       "<tbody>\n",
       "\t<tr><td>1</td><td>4</td><td>7</td></tr>\n",
       "\t<tr><td>2</td><td>5</td><td>8</td></tr>\n",
       "\t<tr><td>3</td><td>6</td><td>9</td></tr>\n",
       "</tbody>\n",
       "</table>\n"
      ],
      "text/latex": [
       "\\begin{tabular}{lll}\n",
       "\t 1 & 4 & 7\\\\\n",
       "\t 2 & 5 & 8\\\\\n",
       "\t 3 & 6 & 9\\\\\n",
       "\\end{tabular}\n"
      ],
      "text/markdown": [
       "\n",
       "| 1 | 4 | 7 |\n",
       "| 2 | 5 | 8 |\n",
       "| 3 | 6 | 9 |\n",
       "\n"
      ],
      "text/plain": [
       "     [,1] [,2] [,3]\n",
       "[1,] 1    4    7   \n",
       "[2,] 2    5    8   \n",
       "[3,] 3    6    9   "
      ]
     },
     "metadata": {},
     "output_type": "display_data"
    }
   ],
   "source": [
    "# Arithmetic Operators on a Matrix\n",
    "a=matrix(1:9, nrow = 3) ; a\n"
   ]
  },
  {
   "cell_type": "code",
   "execution_count": 97,
   "id": "fe444010",
   "metadata": {},
   "outputs": [
    {
     "data": {
      "text/html": [
       "<table>\n",
       "<tbody>\n",
       "\t<tr><td>10</td><td>13</td><td>16</td></tr>\n",
       "\t<tr><td>11</td><td>14</td><td>17</td></tr>\n",
       "\t<tr><td>12</td><td>15</td><td>18</td></tr>\n",
       "</tbody>\n",
       "</table>\n"
      ],
      "text/latex": [
       "\\begin{tabular}{lll}\n",
       "\t 10 & 13 & 16\\\\\n",
       "\t 11 & 14 & 17\\\\\n",
       "\t 12 & 15 & 18\\\\\n",
       "\\end{tabular}\n"
      ],
      "text/markdown": [
       "\n",
       "| 10 | 13 | 16 |\n",
       "| 11 | 14 | 17 |\n",
       "| 12 | 15 | 18 |\n",
       "\n"
      ],
      "text/plain": [
       "     [,1] [,2] [,3]\n",
       "[1,] 10   13   16  \n",
       "[2,] 11   14   17  \n",
       "[3,] 12   15   18  "
      ]
     },
     "metadata": {},
     "output_type": "display_data"
    }
   ],
   "source": [
    "b=matrix(10:18, nrow = 3) ;b"
   ]
  },
  {
   "cell_type": "code",
   "execution_count": 98,
   "id": "0a3b82b6",
   "metadata": {},
   "outputs": [
    {
     "data": {
      "text/html": [
       "<table>\n",
       "<tbody>\n",
       "\t<tr><td>11</td><td>17</td><td>23</td></tr>\n",
       "\t<tr><td>13</td><td>19</td><td>25</td></tr>\n",
       "\t<tr><td>15</td><td>21</td><td>27</td></tr>\n",
       "</tbody>\n",
       "</table>\n"
      ],
      "text/latex": [
       "\\begin{tabular}{lll}\n",
       "\t 11 & 17 & 23\\\\\n",
       "\t 13 & 19 & 25\\\\\n",
       "\t 15 & 21 & 27\\\\\n",
       "\\end{tabular}\n"
      ],
      "text/markdown": [
       "\n",
       "| 11 | 17 | 23 |\n",
       "| 13 | 19 | 25 |\n",
       "| 15 | 21 | 27 |\n",
       "\n"
      ],
      "text/plain": [
       "     [,1] [,2] [,3]\n",
       "[1,] 11   17   23  \n",
       "[2,] 13   19   25  \n",
       "[3,] 15   21   27  "
      ]
     },
     "metadata": {},
     "output_type": "display_data"
    }
   ],
   "source": [
    "a+b  # To add two Matrices"
   ]
  },
  {
   "cell_type": "code",
   "execution_count": 99,
   "id": "bd216ef3",
   "metadata": {},
   "outputs": [
    {
     "data": {
      "text/html": [
       "<table>\n",
       "<tbody>\n",
       "\t<tr><td>-9</td><td>-9</td><td>-9</td></tr>\n",
       "\t<tr><td>-9</td><td>-9</td><td>-9</td></tr>\n",
       "\t<tr><td>-9</td><td>-9</td><td>-9</td></tr>\n",
       "</tbody>\n",
       "</table>\n"
      ],
      "text/latex": [
       "\\begin{tabular}{lll}\n",
       "\t -9 & -9 & -9\\\\\n",
       "\t -9 & -9 & -9\\\\\n",
       "\t -9 & -9 & -9\\\\\n",
       "\\end{tabular}\n"
      ],
      "text/markdown": [
       "\n",
       "| -9 | -9 | -9 |\n",
       "| -9 | -9 | -9 |\n",
       "| -9 | -9 | -9 |\n",
       "\n"
      ],
      "text/plain": [
       "     [,1] [,2] [,3]\n",
       "[1,] -9   -9   -9  \n",
       "[2,] -9   -9   -9  \n",
       "[3,] -9   -9   -9  "
      ]
     },
     "metadata": {},
     "output_type": "display_data"
    }
   ],
   "source": [
    "a-b  # To subtract two Matrices"
   ]
  },
  {
   "cell_type": "code",
   "execution_count": 102,
   "id": "7d9087f8",
   "metadata": {},
   "outputs": [
    {
     "data": {
      "text/html": [
       "<table>\n",
       "<tbody>\n",
       "\t<tr><td>9</td><td>9</td><td>9</td></tr>\n",
       "\t<tr><td>9</td><td>9</td><td>9</td></tr>\n",
       "\t<tr><td>9</td><td>9</td><td>9</td></tr>\n",
       "</tbody>\n",
       "</table>\n"
      ],
      "text/latex": [
       "\\begin{tabular}{lll}\n",
       "\t 9 & 9 & 9\\\\\n",
       "\t 9 & 9 & 9\\\\\n",
       "\t 9 & 9 & 9\\\\\n",
       "\\end{tabular}\n"
      ],
      "text/markdown": [
       "\n",
       "| 9 | 9 | 9 |\n",
       "| 9 | 9 | 9 |\n",
       "| 9 | 9 | 9 |\n",
       "\n"
      ],
      "text/plain": [
       "     [,1] [,2] [,3]\n",
       "[1,] 9    9    9   \n",
       "[2,] 9    9    9   \n",
       "[3,] 9    9    9   "
      ]
     },
     "metadata": {},
     "output_type": "display_data"
    }
   ],
   "source": [
    "b-a"
   ]
  },
  {
   "cell_type": "code",
   "execution_count": 103,
   "id": "19c99276",
   "metadata": {},
   "outputs": [
    {
     "data": {
      "text/html": [
       "<table>\n",
       "<tbody>\n",
       "\t<tr><td>0.1000000</td><td>0.3076923</td><td>0.4375000</td></tr>\n",
       "\t<tr><td>0.1818182</td><td>0.3571429</td><td>0.4705882</td></tr>\n",
       "\t<tr><td>0.2500000</td><td>0.4000000</td><td>0.5000000</td></tr>\n",
       "</tbody>\n",
       "</table>\n"
      ],
      "text/latex": [
       "\\begin{tabular}{lll}\n",
       "\t 0.1000000 & 0.3076923 & 0.4375000\\\\\n",
       "\t 0.1818182 & 0.3571429 & 0.4705882\\\\\n",
       "\t 0.2500000 & 0.4000000 & 0.5000000\\\\\n",
       "\\end{tabular}\n"
      ],
      "text/markdown": [
       "\n",
       "| 0.1000000 | 0.3076923 | 0.4375000 |\n",
       "| 0.1818182 | 0.3571429 | 0.4705882 |\n",
       "| 0.2500000 | 0.4000000 | 0.5000000 |\n",
       "\n"
      ],
      "text/plain": [
       "     [,1]      [,2]      [,3]     \n",
       "[1,] 0.1000000 0.3076923 0.4375000\n",
       "[2,] 0.1818182 0.3571429 0.4705882\n",
       "[3,] 0.2500000 0.4000000 0.5000000"
      ]
     },
     "metadata": {},
     "output_type": "display_data"
    }
   ],
   "source": [
    "a/b # To divide two Matrix"
   ]
  },
  {
   "cell_type": "code",
   "execution_count": 104,
   "id": "b851d957",
   "metadata": {},
   "outputs": [
    {
     "data": {
      "text/html": [
       "<table>\n",
       "<tbody>\n",
       "\t<tr><td>10.0    </td><td>3.25    </td><td>2.285714</td></tr>\n",
       "\t<tr><td> 5.5    </td><td>2.80    </td><td>2.125000</td></tr>\n",
       "\t<tr><td> 4.0    </td><td>2.50    </td><td>2.000000</td></tr>\n",
       "</tbody>\n",
       "</table>\n"
      ],
      "text/latex": [
       "\\begin{tabular}{lll}\n",
       "\t 10.0     & 3.25     & 2.285714\\\\\n",
       "\t  5.5     & 2.80     & 2.125000\\\\\n",
       "\t  4.0     & 2.50     & 2.000000\\\\\n",
       "\\end{tabular}\n"
      ],
      "text/markdown": [
       "\n",
       "| 10.0     | 3.25     | 2.285714 |\n",
       "|  5.5     | 2.80     | 2.125000 |\n",
       "|  4.0     | 2.50     | 2.000000 |\n",
       "\n"
      ],
      "text/plain": [
       "     [,1] [,2] [,3]    \n",
       "[1,] 10.0 3.25 2.285714\n",
       "[2,]  5.5 2.80 2.125000\n",
       "[3,]  4.0 2.50 2.000000"
      ]
     },
     "metadata": {},
     "output_type": "display_data"
    }
   ],
   "source": [
    "b/a"
   ]
  },
  {
   "cell_type": "code",
   "execution_count": 105,
   "id": "1580ce4e",
   "metadata": {},
   "outputs": [
    {
     "data": {
      "text/html": [
       "<table>\n",
       "<tbody>\n",
       "\t<tr><td>10 </td><td>52 </td><td>112</td></tr>\n",
       "\t<tr><td>22 </td><td>70 </td><td>136</td></tr>\n",
       "\t<tr><td>36 </td><td>90 </td><td>162</td></tr>\n",
       "</tbody>\n",
       "</table>\n"
      ],
      "text/latex": [
       "\\begin{tabular}{lll}\n",
       "\t 10  & 52  & 112\\\\\n",
       "\t 22  & 70  & 136\\\\\n",
       "\t 36  & 90  & 162\\\\\n",
       "\\end{tabular}\n"
      ],
      "text/markdown": [
       "\n",
       "| 10  | 52  | 112 |\n",
       "| 22  | 70  | 136 |\n",
       "| 36  | 90  | 162 |\n",
       "\n"
      ],
      "text/plain": [
       "     [,1] [,2] [,3]\n",
       "[1,] 10   52   112 \n",
       "[2,] 22   70   136 \n",
       "[3,] 36   90   162 "
      ]
     },
     "metadata": {},
     "output_type": "display_data"
    }
   ],
   "source": [
    "a*b # Multiplication of Matrix which is really wrong"
   ]
  },
  {
   "cell_type": "code",
   "execution_count": 106,
   "id": "d7c1fee6",
   "metadata": {},
   "outputs": [
    {
     "data": {
      "text/html": [
       "<table>\n",
       "<tbody>\n",
       "\t<tr><td>10 </td><td>52 </td><td>112</td></tr>\n",
       "\t<tr><td>22 </td><td>70 </td><td>136</td></tr>\n",
       "\t<tr><td>36 </td><td>90 </td><td>162</td></tr>\n",
       "</tbody>\n",
       "</table>\n"
      ],
      "text/latex": [
       "\\begin{tabular}{lll}\n",
       "\t 10  & 52  & 112\\\\\n",
       "\t 22  & 70  & 136\\\\\n",
       "\t 36  & 90  & 162\\\\\n",
       "\\end{tabular}\n"
      ],
      "text/markdown": [
       "\n",
       "| 10  | 52  | 112 |\n",
       "| 22  | 70  | 136 |\n",
       "| 36  | 90  | 162 |\n",
       "\n"
      ],
      "text/plain": [
       "     [,1] [,2] [,3]\n",
       "[1,] 10   52   112 \n",
       "[2,] 22   70   136 \n",
       "[3,] 36   90   162 "
      ]
     },
     "metadata": {},
     "output_type": "display_data"
    }
   ],
   "source": [
    "b*a # Wrong Multiplication"
   ]
  },
  {
   "cell_type": "code",
   "execution_count": 107,
   "id": "4af74272",
   "metadata": {},
   "outputs": [
    {
     "data": {
      "text/html": [
       "<table>\n",
       "<tbody>\n",
       "\t<tr><td>84 </td><td>201</td><td>318</td></tr>\n",
       "\t<tr><td>90 </td><td>216</td><td>342</td></tr>\n",
       "\t<tr><td>96 </td><td>231</td><td>366</td></tr>\n",
       "</tbody>\n",
       "</table>\n"
      ],
      "text/latex": [
       "\\begin{tabular}{lll}\n",
       "\t 84  & 201 & 318\\\\\n",
       "\t 90  & 216 & 342\\\\\n",
       "\t 96  & 231 & 366\\\\\n",
       "\\end{tabular}\n"
      ],
      "text/markdown": [
       "\n",
       "| 84  | 201 | 318 |\n",
       "| 90  | 216 | 342 |\n",
       "| 96  | 231 | 366 |\n",
       "\n"
      ],
      "text/plain": [
       "     [,1] [,2] [,3]\n",
       "[1,] 84   201  318 \n",
       "[2,] 90   216  342 \n",
       "[3,] 96   231  366 "
      ]
     },
     "metadata": {},
     "output_type": "display_data"
    }
   ],
   "source": [
    "# Both the above multiplication command gives wrong answer\n",
    "b %*% a"
   ]
  },
  {
   "cell_type": "code",
   "execution_count": 108,
   "id": "3c2e8857",
   "metadata": {},
   "outputs": [
    {
     "data": {
      "text/html": [
       "<table>\n",
       "<tbody>\n",
       "\t<tr><td>138</td><td>174</td><td>210</td></tr>\n",
       "\t<tr><td>171</td><td>216</td><td>261</td></tr>\n",
       "\t<tr><td>204</td><td>258</td><td>312</td></tr>\n",
       "</tbody>\n",
       "</table>\n"
      ],
      "text/latex": [
       "\\begin{tabular}{lll}\n",
       "\t 138 & 174 & 210\\\\\n",
       "\t 171 & 216 & 261\\\\\n",
       "\t 204 & 258 & 312\\\\\n",
       "\\end{tabular}\n"
      ],
      "text/markdown": [
       "\n",
       "| 138 | 174 | 210 |\n",
       "| 171 | 216 | 261 |\n",
       "| 204 | 258 | 312 |\n",
       "\n"
      ],
      "text/plain": [
       "     [,1] [,2] [,3]\n",
       "[1,] 138  174  210 \n",
       "[2,] 171  216  261 \n",
       "[3,] 204  258  312 "
      ]
     },
     "metadata": {},
     "output_type": "display_data"
    }
   ],
   "source": [
    "a %*% b"
   ]
  },
  {
   "cell_type": "code",
   "execution_count": 113,
   "id": "b8a93897",
   "metadata": {},
   "outputs": [
    {
     "data": {
      "text/html": [
       "<table>\n",
       "<tbody>\n",
       "\t<tr><td>1</td><td>4</td><td>7</td></tr>\n",
       "\t<tr><td>2</td><td>5</td><td>8</td></tr>\n",
       "\t<tr><td>3</td><td>6</td><td>9</td></tr>\n",
       "</tbody>\n",
       "</table>\n"
      ],
      "text/latex": [
       "\\begin{tabular}{lll}\n",
       "\t 1 & 4 & 7\\\\\n",
       "\t 2 & 5 & 8\\\\\n",
       "\t 3 & 6 & 9\\\\\n",
       "\\end{tabular}\n"
      ],
      "text/markdown": [
       "\n",
       "| 1 | 4 | 7 |\n",
       "| 2 | 5 | 8 |\n",
       "| 3 | 6 | 9 |\n",
       "\n"
      ],
      "text/plain": [
       "     [,1] [,2] [,3]\n",
       "[1,] 1    4    7   \n",
       "[2,] 2    5    8   \n",
       "[3,] 3    6    9   "
      ]
     },
     "metadata": {},
     "output_type": "display_data"
    }
   ],
   "source": [
    "a"
   ]
  },
  {
   "cell_type": "code",
   "execution_count": 109,
   "id": "87c739c1",
   "metadata": {},
   "outputs": [
    {
     "data": {
      "text/html": [
       "<table>\n",
       "<tbody>\n",
       "\t<tr><td>1.0000000</td><td>0.2500000</td><td>0.1428571</td></tr>\n",
       "\t<tr><td>0.5000000</td><td>0.2000000</td><td>0.1250000</td></tr>\n",
       "\t<tr><td>0.3333333</td><td>0.1666667</td><td>0.1111111</td></tr>\n",
       "</tbody>\n",
       "</table>\n"
      ],
      "text/latex": [
       "\\begin{tabular}{lll}\n",
       "\t 1.0000000 & 0.2500000 & 0.1428571\\\\\n",
       "\t 0.5000000 & 0.2000000 & 0.1250000\\\\\n",
       "\t 0.3333333 & 0.1666667 & 0.1111111\\\\\n",
       "\\end{tabular}\n"
      ],
      "text/markdown": [
       "\n",
       "| 1.0000000 | 0.2500000 | 0.1428571 |\n",
       "| 0.5000000 | 0.2000000 | 0.1250000 |\n",
       "| 0.3333333 | 0.1666667 | 0.1111111 |\n",
       "\n"
      ],
      "text/plain": [
       "     [,1]      [,2]      [,3]     \n",
       "[1,] 1.0000000 0.2500000 0.1428571\n",
       "[2,] 0.5000000 0.2000000 0.1250000\n",
       "[3,] 0.3333333 0.1666667 0.1111111"
      ]
     },
     "metadata": {},
     "output_type": "display_data"
    }
   ],
   "source": [
    "1/a # To find reciprocal "
   ]
  },
  {
   "cell_type": "code",
   "execution_count": 110,
   "id": "50c31e95",
   "metadata": {},
   "outputs": [
    {
     "data": {
      "text/html": [
       "<table>\n",
       "<tbody>\n",
       "\t<tr><td>2 </td><td>5 </td><td> 8</td></tr>\n",
       "\t<tr><td>3 </td><td>6 </td><td> 9</td></tr>\n",
       "\t<tr><td>4 </td><td>7 </td><td>10</td></tr>\n",
       "</tbody>\n",
       "</table>\n"
      ],
      "text/latex": [
       "\\begin{tabular}{lll}\n",
       "\t 2  & 5  &  8\\\\\n",
       "\t 3  & 6  &  9\\\\\n",
       "\t 4  & 7  & 10\\\\\n",
       "\\end{tabular}\n"
      ],
      "text/markdown": [
       "\n",
       "| 2  | 5  |  8 |\n",
       "| 3  | 6  |  9 |\n",
       "| 4  | 7  | 10 |\n",
       "\n"
      ],
      "text/plain": [
       "     [,1] [,2] [,3]\n",
       "[1,] 2    5     8  \n",
       "[2,] 3    6     9  \n",
       "[3,] 4    7    10  "
      ]
     },
     "metadata": {},
     "output_type": "display_data"
    }
   ],
   "source": [
    "a+1 # To add 1 in each element of matrix a "
   ]
  },
  {
   "cell_type": "code",
   "execution_count": 111,
   "id": "9b1fb76f",
   "metadata": {},
   "outputs": [
    {
     "data": {
      "text/html": [
       "<table>\n",
       "<tbody>\n",
       "\t<tr><td>1 </td><td>16</td><td>49</td></tr>\n",
       "\t<tr><td>4 </td><td>25</td><td>64</td></tr>\n",
       "\t<tr><td>9 </td><td>36</td><td>81</td></tr>\n",
       "</tbody>\n",
       "</table>\n"
      ],
      "text/latex": [
       "\\begin{tabular}{lll}\n",
       "\t 1  & 16 & 49\\\\\n",
       "\t 4  & 25 & 64\\\\\n",
       "\t 9  & 36 & 81\\\\\n",
       "\\end{tabular}\n"
      ],
      "text/markdown": [
       "\n",
       "| 1  | 16 | 49 |\n",
       "| 4  | 25 | 64 |\n",
       "| 9  | 36 | 81 |\n",
       "\n"
      ],
      "text/plain": [
       "     [,1] [,2] [,3]\n",
       "[1,] 1    16   49  \n",
       "[2,] 4    25   64  \n",
       "[3,] 9    36   81  "
      ]
     },
     "metadata": {},
     "output_type": "display_data"
    }
   ],
   "source": [
    "a^2  # for square of each element"
   ]
  },
  {
   "cell_type": "code",
   "execution_count": 112,
   "id": "16fb732c",
   "metadata": {},
   "outputs": [
    {
     "data": {
      "text/html": [
       "<table>\n",
       "<tbody>\n",
       "\t<tr><td>1</td><td>2</td><td>3</td></tr>\n",
       "\t<tr><td>4</td><td>5</td><td>6</td></tr>\n",
       "\t<tr><td>7</td><td>8</td><td>9</td></tr>\n",
       "</tbody>\n",
       "</table>\n"
      ],
      "text/latex": [
       "\\begin{tabular}{lll}\n",
       "\t 1 & 2 & 3\\\\\n",
       "\t 4 & 5 & 6\\\\\n",
       "\t 7 & 8 & 9\\\\\n",
       "\\end{tabular}\n"
      ],
      "text/markdown": [
       "\n",
       "| 1 | 2 | 3 |\n",
       "| 4 | 5 | 6 |\n",
       "| 7 | 8 | 9 |\n",
       "\n"
      ],
      "text/plain": [
       "     [,1] [,2] [,3]\n",
       "[1,] 1    2    3   \n",
       "[2,] 4    5    6   \n",
       "[3,] 7    8    9   "
      ]
     },
     "metadata": {},
     "output_type": "display_data"
    }
   ],
   "source": [
    "t(a) # To transpose the Matrix"
   ]
  },
  {
   "cell_type": "code",
   "execution_count": 117,
   "id": "577a6cf5",
   "metadata": {},
   "outputs": [
    {
     "name": "stdout",
     "output_type": "stream",
     "text": [
      "     [,1] [,2]\n",
      "[1,]    3   -4\n",
      "[2,]    1    2\n",
      "[1]  6 -3\n",
      "[1] -2.960595e-16 -1.500000e+00\n"
     ]
    }
   ],
   "source": [
    "# Matrix Solution\n",
    "#3x1-4x2=6\n",
    "#x1+2x2=-3\n",
    "# Ax=b\n",
    "# x=A(^-1)b\n",
    "# solve(A,x)\n",
    "A<-matrix(c(3,1,-4,2),ncol=2)\n",
    "print( A)\n",
    "\n",
    "b<-c(6,-3)\n",
    "print(b)\n",
    "x=solve(A,b)\n",
    "print(x)"
   ]
  },
  {
   "cell_type": "markdown",
   "id": "2c57b499",
   "metadata": {},
   "source": [
    "### Array \n",
    "Array is multi- dimensional matrix while Matrix is not.\n",
    "<br>**Note :-** Every Matrix is an Array but every Array is not Matrix .\n",
    "<br>_**array()**_"
   ]
  },
  {
   "cell_type": "code",
   "execution_count": 118,
   "id": "1ad74e1f",
   "metadata": {},
   "outputs": [
    {
     "data": {
      "text/html": [
       "<ol class=list-inline>\n",
       "\t<li>1</li>\n",
       "\t<li>2</li>\n",
       "\t<li>3</li>\n",
       "\t<li>4</li>\n",
       "\t<li>5</li>\n",
       "\t<li>6</li>\n",
       "\t<li>7</li>\n",
       "\t<li>8</li>\n",
       "</ol>\n"
      ],
      "text/latex": [
       "\\begin{enumerate*}\n",
       "\\item 1\n",
       "\\item 2\n",
       "\\item 3\n",
       "\\item 4\n",
       "\\item 5\n",
       "\\item 6\n",
       "\\item 7\n",
       "\\item 8\n",
       "\\end{enumerate*}\n"
      ],
      "text/markdown": [
       "1. 1\n",
       "2. 2\n",
       "3. 3\n",
       "4. 4\n",
       "5. 5\n",
       "6. 6\n",
       "7. 7\n",
       "8. 8\n",
       "\n",
       "\n"
      ],
      "text/plain": [
       ", , 1\n",
       "\n",
       "     [,1] [,2]\n",
       "[1,]    1    3\n",
       "[2,]    2    4\n",
       "\n",
       ", , 2\n",
       "\n",
       "     [,1] [,2]\n",
       "[1,]    5    7\n",
       "[2,]    6    8\n"
      ]
     },
     "metadata": {},
     "output_type": "display_data"
    },
    {
     "data": {
      "text/html": [
       "<ol class=list-inline>\n",
       "\t<li>2</li>\n",
       "\t<li>2</li>\n",
       "\t<li>2</li>\n",
       "</ol>\n"
      ],
      "text/latex": [
       "\\begin{enumerate*}\n",
       "\\item 2\n",
       "\\item 2\n",
       "\\item 2\n",
       "\\end{enumerate*}\n"
      ],
      "text/markdown": [
       "1. 2\n",
       "2. 2\n",
       "3. 2\n",
       "\n",
       "\n"
      ],
      "text/plain": [
       "[1] 2 2 2"
      ]
     },
     "metadata": {},
     "output_type": "display_data"
    }
   ],
   "source": [
    "a1<- array(1:8,c(2,2,2))\n",
    "a1\n",
    "dim(a1)"
   ]
  },
  {
   "cell_type": "code",
   "execution_count": 119,
   "id": "65344129",
   "metadata": {},
   "outputs": [
    {
     "data": {
      "text/html": [
       "<ol class=list-inline>\n",
       "\t<li>1</li>\n",
       "\t<li>2</li>\n",
       "\t<li>3</li>\n",
       "\t<li>4</li>\n",
       "\t<li>5</li>\n",
       "\t<li>6</li>\n",
       "\t<li>7</li>\n",
       "\t<li>8</li>\n",
       "</ol>\n"
      ],
      "text/latex": [
       "\\begin{enumerate*}\n",
       "\\item 1\n",
       "\\item 2\n",
       "\\item 3\n",
       "\\item 4\n",
       "\\item 5\n",
       "\\item 6\n",
       "\\item 7\n",
       "\\item 8\n",
       "\\end{enumerate*}\n"
      ],
      "text/markdown": [
       "1. 1\n",
       "2. 2\n",
       "3. 3\n",
       "4. 4\n",
       "5. 5\n",
       "6. 6\n",
       "7. 7\n",
       "8. 8\n",
       "\n",
       "\n"
      ],
      "text/plain": [
       ", , D1\n",
       "\n",
       "  C D\n",
       "a 1 3\n",
       "b 2 4\n",
       "\n",
       ", , D2\n",
       "\n",
       "  C D\n",
       "a 5 7\n",
       "b 6 8\n"
      ]
     },
     "metadata": {},
     "output_type": "display_data"
    }
   ],
   "source": [
    "dimnames(a1)=list(c(\"a\",\"b\"),LETTERS[3:4],c(\"D1\",\"D2\"))\n",
    "a1"
   ]
  },
  {
   "cell_type": "markdown",
   "id": "fae17ce6",
   "metadata": {},
   "source": [
    "## Data Frame\n",
    "These are objects, a kind of generalization of matrices . Generalization in the sence that columns can be of different types from each other . This flexibility is not with matrices . use **data.frame()** to construct a data frame from vector.\n",
    "<br>Most of the data sets are stored in R as data frames. These are like matrices, but with the columns having their own names , Several come with R .\n",
    "<br>syntax :- $data.frame(New-Name=Old-Name)$"
   ]
  },
  {
   "cell_type": "code",
   "execution_count": 120,
   "id": "860c8954",
   "metadata": {},
   "outputs": [
    {
     "data": {
      "text/html": [
       "<table>\n",
       "<thead><tr><th scope=col>Days</th><th scope=col>Temp</th><th scope=col>Rain</th></tr></thead>\n",
       "<tbody>\n",
       "\t<tr><td>Mon  </td><td>22   </td><td> TRUE</td></tr>\n",
       "\t<tr><td>Tue  </td><td>21   </td><td> TRUE</td></tr>\n",
       "\t<tr><td>Wed  </td><td>23   </td><td>FALSE</td></tr>\n",
       "\t<tr><td>Thru </td><td>30   </td><td>FALSE</td></tr>\n",
       "\t<tr><td>Fri  </td><td>33   </td><td> TRUE</td></tr>\n",
       "</tbody>\n",
       "</table>\n"
      ],
      "text/latex": [
       "\\begin{tabular}{r|lll}\n",
       " Days & Temp & Rain\\\\\n",
       "\\hline\n",
       "\t Mon   & 22    &  TRUE\\\\\n",
       "\t Tue   & 21    &  TRUE\\\\\n",
       "\t Wed   & 23    & FALSE\\\\\n",
       "\t Thru  & 30    & FALSE\\\\\n",
       "\t Fri   & 33    &  TRUE\\\\\n",
       "\\end{tabular}\n"
      ],
      "text/markdown": [
       "\n",
       "| Days | Temp | Rain |\n",
       "|---|---|---|\n",
       "| Mon   | 22    |  TRUE |\n",
       "| Tue   | 21    |  TRUE |\n",
       "| Wed   | 23    | FALSE |\n",
       "| Thru  | 30    | FALSE |\n",
       "| Fri   | 33    |  TRUE |\n",
       "\n"
      ],
      "text/plain": [
       "  Days Temp Rain \n",
       "1 Mon  22    TRUE\n",
       "2 Tue  21    TRUE\n",
       "3 Wed  23   FALSE\n",
       "4 Thru 30   FALSE\n",
       "5 Fri  33    TRUE"
      ]
     },
     "metadata": {},
     "output_type": "display_data"
    }
   ],
   "source": [
    "days<- c('Mon', 'Tue', 'Wed', 'Thru', 'Fri')\n",
    "temp<- c(22, 21, 23, 30, 33)\n",
    "rain<- c(T, T, F, F, T)\n",
    "df1<- data.frame(Days=days, Temp=temp, Rain=rain) ; df1"
   ]
  },
  {
   "cell_type": "code",
   "execution_count": 121,
   "id": "b4e1b261",
   "metadata": {},
   "outputs": [
    {
     "name": "stdout",
     "output_type": "stream",
     "text": [
      "'data.frame':\t5 obs. of  3 variables:\n",
      " $ Days: Factor w/ 5 levels \"Fri\",\"Mon\",\"Thru\",..: 2 4 5 3 1\n",
      " $ Temp: num  22 21 23 30 33\n",
      " $ Rain: logi  TRUE TRUE FALSE FALSE TRUE\n"
     ]
    }
   ],
   "source": [
    "str(df1)  # To see the structure of data / data frame"
   ]
  },
  {
   "cell_type": "code",
   "execution_count": 122,
   "id": "9f09abcd",
   "metadata": {},
   "outputs": [
    {
     "data": {
      "text/plain": [
       "   Days        Temp         Rain        \n",
       " Fri :1   Min.   :21.0   Mode :logical  \n",
       " Mon :1   1st Qu.:22.0   FALSE:2        \n",
       " Thru:1   Median :23.0   TRUE :3        \n",
       " Tue :1   Mean   :25.8                  \n",
       " Wed :1   3rd Qu.:30.0                  \n",
       "          Max.   :33.0                  "
      ]
     },
     "metadata": {},
     "output_type": "display_data"
    }
   ],
   "source": [
    "summary(df1)"
   ]
  },
  {
   "cell_type": "code",
   "execution_count": 123,
   "id": "3e4e14a8",
   "metadata": {},
   "outputs": [
    {
     "data": {
      "text/html": [
       "<table>\n",
       "<thead><tr><th scope=col>Days</th><th scope=col>Temp</th><th scope=col>Rain</th></tr></thead>\n",
       "<tbody>\n",
       "\t<tr><td>Mon </td><td>22  </td><td>TRUE</td></tr>\n",
       "</tbody>\n",
       "</table>\n"
      ],
      "text/latex": [
       "\\begin{tabular}{r|lll}\n",
       " Days & Temp & Rain\\\\\n",
       "\\hline\n",
       "\t Mon  & 22   & TRUE\\\\\n",
       "\\end{tabular}\n"
      ],
      "text/markdown": [
       "\n",
       "| Days | Temp | Rain |\n",
       "|---|---|---|\n",
       "| Mon  | 22   | TRUE |\n",
       "\n"
      ],
      "text/plain": [
       "  Days Temp Rain\n",
       "1 Mon  22   TRUE"
      ]
     },
     "metadata": {},
     "output_type": "display_data"
    }
   ],
   "source": [
    "df1[1,]  # To extract the data row-wise"
   ]
  },
  {
   "cell_type": "code",
   "execution_count": 124,
   "id": "d426d1a7",
   "metadata": {},
   "outputs": [
    {
     "data": {
      "text/html": [
       "<table>\n",
       "<thead><tr><th scope=col>Rain</th></tr></thead>\n",
       "<tbody>\n",
       "\t<tr><td> TRUE</td></tr>\n",
       "\t<tr><td> TRUE</td></tr>\n",
       "\t<tr><td>FALSE</td></tr>\n",
       "\t<tr><td>FALSE</td></tr>\n",
       "\t<tr><td> TRUE</td></tr>\n",
       "</tbody>\n",
       "</table>\n"
      ],
      "text/latex": [
       "\\begin{tabular}{r|l}\n",
       " Rain\\\\\n",
       "\\hline\n",
       "\t  TRUE\\\\\n",
       "\t  TRUE\\\\\n",
       "\t FALSE\\\\\n",
       "\t FALSE\\\\\n",
       "\t  TRUE\\\\\n",
       "\\end{tabular}\n"
      ],
      "text/markdown": [
       "\n",
       "| Rain |\n",
       "|---|\n",
       "|  TRUE |\n",
       "|  TRUE |\n",
       "| FALSE |\n",
       "| FALSE |\n",
       "|  TRUE |\n",
       "\n"
      ],
      "text/plain": [
       "  Rain \n",
       "1  TRUE\n",
       "2  TRUE\n",
       "3 FALSE\n",
       "4 FALSE\n",
       "5  TRUE"
      ]
     },
     "metadata": {},
     "output_type": "display_data"
    }
   ],
   "source": [
    "df1['Rain']  # To extract the data by column name"
   ]
  },
  {
   "cell_type": "code",
   "execution_count": 125,
   "id": "1939df22",
   "metadata": {},
   "outputs": [
    {
     "data": {
      "text/html": [
       "<table>\n",
       "<thead><tr><th scope=col>Days</th><th scope=col>Temp</th></tr></thead>\n",
       "<tbody>\n",
       "\t<tr><td>Mon </td><td>22  </td></tr>\n",
       "\t<tr><td>Tue </td><td>21  </td></tr>\n",
       "\t<tr><td>Wed </td><td>23  </td></tr>\n",
       "\t<tr><td>Thru</td><td>30  </td></tr>\n",
       "\t<tr><td>Fri </td><td>33  </td></tr>\n",
       "</tbody>\n",
       "</table>\n"
      ],
      "text/latex": [
       "\\begin{tabular}{r|ll}\n",
       " Days & Temp\\\\\n",
       "\\hline\n",
       "\t Mon  & 22  \\\\\n",
       "\t Tue  & 21  \\\\\n",
       "\t Wed  & 23  \\\\\n",
       "\t Thru & 30  \\\\\n",
       "\t Fri  & 33  \\\\\n",
       "\\end{tabular}\n"
      ],
      "text/markdown": [
       "\n",
       "| Days | Temp |\n",
       "|---|---|\n",
       "| Mon  | 22   |\n",
       "| Tue  | 21   |\n",
       "| Wed  | 23   |\n",
       "| Thru | 30   |\n",
       "| Fri  | 33   |\n",
       "\n"
      ],
      "text/plain": [
       "  Days Temp\n",
       "1 Mon  22  \n",
       "2 Tue  21  \n",
       "3 Wed  23  \n",
       "4 Thru 30  \n",
       "5 Fri  33  "
      ]
     },
     "metadata": {},
     "output_type": "display_data"
    }
   ],
   "source": [
    "# Here we extract 1st to 5th row with Days and Temp columns from the data\n",
    "df1[1:5,c('Days','Temp')]"
   ]
  },
  {
   "cell_type": "code",
   "execution_count": 126,
   "id": "85707e44",
   "metadata": {},
   "outputs": [
    {
     "data": {
      "text/html": [
       "<ol class=list-inline>\n",
       "\t<li>22</li>\n",
       "\t<li>21</li>\n",
       "\t<li>23</li>\n",
       "\t<li>30</li>\n",
       "\t<li>33</li>\n",
       "</ol>\n"
      ],
      "text/latex": [
       "\\begin{enumerate*}\n",
       "\\item 22\n",
       "\\item 21\n",
       "\\item 23\n",
       "\\item 30\n",
       "\\item 33\n",
       "\\end{enumerate*}\n"
      ],
      "text/markdown": [
       "1. 22\n",
       "2. 21\n",
       "3. 23\n",
       "4. 30\n",
       "5. 33\n",
       "\n",
       "\n"
      ],
      "text/plain": [
       "[1] 22 21 23 30 33"
      ]
     },
     "metadata": {},
     "output_type": "display_data"
    }
   ],
   "source": [
    "df1$Temp # To extract the data using dollor '$' sign"
   ]
  },
  {
   "cell_type": "code",
   "execution_count": 127,
   "id": "84740ef3",
   "metadata": {},
   "outputs": [
    {
     "data": {
      "text/html": [
       "<table>\n",
       "<thead><tr><th scope=col>Temp</th></tr></thead>\n",
       "<tbody>\n",
       "\t<tr><td>22</td></tr>\n",
       "\t<tr><td>21</td></tr>\n",
       "\t<tr><td>23</td></tr>\n",
       "\t<tr><td>30</td></tr>\n",
       "\t<tr><td>33</td></tr>\n",
       "</tbody>\n",
       "</table>\n"
      ],
      "text/latex": [
       "\\begin{tabular}{r|l}\n",
       " Temp\\\\\n",
       "\\hline\n",
       "\t 22\\\\\n",
       "\t 21\\\\\n",
       "\t 23\\\\\n",
       "\t 30\\\\\n",
       "\t 33\\\\\n",
       "\\end{tabular}\n"
      ],
      "text/markdown": [
       "\n",
       "| Temp |\n",
       "|---|\n",
       "| 22 |\n",
       "| 21 |\n",
       "| 23 |\n",
       "| 30 |\n",
       "| 33 |\n",
       "\n"
      ],
      "text/plain": [
       "  Temp\n",
       "1 22  \n",
       "2 21  \n",
       "3 23  \n",
       "4 30  \n",
       "5 33  "
      ]
     },
     "metadata": {},
     "output_type": "display_data"
    }
   ],
   "source": [
    "df1['Temp']  #  # To extract the data column name"
   ]
  },
  {
   "cell_type": "code",
   "execution_count": 128,
   "id": "d010096c",
   "metadata": {},
   "outputs": [
    {
     "data": {
      "text/html": [
       "<table>\n",
       "<thead><tr><th></th><th scope=col>Days</th><th scope=col>Temp</th><th scope=col>Rain</th></tr></thead>\n",
       "<tbody>\n",
       "\t<tr><th scope=row>1</th><td>Mon </td><td>22  </td><td>TRUE</td></tr>\n",
       "\t<tr><th scope=row>2</th><td>Tue </td><td>21  </td><td>TRUE</td></tr>\n",
       "\t<tr><th scope=row>5</th><td>Fri </td><td>33  </td><td>TRUE</td></tr>\n",
       "</tbody>\n",
       "</table>\n"
      ],
      "text/latex": [
       "\\begin{tabular}{r|lll}\n",
       "  & Days & Temp & Rain\\\\\n",
       "\\hline\n",
       "\t1 & Mon  & 22   & TRUE\\\\\n",
       "\t2 & Tue  & 21   & TRUE\\\\\n",
       "\t5 & Fri  & 33   & TRUE\\\\\n",
       "\\end{tabular}\n"
      ],
      "text/markdown": [
       "\n",
       "| <!--/--> | Days | Temp | Rain |\n",
       "|---|---|---|---|\n",
       "| 1 | Mon  | 22   | TRUE |\n",
       "| 2 | Tue  | 21   | TRUE |\n",
       "| 5 | Fri  | 33   | TRUE |\n",
       "\n"
      ],
      "text/plain": [
       "  Days Temp Rain\n",
       "1 Mon  22   TRUE\n",
       "2 Tue  21   TRUE\n",
       "5 Fri  33   TRUE"
      ]
     },
     "metadata": {},
     "output_type": "display_data"
    }
   ],
   "source": [
    "# Note :- If we extract the data in using 'dollar' sign then \n",
    "# we get the extracted data into row-wise while If we extract the data\n",
    "# in using ['column_name'] then we get the extracted data into column-wise\n",
    "\n",
    "# To filter the data --'subset()'\n",
    "subset(df1, subset = rain==TRUE)  \n",
    "# It gives the only data when the rain occurs OR rain is TRUE "
   ]
  },
  {
   "cell_type": "code",
   "execution_count": 129,
   "id": "ea7404d6",
   "metadata": {},
   "outputs": [
    {
     "data": {
      "text/html": [
       "<table>\n",
       "<thead><tr><th></th><th scope=col>Days</th><th scope=col>Temp</th><th scope=col>Rain</th></tr></thead>\n",
       "<tbody>\n",
       "\t<tr><th scope=row>4</th><td>Thru </td><td>30   </td><td>FALSE</td></tr>\n",
       "\t<tr><th scope=row>5</th><td>Fri  </td><td>33   </td><td> TRUE</td></tr>\n",
       "</tbody>\n",
       "</table>\n"
      ],
      "text/latex": [
       "\\begin{tabular}{r|lll}\n",
       "  & Days & Temp & Rain\\\\\n",
       "\\hline\n",
       "\t4 & Thru  & 30    & FALSE\\\\\n",
       "\t5 & Fri   & 33    &  TRUE\\\\\n",
       "\\end{tabular}\n"
      ],
      "text/markdown": [
       "\n",
       "| <!--/--> | Days | Temp | Rain |\n",
       "|---|---|---|---|\n",
       "| 4 | Thru  | 30    | FALSE |\n",
       "| 5 | Fri   | 33    |  TRUE |\n",
       "\n"
      ],
      "text/plain": [
       "  Days Temp Rain \n",
       "4 Thru 30   FALSE\n",
       "5 Fri  33    TRUE"
      ]
     },
     "metadata": {},
     "output_type": "display_data"
    }
   ],
   "source": [
    "#  It gives the only data when the Temperature is greater than 23\n",
    "subset(df1, subset = temp>23)"
   ]
  },
  {
   "cell_type": "code",
   "execution_count": 130,
   "id": "5f924e78",
   "metadata": {},
   "outputs": [
    {
     "data": {
      "text/html": [
       "<ol class=list-inline>\n",
       "\t<li>2</li>\n",
       "\t<li>1</li>\n",
       "\t<li>3</li>\n",
       "\t<li>4</li>\n",
       "\t<li>5</li>\n",
       "</ol>\n"
      ],
      "text/latex": [
       "\\begin{enumerate*}\n",
       "\\item 2\n",
       "\\item 1\n",
       "\\item 3\n",
       "\\item 4\n",
       "\\item 5\n",
       "\\end{enumerate*}\n"
      ],
      "text/markdown": [
       "1. 2\n",
       "2. 1\n",
       "3. 3\n",
       "4. 4\n",
       "5. 5\n",
       "\n",
       "\n"
      ],
      "text/plain": [
       "[1] 2 1 3 4 5"
      ]
     },
     "metadata": {},
     "output_type": "display_data"
    }
   ],
   "source": [
    "# To Short the data\n",
    "sorted.temp<- order(df1['Temp'])\n",
    "sorted.temp   # It gives the ascending order according to temperature"
   ]
  },
  {
   "cell_type": "code",
   "execution_count": 132,
   "id": "a0b9c00b",
   "metadata": {},
   "outputs": [
    {
     "data": {
      "text/html": [
       "<table>\n",
       "<thead><tr><th></th><th scope=col>Days</th><th scope=col>Temp</th><th scope=col>Rain</th></tr></thead>\n",
       "<tbody>\n",
       "\t<tr><th scope=row>2</th><td>Tue  </td><td>21   </td><td> TRUE</td></tr>\n",
       "\t<tr><th scope=row>1</th><td>Mon  </td><td>22   </td><td> TRUE</td></tr>\n",
       "\t<tr><th scope=row>3</th><td>Wed  </td><td>23   </td><td>FALSE</td></tr>\n",
       "\t<tr><th scope=row>4</th><td>Thru </td><td>30   </td><td>FALSE</td></tr>\n",
       "\t<tr><th scope=row>5</th><td>Fri  </td><td>33   </td><td> TRUE</td></tr>\n",
       "</tbody>\n",
       "</table>\n"
      ],
      "text/latex": [
       "\\begin{tabular}{r|lll}\n",
       "  & Days & Temp & Rain\\\\\n",
       "\\hline\n",
       "\t2 & Tue   & 21    &  TRUE\\\\\n",
       "\t1 & Mon   & 22    &  TRUE\\\\\n",
       "\t3 & Wed   & 23    & FALSE\\\\\n",
       "\t4 & Thru  & 30    & FALSE\\\\\n",
       "\t5 & Fri   & 33    &  TRUE\\\\\n",
       "\\end{tabular}\n"
      ],
      "text/markdown": [
       "\n",
       "| <!--/--> | Days | Temp | Rain |\n",
       "|---|---|---|---|\n",
       "| 2 | Tue   | 21    |  TRUE |\n",
       "| 1 | Mon   | 22    |  TRUE |\n",
       "| 3 | Wed   | 23    | FALSE |\n",
       "| 4 | Thru  | 30    | FALSE |\n",
       "| 5 | Fri   | 33    |  TRUE |\n",
       "\n"
      ],
      "text/plain": [
       "  Days Temp Rain \n",
       "2 Tue  21    TRUE\n",
       "1 Mon  22    TRUE\n",
       "3 Wed  23   FALSE\n",
       "4 Thru 30   FALSE\n",
       "5 Fri  33    TRUE"
      ]
     },
     "metadata": {},
     "output_type": "display_data"
    }
   ],
   "source": [
    "df1[sorted.temp,] # It gives the data in ordered form (Ascending Order)"
   ]
  },
  {
   "cell_type": "code",
   "execution_count": 133,
   "id": "6069a73e",
   "metadata": {},
   "outputs": [
    {
     "data": {
      "text/html": [
       "<ol class=list-inline>\n",
       "\t<li>5</li>\n",
       "\t<li>4</li>\n",
       "\t<li>3</li>\n",
       "\t<li>1</li>\n",
       "\t<li>2</li>\n",
       "</ol>\n"
      ],
      "text/latex": [
       "\\begin{enumerate*}\n",
       "\\item 5\n",
       "\\item 4\n",
       "\\item 3\n",
       "\\item 1\n",
       "\\item 2\n",
       "\\end{enumerate*}\n"
      ],
      "text/markdown": [
       "1. 5\n",
       "2. 4\n",
       "3. 3\n",
       "4. 1\n",
       "5. 2\n",
       "\n",
       "\n"
      ],
      "text/plain": [
       "[1] 5 4 3 1 2"
      ]
     },
     "metadata": {},
     "output_type": "display_data"
    }
   ],
   "source": [
    "# descending order according to temperature\n",
    "order(-df1['Temp'])"
   ]
  },
  {
   "cell_type": "code",
   "execution_count": 134,
   "id": "46f702b6",
   "metadata": {},
   "outputs": [
    {
     "data": {
      "text/html": [
       "<table>\n",
       "<thead><tr><th></th><th scope=col>Days</th><th scope=col>Temp</th><th scope=col>Rain</th></tr></thead>\n",
       "<tbody>\n",
       "\t<tr><th scope=row>1</th><td>Mon  </td><td>22   </td><td> TRUE</td></tr>\n",
       "\t<tr><th scope=row>3</th><td>Wed  </td><td>23   </td><td>FALSE</td></tr>\n",
       "\t<tr><th scope=row>4</th><td>Thru </td><td>30   </td><td>FALSE</td></tr>\n",
       "\t<tr><th scope=row>5</th><td>Fri  </td><td>33   </td><td> TRUE</td></tr>\n",
       "</tbody>\n",
       "</table>\n"
      ],
      "text/latex": [
       "\\begin{tabular}{r|lll}\n",
       "  & Days & Temp & Rain\\\\\n",
       "\\hline\n",
       "\t1 & Mon   & 22    &  TRUE\\\\\n",
       "\t3 & Wed   & 23    & FALSE\\\\\n",
       "\t4 & Thru  & 30    & FALSE\\\\\n",
       "\t5 & Fri   & 33    &  TRUE\\\\\n",
       "\\end{tabular}\n"
      ],
      "text/markdown": [
       "\n",
       "| <!--/--> | Days | Temp | Rain |\n",
       "|---|---|---|---|\n",
       "| 1 | Mon   | 22    |  TRUE |\n",
       "| 3 | Wed   | 23    | FALSE |\n",
       "| 4 | Thru  | 30    | FALSE |\n",
       "| 5 | Fri   | 33    |  TRUE |\n",
       "\n"
      ],
      "text/plain": [
       "  Days Temp Rain \n",
       "1 Mon  22    TRUE\n",
       "3 Wed  23   FALSE\n",
       "4 Thru 30   FALSE\n",
       "5 Fri  33    TRUE"
      ]
     },
     "metadata": {},
     "output_type": "display_data"
    }
   ],
   "source": [
    "# If we want to delete any row from the data \n",
    "df1[-2,]"
   ]
  },
  {
   "cell_type": "code",
   "execution_count": 135,
   "id": "fce7dd60",
   "metadata": {},
   "outputs": [
    {
     "data": {
      "text/html": [
       "<table>\n",
       "<thead><tr><th scope=col>Days</th><th scope=col>Temp</th></tr></thead>\n",
       "<tbody>\n",
       "\t<tr><td>Mon </td><td>22  </td></tr>\n",
       "\t<tr><td>Tue </td><td>21  </td></tr>\n",
       "\t<tr><td>Wed </td><td>23  </td></tr>\n",
       "\t<tr><td>Thru</td><td>30  </td></tr>\n",
       "\t<tr><td>Fri </td><td>33  </td></tr>\n",
       "</tbody>\n",
       "</table>\n"
      ],
      "text/latex": [
       "\\begin{tabular}{r|ll}\n",
       " Days & Temp\\\\\n",
       "\\hline\n",
       "\t Mon  & 22  \\\\\n",
       "\t Tue  & 21  \\\\\n",
       "\t Wed  & 23  \\\\\n",
       "\t Thru & 30  \\\\\n",
       "\t Fri  & 33  \\\\\n",
       "\\end{tabular}\n"
      ],
      "text/markdown": [
       "\n",
       "| Days | Temp |\n",
       "|---|---|\n",
       "| Mon  | 22   |\n",
       "| Tue  | 21   |\n",
       "| Wed  | 23   |\n",
       "| Thru | 30   |\n",
       "| Fri  | 33   |\n",
       "\n"
      ],
      "text/plain": [
       "  Days Temp\n",
       "1 Mon  22  \n",
       "2 Tue  21  \n",
       "3 Wed  23  \n",
       "4 Thru 30  \n",
       "5 Fri  33  "
      ]
     },
     "metadata": {},
     "output_type": "display_data"
    }
   ],
   "source": [
    "# If we want to delete any column from the data \n",
    "df1[,-3]"
   ]
  },
  {
   "cell_type": "markdown",
   "id": "080c88c4",
   "metadata": {},
   "source": [
    "# Control Statements\n",
    "Control statements allows us to control the flow Control statements allow us to control the flow of our programming and cause different things to happen, depending on the values of tests. Tests result in a logical, TRUE or FALSE, which is used in if-like statements. The main control statements are **if, else, ifelse and switch** .\n",
    "##  if and else --Statement\n",
    "The most common test is the *if* command. It essentially says. If something is TRUE, then perform some action; otherwise, do not perform that action. The thing we are testing goes inside parentheses following the *if* command. The most basic checks are: equal to (==), less than (<), less than or equal to (<=), greater than (>), greater than or equal to (>=) and not equal (!=).If these tests pass they result in TRUE, and if they fail they result in FALSE.TRUE is numerically equivalent to 1 and FALSE is equivalent to 0."
   ]
  },
  {
   "cell_type": "code",
   "execution_count": 136,
   "id": "0dd500cb",
   "metadata": {},
   "outputs": [
    {
     "name": "stdout",
     "output_type": "stream",
     "text": [
      "[1] \"Mohammad Wasiq\"\n"
     ]
    }
   ],
   "source": [
    "#  set up a variable to hold 1\n",
    "toCheck<- 1\n",
    "# if toCheck is equal to 1, print hello\n",
    "if(toCheck == 1)\n",
    "{\n",
    "  print(\"Mohammad Wasiq\")\n",
    "}"
   ]
  },
  {
   "cell_type": "code",
   "execution_count": 137,
   "id": "a0b4fae8",
   "metadata": {},
   "outputs": [
    {
     "name": "stdout",
     "output_type": "stream",
     "text": [
      "[1] \"Wrong Option\"\n"
     ]
    }
   ],
   "source": [
    "#  set up a variable to hold 1\n",
    "toCheck<- 3\n",
    "# if toCheck is equal to 1, print hello\n",
    "if(toCheck == 1)\n",
    "{\n",
    "  print(\"Mohammad Wasiq\")\n",
    "}else\n",
    "{\n",
    "  print(\"Wrong Option\")\n",
    "}"
   ]
  },
  {
   "cell_type": "code",
   "execution_count": 138,
   "id": "a1145ddd",
   "metadata": {},
   "outputs": [
    {
     "name": "stdout",
     "output_type": "stream",
     "text": [
      "[1] \"hello\"\n"
     ]
    }
   ],
   "source": [
    "check.book<- function(x)\n",
    "{\n",
    "  if(x == 1)\n",
    "  {\n",
    "# If the input is equal to 1, print hello\n",
    "  print(\"hello\")  \n",
    "  }else if(x == 0)\n",
    "  {\n",
    "# If the input equal to 0 , print goodbye    \n",
    "    print(\"goodbye\")\n",
    "  }else\n",
    "  {\n",
    "# Otherwise print confused\n",
    "    print(\"confused\")\n",
    "  }  \n",
    "}\n",
    "check.book(1)"
   ]
  },
  {
   "cell_type": "code",
   "execution_count": 139,
   "id": "c182225c",
   "metadata": {},
   "outputs": [
    {
     "name": "stdout",
     "output_type": "stream",
     "text": [
      "[1] \"goodbye\"\n"
     ]
    }
   ],
   "source": [
    "check.book(0)"
   ]
  },
  {
   "cell_type": "code",
   "execution_count": 140,
   "id": "c08502bb",
   "metadata": {},
   "outputs": [
    {
     "name": "stdout",
     "output_type": "stream",
     "text": [
      "[1] \"confused\"\n"
     ]
    }
   ],
   "source": [
    "check.book(5)"
   ]
  },
  {
   "cell_type": "markdown",
   "id": "a247cf49",
   "metadata": {},
   "source": [
    "## Switch –Statement\n",
    "If we have multiple cases to check, writing *else if* repeatedly can be\n",
    "cumbersome and inefficient. This is where *switch* is most useful. The\n",
    "first argument is the value we are testing. Subsequent arguments are a\n",
    "particular value and what should be the result. The last argument, if\n",
    "not given a value, is the default result .\n",
    "$$switch (object, case = action)$$"
   ]
  },
  {
   "cell_type": "code",
   "execution_count": 141,
   "id": "6b221267",
   "metadata": {},
   "outputs": [
    {
     "data": {
      "text/html": [
       "'first'"
      ],
      "text/latex": [
       "'first'"
      ],
      "text/markdown": [
       "'first'"
      ],
      "text/plain": [
       "[1] \"first\""
      ]
     },
     "metadata": {},
     "output_type": "display_data"
    }
   ],
   "source": [
    "use.switch<- function(x)\n",
    "{\n",
    "switch (x,\n",
    "\"a\" = \"first\" ,\n",
    "\"b\" = \"second\" , \n",
    "\"c\" = \"third\" ,\n",
    "\"d\" = \"last\" ,\n",
    "\"other\")\n",
    "}\n",
    "use.switch(\"a\")  # use.switch(1)"
   ]
  },
  {
   "cell_type": "code",
   "execution_count": 142,
   "id": "ae5cfdb3",
   "metadata": {},
   "outputs": [
    {
     "data": {
      "text/html": [
       "'second'"
      ],
      "text/latex": [
       "'second'"
      ],
      "text/markdown": [
       "'second'"
      ],
      "text/plain": [
       "[1] \"second\""
      ]
     },
     "metadata": {},
     "output_type": "display_data"
    }
   ],
   "source": [
    "use.switch(\"b\")  # use.switch(2)"
   ]
  },
  {
   "cell_type": "code",
   "execution_count": 143,
   "id": "34adc841",
   "metadata": {},
   "outputs": [
    {
     "data": {
      "text/html": [
       "'other'"
      ],
      "text/latex": [
       "'other'"
      ],
      "text/markdown": [
       "'other'"
      ],
      "text/plain": [
       "[1] \"other\""
      ]
     },
     "metadata": {},
     "output_type": "display_data"
    }
   ],
   "source": [
    "use.switch(\"g\")  # use.switch(7)"
   ]
  },
  {
   "cell_type": "markdown",
   "id": "670f6d0d",
   "metadata": {},
   "source": [
    "## ifelse – Statement\n",
    "While *if* is like the if statement in traditional languages, *ifelse* is more like the if function in Excel. The first argument is the condition to be tested (much like in a traditional *if* statement), the second argument is the return value if the test is **TRUE** and the third argument is the return value if the test if **FALSE** . The beauty here—unlike with the traditional *if*—is that this works with vectorized arguments. As is often the case in R, using vectorization avoids *for* loops and speeds up our code. The nuances of *ifelse* can be tricky, so we show numerous examples."
   ]
  },
  {
   "cell_type": "code",
   "execution_count": 144,
   "id": "6b3d0c0c",
   "metadata": {},
   "outputs": [
    {
     "data": {
      "text/html": [
       "'Yes'"
      ],
      "text/latex": [
       "'Yes'"
      ],
      "text/markdown": [
       "'Yes'"
      ],
      "text/plain": [
       "[1] \"Yes\""
      ]
     },
     "metadata": {},
     "output_type": "display_data"
    }
   ],
   "source": [
    "# see if 1 == 1\n",
    "ifelse(1 == 1, \"Yes\", \"No\")"
   ]
  },
  {
   "cell_type": "code",
   "execution_count": 145,
   "id": "35aef9b0",
   "metadata": {},
   "outputs": [
    {
     "data": {
      "text/html": [
       "'No'"
      ],
      "text/latex": [
       "'No'"
      ],
      "text/markdown": [
       "'No'"
      ],
      "text/plain": [
       "[1] \"No\""
      ]
     },
     "metadata": {},
     "output_type": "display_data"
    }
   ],
   "source": [
    "# see if 1 == 0\n",
    "ifelse(1 == 0, \"Yes\", \"No\")"
   ]
  },
  {
   "cell_type": "markdown",
   "id": "bf257b5f",
   "metadata": {},
   "source": [
    "This clearly gives us the results we want. ifelse uses all the regular equality tests and any other logical test. It is worth noting, however, that if testing just a single element (a vector of length 1 or a simple is.na), it is more efficient to use if than ifelse. This can result in a nontrivial speedup of our code."
   ]
  },
  {
   "cell_type": "code",
   "execution_count": 146,
   "id": "da8b57d8",
   "metadata": {},
   "outputs": [
    {
     "data": {
      "text/html": [
       "<ol class=list-inline>\n",
       "\t<li>'Yes'</li>\n",
       "\t<li>'Yes'</li>\n",
       "\t<li>'No'</li>\n",
       "\t<li>'Yes'</li>\n",
       "\t<li>'No'</li>\n",
       "\t<li>'Yes'</li>\n",
       "</ol>\n"
      ],
      "text/latex": [
       "\\begin{enumerate*}\n",
       "\\item 'Yes'\n",
       "\\item 'Yes'\n",
       "\\item 'No'\n",
       "\\item 'Yes'\n",
       "\\item 'No'\n",
       "\\item 'Yes'\n",
       "\\end{enumerate*}\n"
      ],
      "text/markdown": [
       "1. 'Yes'\n",
       "2. 'Yes'\n",
       "3. 'No'\n",
       "4. 'Yes'\n",
       "5. 'No'\n",
       "6. 'Yes'\n",
       "\n",
       "\n"
      ],
      "text/plain": [
       "[1] \"Yes\" \"Yes\" \"No\"  \"Yes\" \"No\"  \"Yes\""
      ]
     },
     "metadata": {},
     "output_type": "display_data"
    }
   ],
   "source": [
    "toTest <- c(1, 1, 0, 1, 0, 1)\n",
    "ifelse(toTest == 1, \"Yes\", \"No\")"
   ]
  },
  {
   "cell_type": "code",
   "execution_count": 147,
   "id": "ebe25ae2",
   "metadata": {},
   "outputs": [
    {
     "data": {
      "text/html": [
       "<ol class=list-inline>\n",
       "\t<li>3</li>\n",
       "\t<li>3</li>\n",
       "\t<li>0</li>\n",
       "\t<li>3</li>\n",
       "\t<li>0</li>\n",
       "\t<li>3</li>\n",
       "</ol>\n"
      ],
      "text/latex": [
       "\\begin{enumerate*}\n",
       "\\item 3\n",
       "\\item 3\n",
       "\\item 0\n",
       "\\item 3\n",
       "\\item 0\n",
       "\\item 3\n",
       "\\end{enumerate*}\n"
      ],
      "text/markdown": [
       "1. 3\n",
       "2. 3\n",
       "3. 0\n",
       "4. 3\n",
       "5. 0\n",
       "6. 3\n",
       "\n",
       "\n"
      ],
      "text/plain": [
       "[1] 3 3 0 3 0 3"
      ]
     },
     "metadata": {},
     "output_type": "display_data"
    }
   ],
   "source": [
    "# This returned “Yes” for each element of toTest that equaled 1 and “No”\n",
    "# for each element of toTest that did not equal 1. \n",
    "ifelse(toTest == 1, toTest*3, toTest)"
   ]
  },
  {
   "cell_type": "code",
   "execution_count": 148,
   "id": "f0aea6b8",
   "metadata": {},
   "outputs": [
    {
     "data": {
      "text/html": [
       "<ol class=list-inline>\n",
       "\t<li>'3'</li>\n",
       "\t<li>'3'</li>\n",
       "\t<li>'Zero'</li>\n",
       "\t<li>'3'</li>\n",
       "\t<li>'Zero'</li>\n",
       "\t<li>'3'</li>\n",
       "</ol>\n"
      ],
      "text/latex": [
       "\\begin{enumerate*}\n",
       "\\item '3'\n",
       "\\item '3'\n",
       "\\item 'Zero'\n",
       "\\item '3'\n",
       "\\item 'Zero'\n",
       "\\item '3'\n",
       "\\end{enumerate*}\n"
      ],
      "text/markdown": [
       "1. '3'\n",
       "2. '3'\n",
       "3. 'Zero'\n",
       "4. '3'\n",
       "5. 'Zero'\n",
       "6. '3'\n",
       "\n",
       "\n"
      ],
      "text/plain": [
       "[1] \"3\"    \"3\"    \"Zero\" \"3\"    \"Zero\" \"3\"   "
      ]
     },
     "metadata": {},
     "output_type": "display_data"
    }
   ],
   "source": [
    "# the FALSE argument is repeated as needed\n",
    "ifelse(toTest == 1, toTest*3, \"Zero\")"
   ]
  },
  {
   "cell_type": "code",
   "execution_count": 149,
   "id": "56c27273",
   "metadata": {},
   "outputs": [
    {
     "data": {
      "text/html": [
       "<ol class=list-inline>\n",
       "\t<li>3</li>\n",
       "\t<li>3</li>\n",
       "\t<li>0</li>\n",
       "\t<li>3</li>\n",
       "\t<li>0</li>\n",
       "\t<li>3</li>\n",
       "</ol>\n"
      ],
      "text/latex": [
       "\\begin{enumerate*}\n",
       "\\item 3\n",
       "\\item 3\n",
       "\\item 0\n",
       "\\item 3\n",
       "\\item 0\n",
       "\\item 3\n",
       "\\end{enumerate*}\n"
      ],
      "text/markdown": [
       "1. 3\n",
       "2. 3\n",
       "3. 0\n",
       "4. 3\n",
       "5. 0\n",
       "6. 3\n",
       "\n",
       "\n"
      ],
      "text/plain": [
       "[1] 3 3 0 3 0 3"
      ]
     },
     "metadata": {},
     "output_type": "display_data"
    }
   ],
   "source": [
    "#This would be the same if the TRUE and FALSE arguments are vectors.\n",
    "ifelse(toTest == 1, toTest*3, toTest)"
   ]
  },
  {
   "cell_type": "code",
   "execution_count": 150,
   "id": "b2798eac",
   "metadata": {},
   "outputs": [
    {
     "data": {
      "text/html": [
       "<ol class=list-inline>\n",
       "\t<li>'3'</li>\n",
       "\t<li>'3'</li>\n",
       "\t<li>'Zero'</li>\n",
       "\t<li>'3'</li>\n",
       "\t<li>'Zero'</li>\n",
       "\t<li>'3'</li>\n",
       "</ol>\n"
      ],
      "text/latex": [
       "\\begin{enumerate*}\n",
       "\\item '3'\n",
       "\\item '3'\n",
       "\\item 'Zero'\n",
       "\\item '3'\n",
       "\\item 'Zero'\n",
       "\\item '3'\n",
       "\\end{enumerate*}\n"
      ],
      "text/markdown": [
       "1. '3'\n",
       "2. '3'\n",
       "3. 'Zero'\n",
       "4. '3'\n",
       "5. 'Zero'\n",
       "6. '3'\n",
       "\n",
       "\n"
      ],
      "text/plain": [
       "[1] \"3\"    \"3\"    \"Zero\" \"3\"    \"Zero\" \"3\"   "
      ]
     },
     "metadata": {},
     "output_type": "display_data"
    }
   ],
   "source": [
    "ifelse(toTest == 1, toTest*3, \"Zero\")"
   ]
  },
  {
   "cell_type": "markdown",
   "id": "efe2f551",
   "metadata": {},
   "source": [
    "**Conclusion**\n",
    "<br>Controlling the flow of our program, both at the command line and in functions, plays an important role when processing and analyzing our data. If statements, along with else, are the most common—and efficient—for testing single element objects, although ifelse is far more common in R programming because of its vectorized nature. Switch statements are often forgotten but can come in very handy. The and (& and &&) and or (| and ||) operators allow us to combine multiple tests into one ."
   ]
  },
  {
   "cell_type": "markdown",
   "id": "6b827b94",
   "metadata": {},
   "source": [
    "## Loops in R \n",
    "When starting to use R, most people use loops whenever they need to iterate over elements of a vector, list or data.frame. While it is natural to do this in other languages, with R we generally want to use vectorization. That said, sometimes loops are unavoidable, so R offers both *for* and *while* loops.\n",
    "### for Loops\n",
    "**_for (variable in vector) {}_**\n",
    "<br>The most commonly used loop is the *for* loop. It iterates over an index—provided as a vector—and performs some operations. For a first simple example, we print out the first ten numbers. The loop is declared using *for*, which takes one English-seeming argument in three parts. The third part is any vector of values of any kind, most commonly numeric or character. The first part is the variable that is iteratively assigned the values in the vector from the third part. The middle part is simply the word in indicating that the variable (the first part) is in the vector (the third part)."
   ]
  },
  {
   "cell_type": "code",
   "execution_count": 151,
   "id": "353f1ade",
   "metadata": {},
   "outputs": [
    {
     "name": "stdout",
     "output_type": "stream",
     "text": [
      "[1] 1\n",
      "[1] 2\n",
      "[1] 3\n",
      "[1] 4\n",
      "[1] 5\n",
      "[1] 6\n",
      "[1] 7\n",
      "[1] 8\n",
      "[1] 9\n",
      "[1] 10\n"
     ]
    }
   ],
   "source": [
    "for(i in 1:10)\n",
    "    { \n",
    "    print(i)\n",
    "    }"
   ]
  },
  {
   "cell_type": "code",
   "execution_count": 152,
   "id": "ca91fcca",
   "metadata": {},
   "outputs": [
    {
     "name": "stdout",
     "output_type": "stream",
     "text": [
      "[1] \"Mohammad Wasiq\"\n",
      "[1] 2\n",
      "[1] \"Mohammad Wasiq\"\n",
      "[1] 3\n",
      "[1] \"Mohammad Wasiq\"\n",
      "[1] 4\n",
      "[1] \"Mohammad Wasiq\"\n",
      "[1] 5\n",
      "[1] \"Mohammad Wasiq\"\n",
      "[1] 6\n",
      "[1] \"Mohammad Wasiq\"\n",
      "[1] 7\n"
     ]
    }
   ],
   "source": [
    "v<- c(1,2,3,4,5,6)\n",
    "for(temp.var in v){\n",
    "result<- temp.var+1  \n",
    "  print(\"Mohammad Wasiq\")\n",
    "  print(result)\n",
    "}"
   ]
  },
  {
   "cell_type": "markdown",
   "id": "8e257193",
   "metadata": {},
   "source": [
    "### while Loop\n",
    "Although used far less frequently in R than the *for* loop, the *while* loop is just as simple to implement. Itsimply runs the code inside the braces repeatedly as long as the tested condition proves true. In the following example, we print the value of x and iterate it until it reaches 5. This is a highly trivial example but shows the functionality nonetheless."
   ]
  },
  {
   "cell_type": "code",
   "execution_count": 153,
   "id": "95af64b4",
   "metadata": {},
   "outputs": [
    {
     "name": "stdout",
     "output_type": "stream",
     "text": [
      "[1] 1\n",
      "[1] 2\n",
      "[1] 3\n",
      "[1] 4\n",
      "[1] 5\n"
     ]
    }
   ],
   "source": [
    "x <- 1\n",
    "while(x <= 5)\n",
    "{\n",
    " print(x)\n",
    " x <- x + 1\n",
    "}"
   ]
  },
  {
   "cell_type": "markdown",
   "id": "3d8f148a",
   "metadata": {},
   "source": [
    "### Controlling Loops\n",
    "Sometimes we have to skip to the next iteration of the loop or completely break out of it. This is accomplished with next and break."
   ]
  },
  {
   "cell_type": "code",
   "execution_count": 154,
   "id": "c9381672",
   "metadata": {},
   "outputs": [
    {
     "name": "stdout",
     "output_type": "stream",
     "text": [
      "[1] 1\n",
      "[1] 2\n",
      "[1] 4\n",
      "[1] 5\n",
      "[1] 6\n",
      "[1] 7\n",
      "[1] 8\n",
      "[1] 9\n",
      "[1] 10\n"
     ]
    }
   ],
   "source": [
    "for(i in 1:10)\n",
    "{\n",
    " if(i == 3)\n",
    " {\n",
    " next\n",
    " }\n",
    " print(i)\n",
    "}"
   ]
  },
  {
   "cell_type": "code",
   "execution_count": 155,
   "id": "eead9f4d",
   "metadata": {},
   "outputs": [
    {
     "name": "stdout",
     "output_type": "stream",
     "text": [
      "[1] 1\n",
      "[1] 2\n",
      "[1] 3\n"
     ]
    }
   ],
   "source": [
    "# Notice that the number 3 did not get printed.\n",
    "for(i in 1:10)\n",
    "{\n",
    " if(i == 4)\n",
    " {\n",
    " break\n",
    " }\n",
    " print(i)\n",
    "}"
   ]
  },
  {
   "cell_type": "markdown",
   "id": "74e3b1b4",
   "metadata": {},
   "source": [
    "**Conclusion-**    \n",
    "<br>The two primary loops are for, which iterates over a fixed sequence of elements, and while which continues a loop as long as some condition holds true. As stated earlier, if a solution can be done without loops, via vectorization or matrix algebra, then avoid the loop. It is particularly important to avoid nested loops. Loops inside other loops are extremely slow in R."
   ]
  },
  {
   "cell_type": "markdown",
   "id": "9178b494",
   "metadata": {},
   "source": [
    "# Apply Family\n",
    "Apply, Sapply, Mapply, Tapply, Rapply, Eapply, Vapply are the members of apply family . Here we ae discussing only three .\n",
    "## Apply in R\n",
    "*apply* is the first member of this family that users usually learn, and it is also the most restrictive. It must be used on a matrix, meaning all of the elements must be of the same type whether they are character, numeric or logical. If used on some other object, such as a data.frame, it will be converted to a matrix first. The first argument to *apply* is the object we are working with. The second argument is the margin to apply the function over, 1 meaning to operate over the rows and 2\n",
    "meaning to operate over the columns. The third argument is the function we want to apply. Any following arguments will be passed on to that function. *apply* will iterate over each row (or column) of the matrix, treating them as individual inputs to the first argument of the\n",
    "specified function.\n",
    "$$apply(array, margin, ...)$$"
   ]
  },
  {
   "cell_type": "code",
   "execution_count": 156,
   "id": "e3727022",
   "metadata": {},
   "outputs": [
    {
     "data": {
      "text/html": [
       "<table>\n",
       "<tbody>\n",
       "\t<tr><td>1</td><td>4</td><td>7</td></tr>\n",
       "\t<tr><td>2</td><td>5</td><td>8</td></tr>\n",
       "\t<tr><td>3</td><td>6</td><td>9</td></tr>\n",
       "</tbody>\n",
       "</table>\n"
      ],
      "text/latex": [
       "\\begin{tabular}{lll}\n",
       "\t 1 & 4 & 7\\\\\n",
       "\t 2 & 5 & 8\\\\\n",
       "\t 3 & 6 & 9\\\\\n",
       "\\end{tabular}\n"
      ],
      "text/markdown": [
       "\n",
       "| 1 | 4 | 7 |\n",
       "| 2 | 5 | 8 |\n",
       "| 3 | 6 | 9 |\n",
       "\n"
      ],
      "text/plain": [
       "     [,1] [,2] [,3]\n",
       "[1,] 1    4    7   \n",
       "[2,] 2    5    8   \n",
       "[3,] 3    6    9   "
      ]
     },
     "metadata": {},
     "output_type": "display_data"
    }
   ],
   "source": [
    "# Build the Matrix\n",
    "mat<- matrix(1:9 ,nrow=3) ;mat"
   ]
  },
  {
   "cell_type": "code",
   "execution_count": 158,
   "id": "9541d660",
   "metadata": {},
   "outputs": [
    {
     "data": {
      "text/html": [
       "<ol class=list-inline>\n",
       "\t<li>12</li>\n",
       "\t<li>15</li>\n",
       "\t<li>18</li>\n",
       "</ol>\n"
      ],
      "text/latex": [
       "\\begin{enumerate*}\n",
       "\\item 12\n",
       "\\item 15\n",
       "\\item 18\n",
       "\\end{enumerate*}\n"
      ],
      "text/markdown": [
       "1. 12\n",
       "2. 15\n",
       "3. 18\n",
       "\n",
       "\n"
      ],
      "text/plain": [
       "[1] 12 15 18"
      ]
     },
     "metadata": {},
     "output_type": "display_data"
    }
   ],
   "source": [
    "# Sum the MAtrix rows wise\n",
    "apply(mat, 1, sum)"
   ]
  },
  {
   "cell_type": "code",
   "execution_count": 159,
   "id": "3cf1fef5",
   "metadata": {},
   "outputs": [
    {
     "data": {
      "text/html": [
       "<ol class=list-inline>\n",
       "\t<li>6</li>\n",
       "\t<li>15</li>\n",
       "\t<li>24</li>\n",
       "</ol>\n"
      ],
      "text/latex": [
       "\\begin{enumerate*}\n",
       "\\item 6\n",
       "\\item 15\n",
       "\\item 24\n",
       "\\end{enumerate*}\n"
      ],
      "text/markdown": [
       "1. 6\n",
       "2. 15\n",
       "3. 24\n",
       "\n",
       "\n"
      ],
      "text/plain": [
       "[1]  6 15 24"
      ]
     },
     "metadata": {},
     "output_type": "display_data"
    }
   ],
   "source": [
    "# Sum the Matrix Columns -wise\n",
    "apply(mat, 2, sum)"
   ]
  },
  {
   "cell_type": "code",
   "execution_count": 160,
   "id": "84c8f955",
   "metadata": {},
   "outputs": [
    {
     "data": {
      "text/html": [
       "<ol class=list-inline>\n",
       "\t<li>12</li>\n",
       "\t<li>15</li>\n",
       "\t<li>18</li>\n",
       "</ol>\n"
      ],
      "text/latex": [
       "\\begin{enumerate*}\n",
       "\\item 12\n",
       "\\item 15\n",
       "\\item 18\n",
       "\\end{enumerate*}\n"
      ],
      "text/markdown": [
       "1. 12\n",
       "2. 15\n",
       "3. 18\n",
       "\n",
       "\n"
      ],
      "text/plain": [
       "[1] 12 15 18"
      ]
     },
     "metadata": {},
     "output_type": "display_data"
    }
   ],
   "source": [
    "# We Can also find the Sum row-wisw/column-wise of a matrix\n",
    "rowSums(mat)  # Row-wise Sum"
   ]
  },
  {
   "cell_type": "code",
   "execution_count": 161,
   "id": "e0ac9432",
   "metadata": {},
   "outputs": [
    {
     "data": {
      "text/html": [
       "<ol class=list-inline>\n",
       "\t<li>6</li>\n",
       "\t<li>15</li>\n",
       "\t<li>24</li>\n",
       "</ol>\n"
      ],
      "text/latex": [
       "\\begin{enumerate*}\n",
       "\\item 6\n",
       "\\item 15\n",
       "\\item 24\n",
       "\\end{enumerate*}\n"
      ],
      "text/markdown": [
       "1. 6\n",
       "2. 15\n",
       "3. 24\n",
       "\n",
       "\n"
      ],
      "text/plain": [
       "[1]  6 15 24"
      ]
     },
     "metadata": {},
     "output_type": "display_data"
    }
   ],
   "source": [
    "colSums(mat)  # Column-wise Sum"
   ]
  },
  {
   "cell_type": "markdown",
   "id": "0026e98e",
   "metadata": {},
   "source": [
    "## Lapply in R\n",
    "lapply works by applying a function to each element of a list and returning the results as a list. \n",
    "$$lapply(list, function)$$"
   ]
  },
  {
   "cell_type": "code",
   "execution_count": 162,
   "id": "444c7c22",
   "metadata": {},
   "outputs": [
    {
     "data": {
      "text/html": [
       "<dl>\n",
       "\t<dt>$A</dt>\n",
       "\t\t<dd><table>\n",
       "<tbody>\n",
       "\t<tr><td>1</td><td>4</td><td>7</td></tr>\n",
       "\t<tr><td>2</td><td>5</td><td>8</td></tr>\n",
       "\t<tr><td>3</td><td>6</td><td>9</td></tr>\n",
       "</tbody>\n",
       "</table>\n",
       "</dd>\n",
       "\t<dt>$B</dt>\n",
       "\t\t<dd><ol class=list-inline>\n",
       "\t<li>1</li>\n",
       "\t<li>2</li>\n",
       "\t<li>3</li>\n",
       "\t<li>4</li>\n",
       "\t<li>5</li>\n",
       "</ol>\n",
       "</dd>\n",
       "\t<dt>$C</dt>\n",
       "\t\t<dd><table>\n",
       "<tbody>\n",
       "\t<tr><td>1</td><td>3</td></tr>\n",
       "\t<tr><td>2</td><td>4</td></tr>\n",
       "</tbody>\n",
       "</table>\n",
       "</dd>\n",
       "\t<dt>$D</dt>\n",
       "\t\t<dd>2</dd>\n",
       "</dl>\n"
      ],
      "text/latex": [
       "\\begin{description}\n",
       "\\item[\\$A] \\begin{tabular}{lll}\n",
       "\t 1 & 4 & 7\\\\\n",
       "\t 2 & 5 & 8\\\\\n",
       "\t 3 & 6 & 9\\\\\n",
       "\\end{tabular}\n",
       "\n",
       "\\item[\\$B] \\begin{enumerate*}\n",
       "\\item 1\n",
       "\\item 2\n",
       "\\item 3\n",
       "\\item 4\n",
       "\\item 5\n",
       "\\end{enumerate*}\n",
       "\n",
       "\\item[\\$C] \\begin{tabular}{ll}\n",
       "\t 1 & 3\\\\\n",
       "\t 2 & 4\\\\\n",
       "\\end{tabular}\n",
       "\n",
       "\\item[\\$D] 2\n",
       "\\end{description}\n"
      ],
      "text/markdown": [
       "$A\n",
       ":   \n",
       "| 1 | 4 | 7 |\n",
       "| 2 | 5 | 8 |\n",
       "| 3 | 6 | 9 |\n",
       "\n",
       "\n",
       "$B\n",
       ":   1. 1\n",
       "2. 2\n",
       "3. 3\n",
       "4. 4\n",
       "5. 5\n",
       "\n",
       "\n",
       "\n",
       "$C\n",
       ":   \n",
       "| 1 | 3 |\n",
       "| 2 | 4 |\n",
       "\n",
       "\n",
       "$D\n",
       ":   2\n",
       "\n",
       "\n"
      ],
      "text/plain": [
       "$A\n",
       "     [,1] [,2] [,3]\n",
       "[1,]    1    4    7\n",
       "[2,]    2    5    8\n",
       "[3,]    3    6    9\n",
       "\n",
       "$B\n",
       "[1] 1 2 3 4 5\n",
       "\n",
       "$C\n",
       "     [,1] [,2]\n",
       "[1,]    1    3\n",
       "[2,]    2    4\n",
       "\n",
       "$D\n",
       "[1] 2\n"
      ]
     },
     "metadata": {},
     "output_type": "display_data"
    }
   ],
   "source": [
    "thelist<- list(A=matrix(1:9, 3), B=1:5, C=matrix(1:4, 2),D=2)\n",
    "thelist"
   ]
  },
  {
   "cell_type": "code",
   "execution_count": 163,
   "id": "047b410e",
   "metadata": {},
   "outputs": [
    {
     "data": {
      "text/html": [
       "<dl>\n",
       "\t<dt>$A</dt>\n",
       "\t\t<dd>45</dd>\n",
       "\t<dt>$B</dt>\n",
       "\t\t<dd>15</dd>\n",
       "\t<dt>$C</dt>\n",
       "\t\t<dd>10</dd>\n",
       "\t<dt>$D</dt>\n",
       "\t\t<dd>2</dd>\n",
       "</dl>\n"
      ],
      "text/latex": [
       "\\begin{description}\n",
       "\\item[\\$A] 45\n",
       "\\item[\\$B] 15\n",
       "\\item[\\$C] 10\n",
       "\\item[\\$D] 2\n",
       "\\end{description}\n"
      ],
      "text/markdown": [
       "$A\n",
       ":   45\n",
       "$B\n",
       ":   15\n",
       "$C\n",
       ":   10\n",
       "$D\n",
       ":   2\n",
       "\n",
       "\n"
      ],
      "text/plain": [
       "$A\n",
       "[1] 45\n",
       "\n",
       "$B\n",
       "[1] 15\n",
       "\n",
       "$C\n",
       "[1] 10\n",
       "\n",
       "$D\n",
       "[1] 2\n"
      ]
     },
     "metadata": {},
     "output_type": "display_data"
    }
   ],
   "source": [
    "lapply(thelist, sum)"
   ]
  },
  {
   "cell_type": "markdown",
   "id": "67b4142a",
   "metadata": {},
   "source": [
    "## Sapply in R\n",
    "Dealing with lists can be cumbersome, so to return the result of lapply as a vector instead, use sapply. It is exactly the same as lapply in every other way.\n",
    "$$sapply(list, function)$$"
   ]
  },
  {
   "cell_type": "code",
   "execution_count": 164,
   "id": "b0ca4da0",
   "metadata": {},
   "outputs": [
    {
     "data": {
      "text/html": [
       "<dl>\n",
       "\t<dt>$A</dt>\n",
       "\t\t<dd><table>\n",
       "<tbody>\n",
       "\t<tr><td>1</td><td>4</td><td>7</td></tr>\n",
       "\t<tr><td>2</td><td>5</td><td>8</td></tr>\n",
       "\t<tr><td>3</td><td>6</td><td>9</td></tr>\n",
       "</tbody>\n",
       "</table>\n",
       "</dd>\n",
       "\t<dt>$B</dt>\n",
       "\t\t<dd><ol class=list-inline>\n",
       "\t<li>1</li>\n",
       "\t<li>2</li>\n",
       "\t<li>3</li>\n",
       "\t<li>4</li>\n",
       "\t<li>5</li>\n",
       "</ol>\n",
       "</dd>\n",
       "\t<dt>$C</dt>\n",
       "\t\t<dd><table>\n",
       "<tbody>\n",
       "\t<tr><td>1</td><td>3</td></tr>\n",
       "\t<tr><td>2</td><td>4</td></tr>\n",
       "</tbody>\n",
       "</table>\n",
       "</dd>\n",
       "\t<dt>$D</dt>\n",
       "\t\t<dd>2</dd>\n",
       "</dl>\n"
      ],
      "text/latex": [
       "\\begin{description}\n",
       "\\item[\\$A] \\begin{tabular}{lll}\n",
       "\t 1 & 4 & 7\\\\\n",
       "\t 2 & 5 & 8\\\\\n",
       "\t 3 & 6 & 9\\\\\n",
       "\\end{tabular}\n",
       "\n",
       "\\item[\\$B] \\begin{enumerate*}\n",
       "\\item 1\n",
       "\\item 2\n",
       "\\item 3\n",
       "\\item 4\n",
       "\\item 5\n",
       "\\end{enumerate*}\n",
       "\n",
       "\\item[\\$C] \\begin{tabular}{ll}\n",
       "\t 1 & 3\\\\\n",
       "\t 2 & 4\\\\\n",
       "\\end{tabular}\n",
       "\n",
       "\\item[\\$D] 2\n",
       "\\end{description}\n"
      ],
      "text/markdown": [
       "$A\n",
       ":   \n",
       "| 1 | 4 | 7 |\n",
       "| 2 | 5 | 8 |\n",
       "| 3 | 6 | 9 |\n",
       "\n",
       "\n",
       "$B\n",
       ":   1. 1\n",
       "2. 2\n",
       "3. 3\n",
       "4. 4\n",
       "5. 5\n",
       "\n",
       "\n",
       "\n",
       "$C\n",
       ":   \n",
       "| 1 | 3 |\n",
       "| 2 | 4 |\n",
       "\n",
       "\n",
       "$D\n",
       ":   2\n",
       "\n",
       "\n"
      ],
      "text/plain": [
       "$A\n",
       "     [,1] [,2] [,3]\n",
       "[1,]    1    4    7\n",
       "[2,]    2    5    8\n",
       "[3,]    3    6    9\n",
       "\n",
       "$B\n",
       "[1] 1 2 3 4 5\n",
       "\n",
       "$C\n",
       "     [,1] [,2]\n",
       "[1,]    1    3\n",
       "[2,]    2    4\n",
       "\n",
       "$D\n",
       "[1] 2\n"
      ]
     },
     "metadata": {},
     "output_type": "display_data"
    }
   ],
   "source": [
    "thelist<- list(A=matrix(1:9, 3), B=1:5, C=matrix(1:4, 2),D=2)\n",
    "thelist"
   ]
  },
  {
   "cell_type": "code",
   "execution_count": 165,
   "id": "e5250151",
   "metadata": {},
   "outputs": [
    {
     "data": {
      "text/html": [
       "<dl class=dl-horizontal>\n",
       "\t<dt>A</dt>\n",
       "\t\t<dd>45</dd>\n",
       "\t<dt>B</dt>\n",
       "\t\t<dd>15</dd>\n",
       "\t<dt>C</dt>\n",
       "\t\t<dd>10</dd>\n",
       "\t<dt>D</dt>\n",
       "\t\t<dd>2</dd>\n",
       "</dl>\n"
      ],
      "text/latex": [
       "\\begin{description*}\n",
       "\\item[A] 45\n",
       "\\item[B] 15\n",
       "\\item[C] 10\n",
       "\\item[D] 2\n",
       "\\end{description*}\n"
      ],
      "text/markdown": [
       "A\n",
       ":   45B\n",
       ":   15C\n",
       ":   10D\n",
       ":   2\n",
       "\n"
      ],
      "text/plain": [
       " A  B  C  D \n",
       "45 15 10  2 "
      ]
     },
     "metadata": {},
     "output_type": "display_data"
    }
   ],
   "source": [
    "sapply(thelist, sum)"
   ]
  },
  {
   "cell_type": "markdown",
   "id": "7ca37d4d",
   "metadata": {},
   "source": [
    "## Mapply in R\n",
    "Perhaps the most-overlooked-when-so-useful member of the *apply* family is *mapply*, which applies a function to each element of multiple lists. Often, when confronted with this scenario, people will resort to using a loop, which is certainly not necessary. \n",
    "$$mapply(function, ...)$$"
   ]
  },
  {
   "cell_type": "code",
   "execution_count": 166,
   "id": "070ee9d2",
   "metadata": {},
   "outputs": [
    {
     "data": {
      "text/html": [
       "<dl class=dl-horizontal>\n",
       "\t<dt>A</dt>\n",
       "\t\t<dd>TRUE</dd>\n",
       "\t<dt>B</dt>\n",
       "\t\t<dd>FALSE</dd>\n",
       "\t<dt>C</dt>\n",
       "\t\t<dd>FALSE</dd>\n",
       "</dl>\n"
      ],
      "text/latex": [
       "\\begin{description*}\n",
       "\\item[A] TRUE\n",
       "\\item[B] FALSE\n",
       "\\item[C] FALSE\n",
       "\\end{description*}\n"
      ],
      "text/markdown": [
       "A\n",
       ":   TRUEB\n",
       ":   FALSEC\n",
       ":   FALSE\n",
       "\n"
      ],
      "text/plain": [
       "    A     B     C \n",
       " TRUE FALSE FALSE "
      ]
     },
     "metadata": {},
     "output_type": "display_data"
    }
   ],
   "source": [
    "## build two lists\n",
    "firstList <- list(A=matrix(1:16, 4), B=matrix(1:16, 2), C=1:5)\n",
    "secondList <- list(A=matrix(1:16, 4), B=matrix(1:16, 8), C=15:1)\n",
    "# test element-by-element if they are identical\n",
    "mapply(identical, firstList, secondList)"
   ]
  },
  {
   "cell_type": "code",
   "execution_count": 167,
   "id": "95834ecd",
   "metadata": {},
   "outputs": [
    {
     "data": {
      "text/html": [
       "<dl class=dl-horizontal>\n",
       "\t<dt>A</dt>\n",
       "\t\t<dd>8</dd>\n",
       "\t<dt>B</dt>\n",
       "\t\t<dd>10</dd>\n",
       "\t<dt>C</dt>\n",
       "\t\t<dd>20</dd>\n",
       "</dl>\n"
      ],
      "text/latex": [
       "\\begin{description*}\n",
       "\\item[A] 8\n",
       "\\item[B] 10\n",
       "\\item[C] 20\n",
       "\\end{description*}\n"
      ],
      "text/markdown": [
       "A\n",
       ":   8B\n",
       ":   10C\n",
       ":   20\n",
       "\n"
      ],
      "text/plain": [
       " A  B  C \n",
       " 8 10 20 "
      ]
     },
     "metadata": {},
     "output_type": "display_data"
    }
   ],
   "source": [
    "# build a simple function\n",
    "# it adds the number of rows (or length) of each corresponding element\n",
    "simpleFunc <- function(x, y)\n",
    " {\n",
    " NROW(x) + NROW(y)\n",
    "  }\n",
    "# apply the function to the two lists\n",
    "mapply(simpleFunc, firstList, secondList)"
   ]
  }
 ],
 "metadata": {
  "kernelspec": {
   "display_name": "R",
   "language": "R",
   "name": "ir"
  },
  "language_info": {
   "codemirror_mode": "r",
   "file_extension": ".r",
   "mimetype": "text/x-r-source",
   "name": "R",
   "pygments_lexer": "r",
   "version": "3.6.1"
  },
  "nbTranslate": {
   "displayLangs": [
    "*"
   ],
   "hotkey": "alt-t",
   "langInMainMenu": true,
   "sourceLang": "en",
   "targetLang": "fr",
   "useGoogleTranslate": true
  },
  "toc": {
   "base_numbering": 1,
   "nav_menu": {},
   "number_sections": true,
   "sideBar": true,
   "skip_h1_title": false,
   "title_cell": "Table of Contents",
   "title_sidebar": "Contents",
   "toc_cell": false,
   "toc_position": {},
   "toc_section_display": true,
   "toc_window_display": false
  },
  "varInspector": {
   "cols": {
    "lenName": 16,
    "lenType": 16,
    "lenVar": 40
   },
   "kernels_config": {
    "python": {
     "delete_cmd_postfix": "",
     "delete_cmd_prefix": "del ",
     "library": "var_list.py",
     "varRefreshCmd": "print(var_dic_list())"
    },
    "r": {
     "delete_cmd_postfix": ") ",
     "delete_cmd_prefix": "rm(",
     "library": "var_list.r",
     "varRefreshCmd": "cat(var_dic_list()) "
    }
   },
   "types_to_exclude": [
    "module",
    "function",
    "builtin_function_or_method",
    "instance",
    "_Feature"
   ],
   "window_display": false
  }
 },
 "nbformat": 4,
 "nbformat_minor": 5
}
